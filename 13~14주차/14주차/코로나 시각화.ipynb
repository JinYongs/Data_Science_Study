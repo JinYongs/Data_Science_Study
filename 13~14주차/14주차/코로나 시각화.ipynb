{
 "cells": [
  {
   "cell_type": "code",
   "execution_count": 1,
   "metadata": {},
   "outputs": [],
   "source": [
    "# data preprocessing\n",
    "import pandas as pd\n",
    "import numpy as np\n",
    "from scipy.stats import norm\n",
    "from sklearn.preprocessing import StandardScaler\n",
    "from scipy import stats\n",
    "\n",
    "# visualization\n",
    "import seaborn as sns\n",
    "import matplotlib.pyplot as plt\n",
    "%matplotlib inline\n",
    "import plotly.express as px\n",
    "\n",
    "# 글꼴\n",
    "plt.rc('font', family='NanumGothic')\n",
    "\n",
    "# ignore warining\n",
    "import warnings\n",
    "warnings.filterwarnings('ignore')\n",
    "\n",
    "#modeling\n",
    "from sklearn.preprocessing import LabelEncoder\n",
    "\n",
    "#Time Indexing\n",
    "from datetime import datetime\n"
   ]
  },
  {
   "cell_type": "code",
   "execution_count": 2,
   "metadata": {},
   "outputs": [],
   "source": [
    "card= pd.read_csv('C:/jupyter_project/CORONA/card.csv',dtype={'CODE':np.str})"
   ]
  },
  {
   "cell_type": "markdown",
   "metadata": {},
   "source": [
    "## 카드 데이터 변수\n",
    "\n",
    "1. receipt_dttm: 카드회사가 카드사용내역을 접수한일자\n",
    "\n",
    "2. adstrd_code: 가맹점 위치 기준 행정동 코드\n",
    "\n",
    "3. adstrd_nm: 가맹점 위치 기준 행정동명\n",
    "\n",
    "4. mrhst_induty_cl_code: 가맹점 업종코드\n",
    "\n",
    "5. mrhst_induty_cl_nm: 가맹점 업종명\n",
    "\n",
    "6. selng_cascnt: 매출발생건수\n",
    "\n",
    "7. salamt: 매출발생금액"
   ]
  },
  {
   "cell_type": "code",
   "execution_count": 3,
   "metadata": {},
   "outputs": [
    {
     "data": {
      "text/plain": [
       "(3777647, 7)"
      ]
     },
     "execution_count": 3,
     "metadata": {},
     "output_type": "execute_result"
    }
   ],
   "source": [
    "card.shape"
   ]
  },
  {
   "cell_type": "code",
   "execution_count": 4,
   "metadata": {},
   "outputs": [
    {
     "data": {
      "text/html": [
       "<div>\n",
       "<style scoped>\n",
       "    .dataframe tbody tr th:only-of-type {\n",
       "        vertical-align: middle;\n",
       "    }\n",
       "\n",
       "    .dataframe tbody tr th {\n",
       "        vertical-align: top;\n",
       "    }\n",
       "\n",
       "    .dataframe thead th {\n",
       "        text-align: right;\n",
       "    }\n",
       "</style>\n",
       "<table border=\"1\" class=\"dataframe\">\n",
       "  <thead>\n",
       "    <tr style=\"text-align: right;\">\n",
       "      <th></th>\n",
       "      <th>receipt_dttm</th>\n",
       "      <th>adstrd_code</th>\n",
       "      <th>adstrd_nm</th>\n",
       "      <th>mrhst_induty_cl_code</th>\n",
       "      <th>mrhst_induty_cl_nm</th>\n",
       "      <th>selng_cascnt</th>\n",
       "      <th>salamt</th>\n",
       "    </tr>\n",
       "  </thead>\n",
       "  <tbody>\n",
       "    <tr>\n",
       "      <th>0</th>\n",
       "      <td>20200104</td>\n",
       "      <td>1174066000</td>\n",
       "      <td>성내3동</td>\n",
       "      <td>7041</td>\n",
       "      <td>약국</td>\n",
       "      <td>463</td>\n",
       "      <td>5843230</td>\n",
       "    </tr>\n",
       "    <tr>\n",
       "      <th>1</th>\n",
       "      <td>20200104</td>\n",
       "      <td>1174066000</td>\n",
       "      <td>성내3동</td>\n",
       "      <td>7022</td>\n",
       "      <td>치과의원</td>\n",
       "      <td>33</td>\n",
       "      <td>7835550</td>\n",
       "    </tr>\n",
       "    <tr>\n",
       "      <th>2</th>\n",
       "      <td>20200104</td>\n",
       "      <td>1174066000</td>\n",
       "      <td>성내3동</td>\n",
       "      <td>7021</td>\n",
       "      <td>한의원</td>\n",
       "      <td>53</td>\n",
       "      <td>4589800</td>\n",
       "    </tr>\n",
       "    <tr>\n",
       "      <th>3</th>\n",
       "      <td>20200104</td>\n",
       "      <td>1174066000</td>\n",
       "      <td>성내3동</td>\n",
       "      <td>7020</td>\n",
       "      <td>의원</td>\n",
       "      <td>339</td>\n",
       "      <td>9267240</td>\n",
       "    </tr>\n",
       "    <tr>\n",
       "      <th>4</th>\n",
       "      <td>20200104</td>\n",
       "      <td>1174066000</td>\n",
       "      <td>성내3동</td>\n",
       "      <td>6110</td>\n",
       "      <td>자동차정비</td>\n",
       "      <td>19</td>\n",
       "      <td>4441000</td>\n",
       "    </tr>\n",
       "  </tbody>\n",
       "</table>\n",
       "</div>"
      ],
      "text/plain": [
       "   receipt_dttm  adstrd_code adstrd_nm  mrhst_induty_cl_code  \\\n",
       "0      20200104   1174066000      성내3동                  7041   \n",
       "1      20200104   1174066000      성내3동                  7022   \n",
       "2      20200104   1174066000      성내3동                  7021   \n",
       "3      20200104   1174066000      성내3동                  7020   \n",
       "4      20200104   1174066000      성내3동                  6110   \n",
       "\n",
       "  mrhst_induty_cl_nm selng_cascnt   salamt  \n",
       "0                 약국          463  5843230  \n",
       "1               치과의원           33  7835550  \n",
       "2                한의원           53  4589800  \n",
       "3                 의원          339  9267240  \n",
       "4              자동차정비           19  4441000  "
      ]
     },
     "execution_count": 4,
     "metadata": {},
     "output_type": "execute_result"
    }
   ],
   "source": [
    "card.head()"
   ]
  },
  {
   "cell_type": "markdown",
   "metadata": {},
   "source": [
    "## 행정동 데이터 불러오기"
   ]
  },
  {
   "cell_type": "code",
   "execution_count": 5,
   "metadata": {},
   "outputs": [],
   "source": [
    "local= pd.read_csv('C:/jupyter_project/CORONA/adstrd_master.csv',dtype={'CODE':np.str})"
   ]
  },
  {
   "cell_type": "code",
   "execution_count": 6,
   "metadata": {},
   "outputs": [
    {
     "data": {
      "text/plain": [
       "(3493, 4)"
      ]
     },
     "execution_count": 6,
     "metadata": {},
     "output_type": "execute_result"
    }
   ],
   "source": [
    "local.shape"
   ]
  },
  {
   "cell_type": "code",
   "execution_count": 7,
   "metadata": {},
   "outputs": [
    {
     "name": "stdout",
     "output_type": "stream",
     "text": [
      "<class 'pandas.core.frame.DataFrame'>\n",
      "RangeIndex: 3777647 entries, 0 to 3777646\n",
      "Data columns (total 7 columns):\n",
      " #   Column                Dtype \n",
      "---  ------                ----- \n",
      " 0   receipt_dttm          int64 \n",
      " 1   adstrd_code           int64 \n",
      " 2   adstrd_nm             object\n",
      " 3   mrhst_induty_cl_code  int64 \n",
      " 4   mrhst_induty_cl_nm    object\n",
      " 5   selng_cascnt          object\n",
      " 6   salamt                object\n",
      "dtypes: int64(3), object(4)\n",
      "memory usage: 201.7+ MB\n"
     ]
    }
   ],
   "source": [
    "# 매툴발생건수와 매출발생금약 숫자형 변수로 변환\n",
    "\n",
    "card.info()"
   ]
  },
  {
   "cell_type": "markdown",
   "metadata": {},
   "source": [
    "## card 데이터와 local 데이터 합치기"
   ]
  },
  {
   "cell_type": "code",
   "execution_count": 8,
   "metadata": {},
   "outputs": [
    {
     "name": "stdout",
     "output_type": "stream",
     "text": [
      "<class 'pandas.core.frame.DataFrame'>\n",
      "RangeIndex: 3493 entries, 0 to 3492\n",
      "Data columns (total 4 columns):\n",
      " #   Column       Non-Null Count  Dtype  \n",
      "---  ------       --------------  -----  \n",
      " 0   adstrd_code  3493 non-null   float64\n",
      " 1   adstrd_nm    3493 non-null   object \n",
      " 2   brtc_nm      3493 non-null   object \n",
      " 3   signgu_nm    3474 non-null   object \n",
      "dtypes: float64(1), object(3)\n",
      "memory usage: 109.3+ KB\n"
     ]
    }
   ],
   "source": [
    "# card와 동일한 행정id 변수로 합치기\n",
    "\n",
    "local.info()"
   ]
  },
  {
   "cell_type": "code",
   "execution_count": 9,
   "metadata": {},
   "outputs": [],
   "source": [
    "local['adstrd_code'] = local['adstrd_code'].astype(int)"
   ]
  },
  {
   "cell_type": "code",
   "execution_count": 10,
   "metadata": {},
   "outputs": [
    {
     "data": {
      "text/html": [
       "<div>\n",
       "<style scoped>\n",
       "    .dataframe tbody tr th:only-of-type {\n",
       "        vertical-align: middle;\n",
       "    }\n",
       "\n",
       "    .dataframe tbody tr th {\n",
       "        vertical-align: top;\n",
       "    }\n",
       "\n",
       "    .dataframe thead th {\n",
       "        text-align: right;\n",
       "    }\n",
       "</style>\n",
       "<table border=\"1\" class=\"dataframe\">\n",
       "  <thead>\n",
       "    <tr style=\"text-align: right;\">\n",
       "      <th></th>\n",
       "      <th>adstrd_code</th>\n",
       "      <th>adstrd_nm</th>\n",
       "      <th>brtc_nm</th>\n",
       "      <th>signgu_nm</th>\n",
       "    </tr>\n",
       "  </thead>\n",
       "  <tbody>\n",
       "    <tr>\n",
       "      <th>0</th>\n",
       "      <td>11110515</td>\n",
       "      <td>청운효자동</td>\n",
       "      <td>서울특별시</td>\n",
       "      <td>종로구</td>\n",
       "    </tr>\n",
       "    <tr>\n",
       "      <th>1</th>\n",
       "      <td>11110530</td>\n",
       "      <td>사직동</td>\n",
       "      <td>서울특별시</td>\n",
       "      <td>종로구</td>\n",
       "    </tr>\n",
       "    <tr>\n",
       "      <th>2</th>\n",
       "      <td>11110540</td>\n",
       "      <td>삼청동</td>\n",
       "      <td>서울특별시</td>\n",
       "      <td>종로구</td>\n",
       "    </tr>\n",
       "    <tr>\n",
       "      <th>3</th>\n",
       "      <td>11110550</td>\n",
       "      <td>부암동</td>\n",
       "      <td>서울특별시</td>\n",
       "      <td>종로구</td>\n",
       "    </tr>\n",
       "    <tr>\n",
       "      <th>4</th>\n",
       "      <td>11110560</td>\n",
       "      <td>평창동</td>\n",
       "      <td>서울특별시</td>\n",
       "      <td>종로구</td>\n",
       "    </tr>\n",
       "  </tbody>\n",
       "</table>\n",
       "</div>"
      ],
      "text/plain": [
       "   adstrd_code adstrd_nm brtc_nm signgu_nm\n",
       "0     11110515     청운효자동   서울특별시       종로구\n",
       "1     11110530       사직동   서울특별시       종로구\n",
       "2     11110540       삼청동   서울특별시       종로구\n",
       "3     11110550       부암동   서울특별시       종로구\n",
       "4     11110560       평창동   서울특별시       종로구"
      ]
     },
     "execution_count": 10,
     "metadata": {},
     "output_type": "execute_result"
    }
   ],
   "source": [
    "local.head()"
   ]
  },
  {
   "cell_type": "code",
   "execution_count": 11,
   "metadata": {},
   "outputs": [],
   "source": [
    "card['adstrd_code'] = card['adstrd_code']/100"
   ]
  },
  {
   "cell_type": "code",
   "execution_count": 12,
   "metadata": {},
   "outputs": [],
   "source": [
    "card['adstrd_code'] = card['adstrd_code'].astype(int)"
   ]
  },
  {
   "cell_type": "code",
   "execution_count": 13,
   "metadata": {},
   "outputs": [
    {
     "data": {
      "text/html": [
       "<div>\n",
       "<style scoped>\n",
       "    .dataframe tbody tr th:only-of-type {\n",
       "        vertical-align: middle;\n",
       "    }\n",
       "\n",
       "    .dataframe tbody tr th {\n",
       "        vertical-align: top;\n",
       "    }\n",
       "\n",
       "    .dataframe thead th {\n",
       "        text-align: right;\n",
       "    }\n",
       "</style>\n",
       "<table border=\"1\" class=\"dataframe\">\n",
       "  <thead>\n",
       "    <tr style=\"text-align: right;\">\n",
       "      <th></th>\n",
       "      <th>receipt_dttm</th>\n",
       "      <th>adstrd_code</th>\n",
       "      <th>adstrd_nm</th>\n",
       "      <th>mrhst_induty_cl_code</th>\n",
       "      <th>mrhst_induty_cl_nm</th>\n",
       "      <th>selng_cascnt</th>\n",
       "      <th>salamt</th>\n",
       "    </tr>\n",
       "  </thead>\n",
       "  <tbody>\n",
       "    <tr>\n",
       "      <th>0</th>\n",
       "      <td>20200104</td>\n",
       "      <td>11740660</td>\n",
       "      <td>성내3동</td>\n",
       "      <td>7041</td>\n",
       "      <td>약국</td>\n",
       "      <td>463</td>\n",
       "      <td>5843230</td>\n",
       "    </tr>\n",
       "    <tr>\n",
       "      <th>1</th>\n",
       "      <td>20200104</td>\n",
       "      <td>11740660</td>\n",
       "      <td>성내3동</td>\n",
       "      <td>7022</td>\n",
       "      <td>치과의원</td>\n",
       "      <td>33</td>\n",
       "      <td>7835550</td>\n",
       "    </tr>\n",
       "    <tr>\n",
       "      <th>2</th>\n",
       "      <td>20200104</td>\n",
       "      <td>11740660</td>\n",
       "      <td>성내3동</td>\n",
       "      <td>7021</td>\n",
       "      <td>한의원</td>\n",
       "      <td>53</td>\n",
       "      <td>4589800</td>\n",
       "    </tr>\n",
       "    <tr>\n",
       "      <th>3</th>\n",
       "      <td>20200104</td>\n",
       "      <td>11740660</td>\n",
       "      <td>성내3동</td>\n",
       "      <td>7020</td>\n",
       "      <td>의원</td>\n",
       "      <td>339</td>\n",
       "      <td>9267240</td>\n",
       "    </tr>\n",
       "    <tr>\n",
       "      <th>4</th>\n",
       "      <td>20200104</td>\n",
       "      <td>11740660</td>\n",
       "      <td>성내3동</td>\n",
       "      <td>6110</td>\n",
       "      <td>자동차정비</td>\n",
       "      <td>19</td>\n",
       "      <td>4441000</td>\n",
       "    </tr>\n",
       "  </tbody>\n",
       "</table>\n",
       "</div>"
      ],
      "text/plain": [
       "   receipt_dttm  adstrd_code adstrd_nm  mrhst_induty_cl_code  \\\n",
       "0      20200104     11740660      성내3동                  7041   \n",
       "1      20200104     11740660      성내3동                  7022   \n",
       "2      20200104     11740660      성내3동                  7021   \n",
       "3      20200104     11740660      성내3동                  7020   \n",
       "4      20200104     11740660      성내3동                  6110   \n",
       "\n",
       "  mrhst_induty_cl_nm selng_cascnt   salamt  \n",
       "0                 약국          463  5843230  \n",
       "1               치과의원           33  7835550  \n",
       "2                한의원           53  4589800  \n",
       "3                 의원          339  9267240  \n",
       "4              자동차정비           19  4441000  "
      ]
     },
     "execution_count": 13,
     "metadata": {},
     "output_type": "execute_result"
    }
   ],
   "source": [
    "card.head()"
   ]
  },
  {
   "cell_type": "code",
   "execution_count": 14,
   "metadata": {},
   "outputs": [],
   "source": [
    "card=pd.merge(card, local, on='adstrd_code')"
   ]
  },
  {
   "cell_type": "code",
   "execution_count": 15,
   "metadata": {},
   "outputs": [
    {
     "data": {
      "text/html": [
       "<div>\n",
       "<style scoped>\n",
       "    .dataframe tbody tr th:only-of-type {\n",
       "        vertical-align: middle;\n",
       "    }\n",
       "\n",
       "    .dataframe tbody tr th {\n",
       "        vertical-align: top;\n",
       "    }\n",
       "\n",
       "    .dataframe thead th {\n",
       "        text-align: right;\n",
       "    }\n",
       "</style>\n",
       "<table border=\"1\" class=\"dataframe\">\n",
       "  <thead>\n",
       "    <tr style=\"text-align: right;\">\n",
       "      <th></th>\n",
       "      <th>receipt_dttm</th>\n",
       "      <th>adstrd_code</th>\n",
       "      <th>adstrd_nm_x</th>\n",
       "      <th>mrhst_induty_cl_code</th>\n",
       "      <th>mrhst_induty_cl_nm</th>\n",
       "      <th>selng_cascnt</th>\n",
       "      <th>salamt</th>\n",
       "      <th>adstrd_nm_y</th>\n",
       "      <th>brtc_nm</th>\n",
       "      <th>signgu_nm</th>\n",
       "    </tr>\n",
       "  </thead>\n",
       "  <tbody>\n",
       "    <tr>\n",
       "      <th>0</th>\n",
       "      <td>20200104</td>\n",
       "      <td>11740660</td>\n",
       "      <td>성내3동</td>\n",
       "      <td>7041</td>\n",
       "      <td>약국</td>\n",
       "      <td>463</td>\n",
       "      <td>5843230</td>\n",
       "      <td>성내3동</td>\n",
       "      <td>서울특별시</td>\n",
       "      <td>강동구</td>\n",
       "    </tr>\n",
       "    <tr>\n",
       "      <th>1</th>\n",
       "      <td>20200104</td>\n",
       "      <td>11740660</td>\n",
       "      <td>성내3동</td>\n",
       "      <td>7022</td>\n",
       "      <td>치과의원</td>\n",
       "      <td>33</td>\n",
       "      <td>7835550</td>\n",
       "      <td>성내3동</td>\n",
       "      <td>서울특별시</td>\n",
       "      <td>강동구</td>\n",
       "    </tr>\n",
       "    <tr>\n",
       "      <th>2</th>\n",
       "      <td>20200104</td>\n",
       "      <td>11740660</td>\n",
       "      <td>성내3동</td>\n",
       "      <td>7021</td>\n",
       "      <td>한의원</td>\n",
       "      <td>53</td>\n",
       "      <td>4589800</td>\n",
       "      <td>성내3동</td>\n",
       "      <td>서울특별시</td>\n",
       "      <td>강동구</td>\n",
       "    </tr>\n",
       "    <tr>\n",
       "      <th>3</th>\n",
       "      <td>20200104</td>\n",
       "      <td>11740660</td>\n",
       "      <td>성내3동</td>\n",
       "      <td>7020</td>\n",
       "      <td>의원</td>\n",
       "      <td>339</td>\n",
       "      <td>9267240</td>\n",
       "      <td>성내3동</td>\n",
       "      <td>서울특별시</td>\n",
       "      <td>강동구</td>\n",
       "    </tr>\n",
       "    <tr>\n",
       "      <th>4</th>\n",
       "      <td>20200104</td>\n",
       "      <td>11740660</td>\n",
       "      <td>성내3동</td>\n",
       "      <td>6110</td>\n",
       "      <td>자동차정비</td>\n",
       "      <td>19</td>\n",
       "      <td>4441000</td>\n",
       "      <td>성내3동</td>\n",
       "      <td>서울특별시</td>\n",
       "      <td>강동구</td>\n",
       "    </tr>\n",
       "  </tbody>\n",
       "</table>\n",
       "</div>"
      ],
      "text/plain": [
       "   receipt_dttm  adstrd_code adstrd_nm_x  mrhst_induty_cl_code  \\\n",
       "0      20200104     11740660        성내3동                  7041   \n",
       "1      20200104     11740660        성내3동                  7022   \n",
       "2      20200104     11740660        성내3동                  7021   \n",
       "3      20200104     11740660        성내3동                  7020   \n",
       "4      20200104     11740660        성내3동                  6110   \n",
       "\n",
       "  mrhst_induty_cl_nm selng_cascnt   salamt adstrd_nm_y brtc_nm signgu_nm  \n",
       "0                 약국          463  5843230        성내3동   서울특별시       강동구  \n",
       "1               치과의원           33  7835550        성내3동   서울특별시       강동구  \n",
       "2                한의원           53  4589800        성내3동   서울특별시       강동구  \n",
       "3                 의원          339  9267240        성내3동   서울특별시       강동구  \n",
       "4              자동차정비           19  4441000        성내3동   서울특별시       강동구  "
      ]
     },
     "execution_count": 15,
     "metadata": {},
     "output_type": "execute_result"
    }
   ],
   "source": [
    "card.head()"
   ]
  },
  {
   "cell_type": "code",
   "execution_count": 16,
   "metadata": {},
   "outputs": [
    {
     "name": "stdout",
     "output_type": "stream",
     "text": [
      "<class 'pandas.core.frame.DataFrame'>\n",
      "Int64Index: 3777647 entries, 0 to 3777646\n",
      "Data columns (total 10 columns):\n",
      " #   Column                Dtype \n",
      "---  ------                ----- \n",
      " 0   receipt_dttm          int64 \n",
      " 1   adstrd_code           int32 \n",
      " 2   adstrd_nm_x           object\n",
      " 3   mrhst_induty_cl_code  int64 \n",
      " 4   mrhst_induty_cl_nm    object\n",
      " 5   selng_cascnt          object\n",
      " 6   salamt                object\n",
      " 7   adstrd_nm_y           object\n",
      " 8   brtc_nm               object\n",
      " 9   signgu_nm             object\n",
      "dtypes: int32(1), int64(2), object(7)\n",
      "memory usage: 302.6+ MB\n"
     ]
    }
   ],
   "source": [
    "card.info()"
   ]
  },
  {
   "cell_type": "code",
   "execution_count": 17,
   "metadata": {},
   "outputs": [],
   "source": [
    "#adstrd_nm_x와 y 데이터 2개 있으니 한 개 버림\n",
    "\n",
    "card = card.drop('adstrd_nm_x',axis=1)"
   ]
  },
  {
   "cell_type": "markdown",
   "metadata": {},
   "source": [
    "### 결측치 확인"
   ]
  },
  {
   "cell_type": "code",
   "execution_count": 18,
   "metadata": {},
   "outputs": [],
   "source": [
    "total = card.isnull().sum()\n",
    "percent = (card.isnull().sum() / card.isnull().count()*100)"
   ]
  },
  {
   "cell_type": "code",
   "execution_count": 19,
   "metadata": {},
   "outputs": [
    {
     "data": {
      "text/html": [
       "<div>\n",
       "<style scoped>\n",
       "    .dataframe tbody tr th:only-of-type {\n",
       "        vertical-align: middle;\n",
       "    }\n",
       "\n",
       "    .dataframe tbody tr th {\n",
       "        vertical-align: top;\n",
       "    }\n",
       "\n",
       "    .dataframe thead th {\n",
       "        text-align: right;\n",
       "    }\n",
       "</style>\n",
       "<table border=\"1\" class=\"dataframe\">\n",
       "  <thead>\n",
       "    <tr style=\"text-align: right;\">\n",
       "      <th></th>\n",
       "      <th>Total</th>\n",
       "      <th>Percent</th>\n",
       "    </tr>\n",
       "  </thead>\n",
       "  <tbody>\n",
       "    <tr>\n",
       "      <th>receipt_dttm</th>\n",
       "      <td>0</td>\n",
       "      <td>0.0</td>\n",
       "    </tr>\n",
       "    <tr>\n",
       "      <th>adstrd_code</th>\n",
       "      <td>0</td>\n",
       "      <td>0.0</td>\n",
       "    </tr>\n",
       "    <tr>\n",
       "      <th>mrhst_induty_cl_code</th>\n",
       "      <td>0</td>\n",
       "      <td>0.0</td>\n",
       "    </tr>\n",
       "    <tr>\n",
       "      <th>mrhst_induty_cl_nm</th>\n",
       "      <td>0</td>\n",
       "      <td>0.0</td>\n",
       "    </tr>\n",
       "    <tr>\n",
       "      <th>selng_cascnt</th>\n",
       "      <td>0</td>\n",
       "      <td>0.0</td>\n",
       "    </tr>\n",
       "    <tr>\n",
       "      <th>salamt</th>\n",
       "      <td>0</td>\n",
       "      <td>0.0</td>\n",
       "    </tr>\n",
       "    <tr>\n",
       "      <th>adstrd_nm_y</th>\n",
       "      <td>0</td>\n",
       "      <td>0.0</td>\n",
       "    </tr>\n",
       "    <tr>\n",
       "      <th>brtc_nm</th>\n",
       "      <td>0</td>\n",
       "      <td>0.0</td>\n",
       "    </tr>\n",
       "    <tr>\n",
       "      <th>signgu_nm</th>\n",
       "      <td>0</td>\n",
       "      <td>0.0</td>\n",
       "    </tr>\n",
       "  </tbody>\n",
       "</table>\n",
       "</div>"
      ],
      "text/plain": [
       "                      Total  Percent\n",
       "receipt_dttm              0      0.0\n",
       "adstrd_code               0      0.0\n",
       "mrhst_induty_cl_code      0      0.0\n",
       "mrhst_induty_cl_nm        0      0.0\n",
       "selng_cascnt              0      0.0\n",
       "salamt                    0      0.0\n",
       "adstrd_nm_y               0      0.0\n",
       "brtc_nm                   0      0.0\n",
       "signgu_nm                 0      0.0"
      ]
     },
     "execution_count": 19,
     "metadata": {},
     "output_type": "execute_result"
    }
   ],
   "source": [
    "# 결측치 존재하지 않음\n",
    "\n",
    "pd.concat([total, percent], axis=1, keys=['Total', 'Percent']).sort_values(by='Percent', ascending=False).head(30)"
   ]
  },
  {
   "cell_type": "markdown",
   "metadata": {},
   "source": [
    "## datetime 형식으로 바꾸기"
   ]
  },
  {
   "cell_type": "code",
   "execution_count": 20,
   "metadata": {},
   "outputs": [
    {
     "name": "stdout",
     "output_type": "stream",
     "text": [
      "0         2020-01-04 00:00:00+00:00\n",
      "1         2020-01-04 00:00:00+00:00\n",
      "2         2020-01-04 00:00:00+00:00\n",
      "3         2020-01-04 00:00:00+00:00\n",
      "4         2020-01-04 00:00:00+00:00\n",
      "                     ...           \n",
      "3777642   2020-06-14 00:00:00+00:00\n",
      "3777643   2020-06-14 00:00:00+00:00\n",
      "3777644   2020-06-14 00:00:00+00:00\n",
      "3777645   2020-06-14 00:00:00+00:00\n",
      "3777646   2020-06-14 00:00:00+00:00\n",
      "Name: receipt_dttm, Length: 3777647, dtype: datetime64[ns, UTC]\n"
     ]
    }
   ],
   "source": [
    "card['receipt_dttm'] = card['receipt_dttm'].astype(str)\n",
    "card['receipt_dttm'] = pd.to_datetime(card['receipt_dttm'])\n",
    "card['receipt_dttm'] = card['receipt_dttm'].dt.tz_localize('UTC')\n",
    "print(card['receipt_dttm'])"
   ]
  },
  {
   "cell_type": "code",
   "execution_count": 21,
   "metadata": {},
   "outputs": [
    {
     "name": "stdout",
     "output_type": "stream",
     "text": [
      "<class 'pandas.core.frame.DataFrame'>\n",
      "Int64Index: 3777647 entries, 0 to 3777646\n",
      "Data columns (total 9 columns):\n",
      " #   Column                Dtype              \n",
      "---  ------                -----              \n",
      " 0   receipt_dttm          datetime64[ns, UTC]\n",
      " 1   adstrd_code           int32              \n",
      " 2   mrhst_induty_cl_code  int64              \n",
      " 3   mrhst_induty_cl_nm    object             \n",
      " 4   selng_cascnt          object             \n",
      " 5   salamt                object             \n",
      " 6   adstrd_nm_y           object             \n",
      " 7   brtc_nm               object             \n",
      " 8   signgu_nm             object             \n",
      "dtypes: datetime64[ns, UTC](1), int32(1), int64(1), object(6)\n",
      "memory usage: 273.8+ MB\n"
     ]
    }
   ],
   "source": [
    "card.info()"
   ]
  },
  {
   "cell_type": "code",
   "execution_count": 22,
   "metadata": {},
   "outputs": [],
   "source": [
    "import calendar "
   ]
  },
  {
   "cell_type": "code",
   "execution_count": 23,
   "metadata": {},
   "outputs": [],
   "source": [
    "card[\"year\"] = card['receipt_dttm'].dt.year\n",
    "card[\"month\"] = card['receipt_dttm'].dt.month\n",
    "card[\"day\"] = card['receipt_dttm'].dt.day\n",
    "card[\"weekday\"] = card['receipt_dttm'].dt.weekday"
   ]
  },
  {
   "cell_type": "code",
   "execution_count": 24,
   "metadata": {},
   "outputs": [],
   "source": [
    "card['weekday']= card.weekday.astype('category')"
   ]
  },
  {
   "cell_type": "code",
   "execution_count": 25,
   "metadata": {},
   "outputs": [
    {
     "name": "stdout",
     "output_type": "stream",
     "text": [
      "Int64Index([0, 1, 2, 3, 4, 5, 6], dtype='int64')\n"
     ]
    }
   ],
   "source": [
    "print(card['weekday'].cat.categories)"
   ]
  },
  {
   "cell_type": "code",
   "execution_count": 26,
   "metadata": {},
   "outputs": [],
   "source": [
    "# 요일 이해하기 쉽게 범주화\n",
    "\n",
    "card.weekday.cat.categories = ['1','2','3','4','5','6','7']"
   ]
  },
  {
   "cell_type": "code",
   "execution_count": 27,
   "metadata": {},
   "outputs": [
    {
     "data": {
      "text/html": [
       "<div>\n",
       "<style scoped>\n",
       "    .dataframe tbody tr th:only-of-type {\n",
       "        vertical-align: middle;\n",
       "    }\n",
       "\n",
       "    .dataframe tbody tr th {\n",
       "        vertical-align: top;\n",
       "    }\n",
       "\n",
       "    .dataframe thead th {\n",
       "        text-align: right;\n",
       "    }\n",
       "</style>\n",
       "<table border=\"1\" class=\"dataframe\">\n",
       "  <thead>\n",
       "    <tr style=\"text-align: right;\">\n",
       "      <th></th>\n",
       "      <th>receipt_dttm</th>\n",
       "      <th>adstrd_code</th>\n",
       "      <th>mrhst_induty_cl_code</th>\n",
       "      <th>mrhst_induty_cl_nm</th>\n",
       "      <th>selng_cascnt</th>\n",
       "      <th>salamt</th>\n",
       "      <th>adstrd_nm_y</th>\n",
       "      <th>brtc_nm</th>\n",
       "      <th>signgu_nm</th>\n",
       "      <th>year</th>\n",
       "      <th>month</th>\n",
       "      <th>day</th>\n",
       "      <th>weekday</th>\n",
       "    </tr>\n",
       "  </thead>\n",
       "  <tbody>\n",
       "    <tr>\n",
       "      <th>0</th>\n",
       "      <td>2020-01-04 00:00:00+00:00</td>\n",
       "      <td>11740660</td>\n",
       "      <td>7041</td>\n",
       "      <td>약국</td>\n",
       "      <td>463</td>\n",
       "      <td>5843230</td>\n",
       "      <td>성내3동</td>\n",
       "      <td>서울특별시</td>\n",
       "      <td>강동구</td>\n",
       "      <td>2020</td>\n",
       "      <td>1</td>\n",
       "      <td>4</td>\n",
       "      <td>6</td>\n",
       "    </tr>\n",
       "    <tr>\n",
       "      <th>1</th>\n",
       "      <td>2020-01-04 00:00:00+00:00</td>\n",
       "      <td>11740660</td>\n",
       "      <td>7022</td>\n",
       "      <td>치과의원</td>\n",
       "      <td>33</td>\n",
       "      <td>7835550</td>\n",
       "      <td>성내3동</td>\n",
       "      <td>서울특별시</td>\n",
       "      <td>강동구</td>\n",
       "      <td>2020</td>\n",
       "      <td>1</td>\n",
       "      <td>4</td>\n",
       "      <td>6</td>\n",
       "    </tr>\n",
       "    <tr>\n",
       "      <th>2</th>\n",
       "      <td>2020-01-04 00:00:00+00:00</td>\n",
       "      <td>11740660</td>\n",
       "      <td>7021</td>\n",
       "      <td>한의원</td>\n",
       "      <td>53</td>\n",
       "      <td>4589800</td>\n",
       "      <td>성내3동</td>\n",
       "      <td>서울특별시</td>\n",
       "      <td>강동구</td>\n",
       "      <td>2020</td>\n",
       "      <td>1</td>\n",
       "      <td>4</td>\n",
       "      <td>6</td>\n",
       "    </tr>\n",
       "    <tr>\n",
       "      <th>3</th>\n",
       "      <td>2020-01-04 00:00:00+00:00</td>\n",
       "      <td>11740660</td>\n",
       "      <td>7020</td>\n",
       "      <td>의원</td>\n",
       "      <td>339</td>\n",
       "      <td>9267240</td>\n",
       "      <td>성내3동</td>\n",
       "      <td>서울특별시</td>\n",
       "      <td>강동구</td>\n",
       "      <td>2020</td>\n",
       "      <td>1</td>\n",
       "      <td>4</td>\n",
       "      <td>6</td>\n",
       "    </tr>\n",
       "    <tr>\n",
       "      <th>4</th>\n",
       "      <td>2020-01-04 00:00:00+00:00</td>\n",
       "      <td>11740660</td>\n",
       "      <td>6110</td>\n",
       "      <td>자동차정비</td>\n",
       "      <td>19</td>\n",
       "      <td>4441000</td>\n",
       "      <td>성내3동</td>\n",
       "      <td>서울특별시</td>\n",
       "      <td>강동구</td>\n",
       "      <td>2020</td>\n",
       "      <td>1</td>\n",
       "      <td>4</td>\n",
       "      <td>6</td>\n",
       "    </tr>\n",
       "  </tbody>\n",
       "</table>\n",
       "</div>"
      ],
      "text/plain": [
       "               receipt_dttm  adstrd_code  mrhst_induty_cl_code  \\\n",
       "0 2020-01-04 00:00:00+00:00     11740660                  7041   \n",
       "1 2020-01-04 00:00:00+00:00     11740660                  7022   \n",
       "2 2020-01-04 00:00:00+00:00     11740660                  7021   \n",
       "3 2020-01-04 00:00:00+00:00     11740660                  7020   \n",
       "4 2020-01-04 00:00:00+00:00     11740660                  6110   \n",
       "\n",
       "  mrhst_induty_cl_nm selng_cascnt   salamt adstrd_nm_y brtc_nm signgu_nm  \\\n",
       "0                 약국          463  5843230        성내3동   서울특별시       강동구   \n",
       "1               치과의원           33  7835550        성내3동   서울특별시       강동구   \n",
       "2                한의원           53  4589800        성내3동   서울특별시       강동구   \n",
       "3                 의원          339  9267240        성내3동   서울특별시       강동구   \n",
       "4              자동차정비           19  4441000        성내3동   서울특별시       강동구   \n",
       "\n",
       "   year  month  day weekday  \n",
       "0  2020      1    4       6  \n",
       "1  2020      1    4       6  \n",
       "2  2020      1    4       6  \n",
       "3  2020      1    4       6  \n",
       "4  2020      1    4       6  "
      ]
     },
     "execution_count": 27,
     "metadata": {},
     "output_type": "execute_result"
    }
   ],
   "source": [
    "card.head()"
   ]
  },
  {
   "cell_type": "code",
   "execution_count": 28,
   "metadata": {},
   "outputs": [
    {
     "data": {
      "text/plain": [
       "(3777647, 13)"
      ]
     },
     "execution_count": 28,
     "metadata": {},
     "output_type": "execute_result"
    }
   ],
   "source": [
    "card.shape"
   ]
  },
  {
   "cell_type": "code",
   "execution_count": 29,
   "metadata": {},
   "outputs": [
    {
     "name": "stdout",
     "output_type": "stream",
     "text": [
      "year [2020]\n",
      "month [1 2 3 4 5 6]\n",
      "day [ 4  5  6  7  8  9 10 11 12 13 14 15 16 17 18 19 20 21 22 23 24 25 26 27\n",
      " 28 29 30 31  1  2  3]\n",
      "weekday [6, 7, 1, 2, 3, 4, 5]\n",
      "Categories (7, object): [6, 7, 1, 2, 3, 4, 5]\n"
     ]
    }
   ],
   "source": [
    "print('year', card['year'].unique())\n",
    "print('month', card['month'].unique())\n",
    "print('day', card['day'].unique())\n",
    "print('weekday', card['weekday'].unique())"
   ]
  },
  {
   "cell_type": "markdown",
   "metadata": {},
   "source": [
    "## 문자열 변수, 숫자형으로 변환"
   ]
  },
  {
   "cell_type": "code",
   "execution_count": 30,
   "metadata": {},
   "outputs": [],
   "source": [
    "# selng_cascnt: 매출발생건수\n",
    "# salamt: 매출발생금액\n",
    "\n",
    "card=card.sort_values(by=['receipt_dttm'])"
   ]
  },
  {
   "cell_type": "code",
   "execution_count": 31,
   "metadata": {},
   "outputs": [
    {
     "data": {
      "text/html": [
       "<div>\n",
       "<style scoped>\n",
       "    .dataframe tbody tr th:only-of-type {\n",
       "        vertical-align: middle;\n",
       "    }\n",
       "\n",
       "    .dataframe tbody tr th {\n",
       "        vertical-align: top;\n",
       "    }\n",
       "\n",
       "    .dataframe thead th {\n",
       "        text-align: right;\n",
       "    }\n",
       "</style>\n",
       "<table border=\"1\" class=\"dataframe\">\n",
       "  <thead>\n",
       "    <tr style=\"text-align: right;\">\n",
       "      <th></th>\n",
       "      <th>receipt_dttm</th>\n",
       "      <th>adstrd_code</th>\n",
       "      <th>mrhst_induty_cl_code</th>\n",
       "      <th>mrhst_induty_cl_nm</th>\n",
       "      <th>selng_cascnt</th>\n",
       "      <th>salamt</th>\n",
       "      <th>adstrd_nm_y</th>\n",
       "      <th>brtc_nm</th>\n",
       "      <th>signgu_nm</th>\n",
       "      <th>year</th>\n",
       "      <th>month</th>\n",
       "      <th>day</th>\n",
       "      <th>weekday</th>\n",
       "    </tr>\n",
       "  </thead>\n",
       "  <tbody>\n",
       "    <tr>\n",
       "      <th>0</th>\n",
       "      <td>2020-01-04 00:00:00+00:00</td>\n",
       "      <td>11740660</td>\n",
       "      <td>7041</td>\n",
       "      <td>약국</td>\n",
       "      <td>463</td>\n",
       "      <td>5843230</td>\n",
       "      <td>성내3동</td>\n",
       "      <td>서울특별시</td>\n",
       "      <td>강동구</td>\n",
       "      <td>2020</td>\n",
       "      <td>1</td>\n",
       "      <td>4</td>\n",
       "      <td>6</td>\n",
       "    </tr>\n",
       "    <tr>\n",
       "      <th>2487467</th>\n",
       "      <td>2020-01-04 00:00:00+00:00</td>\n",
       "      <td>11320681</td>\n",
       "      <td>8001</td>\n",
       "      <td>일반한식</td>\n",
       "      <td>136</td>\n",
       "      <td>2253800</td>\n",
       "      <td>쌍문4동</td>\n",
       "      <td>서울특별시</td>\n",
       "      <td>도봉구</td>\n",
       "      <td>2020</td>\n",
       "      <td>1</td>\n",
       "      <td>4</td>\n",
       "      <td>6</td>\n",
       "    </tr>\n",
       "    <tr>\n",
       "      <th>2487468</th>\n",
       "      <td>2020-01-04 00:00:00+00:00</td>\n",
       "      <td>11320681</td>\n",
       "      <td>7102</td>\n",
       "      <td>미 용 원</td>\n",
       "      <td>13</td>\n",
       "      <td>236500</td>\n",
       "      <td>쌍문4동</td>\n",
       "      <td>서울특별시</td>\n",
       "      <td>도봉구</td>\n",
       "      <td>2020</td>\n",
       "      <td>1</td>\n",
       "      <td>4</td>\n",
       "      <td>6</td>\n",
       "    </tr>\n",
       "    <tr>\n",
       "      <th>2487469</th>\n",
       "      <td>2020-01-04 00:00:00+00:00</td>\n",
       "      <td>11320681</td>\n",
       "      <td>7041</td>\n",
       "      <td>약국</td>\n",
       "      <td>101</td>\n",
       "      <td>1373570</td>\n",
       "      <td>쌍문4동</td>\n",
       "      <td>서울특별시</td>\n",
       "      <td>도봉구</td>\n",
       "      <td>2020</td>\n",
       "      <td>1</td>\n",
       "      <td>4</td>\n",
       "      <td>6</td>\n",
       "    </tr>\n",
       "    <tr>\n",
       "      <th>2487470</th>\n",
       "      <td>2020-01-04 00:00:00+00:00</td>\n",
       "      <td>11320681</td>\n",
       "      <td>7020</td>\n",
       "      <td>의원</td>\n",
       "      <td>51</td>\n",
       "      <td>889870</td>\n",
       "      <td>쌍문4동</td>\n",
       "      <td>서울특별시</td>\n",
       "      <td>도봉구</td>\n",
       "      <td>2020</td>\n",
       "      <td>1</td>\n",
       "      <td>4</td>\n",
       "      <td>6</td>\n",
       "    </tr>\n",
       "  </tbody>\n",
       "</table>\n",
       "</div>"
      ],
      "text/plain": [
       "                     receipt_dttm  adstrd_code  mrhst_induty_cl_code  \\\n",
       "0       2020-01-04 00:00:00+00:00     11740660                  7041   \n",
       "2487467 2020-01-04 00:00:00+00:00     11320681                  8001   \n",
       "2487468 2020-01-04 00:00:00+00:00     11320681                  7102   \n",
       "2487469 2020-01-04 00:00:00+00:00     11320681                  7041   \n",
       "2487470 2020-01-04 00:00:00+00:00     11320681                  7020   \n",
       "\n",
       "        mrhst_induty_cl_nm selng_cascnt   salamt adstrd_nm_y brtc_nm  \\\n",
       "0                       약국          463  5843230        성내3동   서울특별시   \n",
       "2487467               일반한식          136  2253800        쌍문4동   서울특별시   \n",
       "2487468              미 용 원           13   236500        쌍문4동   서울특별시   \n",
       "2487469                 약국          101  1373570        쌍문4동   서울특별시   \n",
       "2487470                 의원           51   889870        쌍문4동   서울특별시   \n",
       "\n",
       "        signgu_nm  year  month  day weekday  \n",
       "0             강동구  2020      1    4       6  \n",
       "2487467       도봉구  2020      1    4       6  \n",
       "2487468       도봉구  2020      1    4       6  \n",
       "2487469       도봉구  2020      1    4       6  \n",
       "2487470       도봉구  2020      1    4       6  "
      ]
     },
     "execution_count": 31,
     "metadata": {},
     "output_type": "execute_result"
    }
   ],
   "source": [
    "card.head()"
   ]
  },
  {
   "cell_type": "code",
   "execution_count": 32,
   "metadata": {},
   "outputs": [
    {
     "data": {
      "text/plain": [
       "array(['463', '136', '13', ..., '22610', '196627', '16118'], dtype=object)"
      ]
     },
     "execution_count": 32,
     "metadata": {},
     "output_type": "execute_result"
    }
   ],
   "source": [
    "card['selng_cascnt'].unique()"
   ]
  },
  {
   "cell_type": "code",
   "execution_count": 33,
   "metadata": {},
   "outputs": [],
   "source": [
    "card['selng_cascnt'] = pd.Series(card['selng_cascnt'], dtype='int64')"
   ]
  },
  {
   "cell_type": "code",
   "execution_count": 34,
   "metadata": {},
   "outputs": [
    {
     "data": {
      "text/plain": [
       "array(['463', '136', '13', ..., '22610', '196627', '16118'], dtype=object)"
      ]
     },
     "execution_count": 34,
     "metadata": {},
     "output_type": "execute_result"
    }
   ],
   "source": [
    "card['selng_cascnt'].unique()"
   ]
  },
  {
   "cell_type": "code",
   "execution_count": 35,
   "metadata": {},
   "outputs": [
    {
     "data": {
      "text/plain": [
       "1         641598\n",
       "2         353740\n",
       "3         236479\n",
       "4         173452\n",
       "5         135476\n",
       "           ...  \n",
       "6314           1\n",
       "59774          1\n",
       "232523         1\n",
       "47421          1\n",
       "285055         1\n",
       "Name: selng_cascnt, Length: 12150, dtype: int64"
      ]
     },
     "execution_count": 35,
     "metadata": {},
     "output_type": "execute_result"
    }
   ],
   "source": [
    "card['selng_cascnt'].value_counts()"
   ]
  },
  {
   "cell_type": "code",
   "execution_count": 36,
   "metadata": {},
   "outputs": [
    {
     "data": {
      "text/html": [
       "<div>\n",
       "<style scoped>\n",
       "    .dataframe tbody tr th:only-of-type {\n",
       "        vertical-align: middle;\n",
       "    }\n",
       "\n",
       "    .dataframe tbody tr th {\n",
       "        vertical-align: top;\n",
       "    }\n",
       "\n",
       "    .dataframe thead th {\n",
       "        text-align: right;\n",
       "    }\n",
       "</style>\n",
       "<table border=\"1\" class=\"dataframe\">\n",
       "  <thead>\n",
       "    <tr style=\"text-align: right;\">\n",
       "      <th></th>\n",
       "      <th>receipt_dttm</th>\n",
       "      <th>adstrd_code</th>\n",
       "      <th>mrhst_induty_cl_code</th>\n",
       "      <th>mrhst_induty_cl_nm</th>\n",
       "      <th>selng_cascnt</th>\n",
       "      <th>salamt</th>\n",
       "      <th>adstrd_nm_y</th>\n",
       "      <th>brtc_nm</th>\n",
       "      <th>signgu_nm</th>\n",
       "      <th>year</th>\n",
       "      <th>month</th>\n",
       "      <th>day</th>\n",
       "      <th>weekday</th>\n",
       "    </tr>\n",
       "  </thead>\n",
       "  <tbody>\n",
       "    <tr>\n",
       "      <th>0</th>\n",
       "      <td>2020-01-04 00:00:00+00:00</td>\n",
       "      <td>11740660</td>\n",
       "      <td>7041</td>\n",
       "      <td>약국</td>\n",
       "      <td>463</td>\n",
       "      <td>5843230</td>\n",
       "      <td>성내3동</td>\n",
       "      <td>서울특별시</td>\n",
       "      <td>강동구</td>\n",
       "      <td>2020</td>\n",
       "      <td>1</td>\n",
       "      <td>4</td>\n",
       "      <td>6</td>\n",
       "    </tr>\n",
       "    <tr>\n",
       "      <th>2487467</th>\n",
       "      <td>2020-01-04 00:00:00+00:00</td>\n",
       "      <td>11320681</td>\n",
       "      <td>8001</td>\n",
       "      <td>일반한식</td>\n",
       "      <td>136</td>\n",
       "      <td>2253800</td>\n",
       "      <td>쌍문4동</td>\n",
       "      <td>서울특별시</td>\n",
       "      <td>도봉구</td>\n",
       "      <td>2020</td>\n",
       "      <td>1</td>\n",
       "      <td>4</td>\n",
       "      <td>6</td>\n",
       "    </tr>\n",
       "    <tr>\n",
       "      <th>2487468</th>\n",
       "      <td>2020-01-04 00:00:00+00:00</td>\n",
       "      <td>11320681</td>\n",
       "      <td>7102</td>\n",
       "      <td>미 용 원</td>\n",
       "      <td>13</td>\n",
       "      <td>236500</td>\n",
       "      <td>쌍문4동</td>\n",
       "      <td>서울특별시</td>\n",
       "      <td>도봉구</td>\n",
       "      <td>2020</td>\n",
       "      <td>1</td>\n",
       "      <td>4</td>\n",
       "      <td>6</td>\n",
       "    </tr>\n",
       "    <tr>\n",
       "      <th>2487469</th>\n",
       "      <td>2020-01-04 00:00:00+00:00</td>\n",
       "      <td>11320681</td>\n",
       "      <td>7041</td>\n",
       "      <td>약국</td>\n",
       "      <td>101</td>\n",
       "      <td>1373570</td>\n",
       "      <td>쌍문4동</td>\n",
       "      <td>서울특별시</td>\n",
       "      <td>도봉구</td>\n",
       "      <td>2020</td>\n",
       "      <td>1</td>\n",
       "      <td>4</td>\n",
       "      <td>6</td>\n",
       "    </tr>\n",
       "    <tr>\n",
       "      <th>2487470</th>\n",
       "      <td>2020-01-04 00:00:00+00:00</td>\n",
       "      <td>11320681</td>\n",
       "      <td>7020</td>\n",
       "      <td>의원</td>\n",
       "      <td>51</td>\n",
       "      <td>889870</td>\n",
       "      <td>쌍문4동</td>\n",
       "      <td>서울특별시</td>\n",
       "      <td>도봉구</td>\n",
       "      <td>2020</td>\n",
       "      <td>1</td>\n",
       "      <td>4</td>\n",
       "      <td>6</td>\n",
       "    </tr>\n",
       "  </tbody>\n",
       "</table>\n",
       "</div>"
      ],
      "text/plain": [
       "                     receipt_dttm  adstrd_code  mrhst_induty_cl_code  \\\n",
       "0       2020-01-04 00:00:00+00:00     11740660                  7041   \n",
       "2487467 2020-01-04 00:00:00+00:00     11320681                  8001   \n",
       "2487468 2020-01-04 00:00:00+00:00     11320681                  7102   \n",
       "2487469 2020-01-04 00:00:00+00:00     11320681                  7041   \n",
       "2487470 2020-01-04 00:00:00+00:00     11320681                  7020   \n",
       "\n",
       "        mrhst_induty_cl_nm selng_cascnt   salamt adstrd_nm_y brtc_nm  \\\n",
       "0                       약국          463  5843230        성내3동   서울특별시   \n",
       "2487467               일반한식          136  2253800        쌍문4동   서울특별시   \n",
       "2487468              미 용 원           13   236500        쌍문4동   서울특별시   \n",
       "2487469                 약국          101  1373570        쌍문4동   서울특별시   \n",
       "2487470                 의원           51   889870        쌍문4동   서울특별시   \n",
       "\n",
       "        signgu_nm  year  month  day weekday  \n",
       "0             강동구  2020      1    4       6  \n",
       "2487467       도봉구  2020      1    4       6  \n",
       "2487468       도봉구  2020      1    4       6  \n",
       "2487469       도봉구  2020      1    4       6  \n",
       "2487470       도봉구  2020      1    4       6  "
      ]
     },
     "execution_count": 36,
     "metadata": {},
     "output_type": "execute_result"
    }
   ],
   "source": [
    "card.head()"
   ]
  },
  {
   "cell_type": "code",
   "execution_count": 37,
   "metadata": {},
   "outputs": [],
   "source": [
    "total = card.isnull().sum()\n",
    "percent = (card.isnull().sum() / card.isnull().count()*100)"
   ]
  },
  {
   "cell_type": "code",
   "execution_count": 38,
   "metadata": {},
   "outputs": [
    {
     "data": {
      "text/html": [
       "<div>\n",
       "<style scoped>\n",
       "    .dataframe tbody tr th:only-of-type {\n",
       "        vertical-align: middle;\n",
       "    }\n",
       "\n",
       "    .dataframe tbody tr th {\n",
       "        vertical-align: top;\n",
       "    }\n",
       "\n",
       "    .dataframe thead th {\n",
       "        text-align: right;\n",
       "    }\n",
       "</style>\n",
       "<table border=\"1\" class=\"dataframe\">\n",
       "  <thead>\n",
       "    <tr style=\"text-align: right;\">\n",
       "      <th></th>\n",
       "      <th>Total</th>\n",
       "      <th>Percent</th>\n",
       "    </tr>\n",
       "  </thead>\n",
       "  <tbody>\n",
       "    <tr>\n",
       "      <th>receipt_dttm</th>\n",
       "      <td>0</td>\n",
       "      <td>0.0</td>\n",
       "    </tr>\n",
       "    <tr>\n",
       "      <th>adstrd_code</th>\n",
       "      <td>0</td>\n",
       "      <td>0.0</td>\n",
       "    </tr>\n",
       "    <tr>\n",
       "      <th>mrhst_induty_cl_code</th>\n",
       "      <td>0</td>\n",
       "      <td>0.0</td>\n",
       "    </tr>\n",
       "    <tr>\n",
       "      <th>mrhst_induty_cl_nm</th>\n",
       "      <td>0</td>\n",
       "      <td>0.0</td>\n",
       "    </tr>\n",
       "    <tr>\n",
       "      <th>selng_cascnt</th>\n",
       "      <td>0</td>\n",
       "      <td>0.0</td>\n",
       "    </tr>\n",
       "    <tr>\n",
       "      <th>salamt</th>\n",
       "      <td>0</td>\n",
       "      <td>0.0</td>\n",
       "    </tr>\n",
       "    <tr>\n",
       "      <th>adstrd_nm_y</th>\n",
       "      <td>0</td>\n",
       "      <td>0.0</td>\n",
       "    </tr>\n",
       "    <tr>\n",
       "      <th>brtc_nm</th>\n",
       "      <td>0</td>\n",
       "      <td>0.0</td>\n",
       "    </tr>\n",
       "    <tr>\n",
       "      <th>signgu_nm</th>\n",
       "      <td>0</td>\n",
       "      <td>0.0</td>\n",
       "    </tr>\n",
       "    <tr>\n",
       "      <th>year</th>\n",
       "      <td>0</td>\n",
       "      <td>0.0</td>\n",
       "    </tr>\n",
       "    <tr>\n",
       "      <th>month</th>\n",
       "      <td>0</td>\n",
       "      <td>0.0</td>\n",
       "    </tr>\n",
       "    <tr>\n",
       "      <th>day</th>\n",
       "      <td>0</td>\n",
       "      <td>0.0</td>\n",
       "    </tr>\n",
       "    <tr>\n",
       "      <th>weekday</th>\n",
       "      <td>0</td>\n",
       "      <td>0.0</td>\n",
       "    </tr>\n",
       "  </tbody>\n",
       "</table>\n",
       "</div>"
      ],
      "text/plain": [
       "                      Total  Percent\n",
       "receipt_dttm              0      0.0\n",
       "adstrd_code               0      0.0\n",
       "mrhst_induty_cl_code      0      0.0\n",
       "mrhst_induty_cl_nm        0      0.0\n",
       "selng_cascnt              0      0.0\n",
       "salamt                    0      0.0\n",
       "adstrd_nm_y               0      0.0\n",
       "brtc_nm                   0      0.0\n",
       "signgu_nm                 0      0.0\n",
       "year                      0      0.0\n",
       "month                     0      0.0\n",
       "day                       0      0.0\n",
       "weekday                   0      0.0"
      ]
     },
     "execution_count": 38,
     "metadata": {},
     "output_type": "execute_result"
    }
   ],
   "source": [
    "# 결측치가 없음\n",
    "\n",
    "pd.concat([total, percent], axis=1, keys=['Total', 'Percent']).sort_values(by='Percent', ascending=False).head(30)"
   ]
  },
  {
   "cell_type": "code",
   "execution_count": 39,
   "metadata": {},
   "outputs": [],
   "source": [
    "card = card[(card.selng_cascnt.str.contains(r\"\\d\", regex = True))]"
   ]
  },
  {
   "cell_type": "code",
   "execution_count": 40,
   "metadata": {},
   "outputs": [],
   "source": [
    "card['salamt'] = pd.Series(card['salamt'], dtype='int64')"
   ]
  },
  {
   "cell_type": "code",
   "execution_count": 41,
   "metadata": {},
   "outputs": [],
   "source": [
    "card['selng_cascnt'] = pd.Series(card['selng_cascnt'], dtype='int64')"
   ]
  },
  {
   "cell_type": "code",
   "execution_count": 42,
   "metadata": {},
   "outputs": [
    {
     "data": {
      "text/html": [
       "<div>\n",
       "<style scoped>\n",
       "    .dataframe tbody tr th:only-of-type {\n",
       "        vertical-align: middle;\n",
       "    }\n",
       "\n",
       "    .dataframe tbody tr th {\n",
       "        vertical-align: top;\n",
       "    }\n",
       "\n",
       "    .dataframe thead th {\n",
       "        text-align: right;\n",
       "    }\n",
       "</style>\n",
       "<table border=\"1\" class=\"dataframe\">\n",
       "  <thead>\n",
       "    <tr style=\"text-align: right;\">\n",
       "      <th></th>\n",
       "      <th>receipt_dttm</th>\n",
       "      <th>adstrd_code</th>\n",
       "      <th>mrhst_induty_cl_code</th>\n",
       "      <th>mrhst_induty_cl_nm</th>\n",
       "      <th>selng_cascnt</th>\n",
       "      <th>salamt</th>\n",
       "      <th>adstrd_nm_y</th>\n",
       "      <th>brtc_nm</th>\n",
       "      <th>signgu_nm</th>\n",
       "      <th>year</th>\n",
       "      <th>month</th>\n",
       "      <th>day</th>\n",
       "      <th>weekday</th>\n",
       "    </tr>\n",
       "  </thead>\n",
       "  <tbody>\n",
       "    <tr>\n",
       "      <th>0</th>\n",
       "      <td>2020-01-04 00:00:00+00:00</td>\n",
       "      <td>11740660</td>\n",
       "      <td>7041</td>\n",
       "      <td>약국</td>\n",
       "      <td>463</td>\n",
       "      <td>5843230</td>\n",
       "      <td>성내3동</td>\n",
       "      <td>서울특별시</td>\n",
       "      <td>강동구</td>\n",
       "      <td>2020</td>\n",
       "      <td>1</td>\n",
       "      <td>4</td>\n",
       "      <td>6</td>\n",
       "    </tr>\n",
       "    <tr>\n",
       "      <th>2487467</th>\n",
       "      <td>2020-01-04 00:00:00+00:00</td>\n",
       "      <td>11320681</td>\n",
       "      <td>8001</td>\n",
       "      <td>일반한식</td>\n",
       "      <td>136</td>\n",
       "      <td>2253800</td>\n",
       "      <td>쌍문4동</td>\n",
       "      <td>서울특별시</td>\n",
       "      <td>도봉구</td>\n",
       "      <td>2020</td>\n",
       "      <td>1</td>\n",
       "      <td>4</td>\n",
       "      <td>6</td>\n",
       "    </tr>\n",
       "    <tr>\n",
       "      <th>2487468</th>\n",
       "      <td>2020-01-04 00:00:00+00:00</td>\n",
       "      <td>11320681</td>\n",
       "      <td>7102</td>\n",
       "      <td>미 용 원</td>\n",
       "      <td>13</td>\n",
       "      <td>236500</td>\n",
       "      <td>쌍문4동</td>\n",
       "      <td>서울특별시</td>\n",
       "      <td>도봉구</td>\n",
       "      <td>2020</td>\n",
       "      <td>1</td>\n",
       "      <td>4</td>\n",
       "      <td>6</td>\n",
       "    </tr>\n",
       "    <tr>\n",
       "      <th>2487469</th>\n",
       "      <td>2020-01-04 00:00:00+00:00</td>\n",
       "      <td>11320681</td>\n",
       "      <td>7041</td>\n",
       "      <td>약국</td>\n",
       "      <td>101</td>\n",
       "      <td>1373570</td>\n",
       "      <td>쌍문4동</td>\n",
       "      <td>서울특별시</td>\n",
       "      <td>도봉구</td>\n",
       "      <td>2020</td>\n",
       "      <td>1</td>\n",
       "      <td>4</td>\n",
       "      <td>6</td>\n",
       "    </tr>\n",
       "    <tr>\n",
       "      <th>2487470</th>\n",
       "      <td>2020-01-04 00:00:00+00:00</td>\n",
       "      <td>11320681</td>\n",
       "      <td>7020</td>\n",
       "      <td>의원</td>\n",
       "      <td>51</td>\n",
       "      <td>889870</td>\n",
       "      <td>쌍문4동</td>\n",
       "      <td>서울특별시</td>\n",
       "      <td>도봉구</td>\n",
       "      <td>2020</td>\n",
       "      <td>1</td>\n",
       "      <td>4</td>\n",
       "      <td>6</td>\n",
       "    </tr>\n",
       "    <tr>\n",
       "      <th>...</th>\n",
       "      <td>...</td>\n",
       "      <td>...</td>\n",
       "      <td>...</td>\n",
       "      <td>...</td>\n",
       "      <td>...</td>\n",
       "      <td>...</td>\n",
       "      <td>...</td>\n",
       "      <td>...</td>\n",
       "      <td>...</td>\n",
       "      <td>...</td>\n",
       "      <td>...</td>\n",
       "      <td>...</td>\n",
       "      <td>...</td>\n",
       "    </tr>\n",
       "    <tr>\n",
       "      <th>3381374</th>\n",
       "      <td>2020-06-14 00:00:00+00:00</td>\n",
       "      <td>11170660</td>\n",
       "      <td>8301</td>\n",
       "      <td>제과점</td>\n",
       "      <td>124</td>\n",
       "      <td>1027500</td>\n",
       "      <td>이태원2동</td>\n",
       "      <td>서울특별시</td>\n",
       "      <td>용산구</td>\n",
       "      <td>2020</td>\n",
       "      <td>6</td>\n",
       "      <td>14</td>\n",
       "      <td>7</td>\n",
       "    </tr>\n",
       "    <tr>\n",
       "      <th>3381375</th>\n",
       "      <td>2020-06-14 00:00:00+00:00</td>\n",
       "      <td>11170660</td>\n",
       "      <td>6140</td>\n",
       "      <td>주 차 장</td>\n",
       "      <td>33</td>\n",
       "      <td>107500</td>\n",
       "      <td>이태원2동</td>\n",
       "      <td>서울특별시</td>\n",
       "      <td>용산구</td>\n",
       "      <td>2020</td>\n",
       "      <td>6</td>\n",
       "      <td>14</td>\n",
       "      <td>7</td>\n",
       "    </tr>\n",
       "    <tr>\n",
       "      <th>3381376</th>\n",
       "      <td>2020-06-14 00:00:00+00:00</td>\n",
       "      <td>11170660</td>\n",
       "      <td>4210</td>\n",
       "      <td>맞춤복 점</td>\n",
       "      <td>1</td>\n",
       "      <td>35000</td>\n",
       "      <td>이태원2동</td>\n",
       "      <td>서울특별시</td>\n",
       "      <td>용산구</td>\n",
       "      <td>2020</td>\n",
       "      <td>6</td>\n",
       "      <td>14</td>\n",
       "      <td>7</td>\n",
       "    </tr>\n",
       "    <tr>\n",
       "      <th>3381366</th>\n",
       "      <td>2020-06-14 00:00:00+00:00</td>\n",
       "      <td>11170660</td>\n",
       "      <td>9210</td>\n",
       "      <td>세탁소</td>\n",
       "      <td>3</td>\n",
       "      <td>46000</td>\n",
       "      <td>이태원2동</td>\n",
       "      <td>서울특별시</td>\n",
       "      <td>용산구</td>\n",
       "      <td>2020</td>\n",
       "      <td>6</td>\n",
       "      <td>14</td>\n",
       "      <td>7</td>\n",
       "    </tr>\n",
       "    <tr>\n",
       "      <th>3777646</th>\n",
       "      <td>2020-06-14 00:00:00+00:00</td>\n",
       "      <td>11530800</td>\n",
       "      <td>7020</td>\n",
       "      <td>의원</td>\n",
       "      <td>29</td>\n",
       "      <td>376600</td>\n",
       "      <td>항동</td>\n",
       "      <td>서울특별시</td>\n",
       "      <td>구로구</td>\n",
       "      <td>2020</td>\n",
       "      <td>6</td>\n",
       "      <td>14</td>\n",
       "      <td>7</td>\n",
       "    </tr>\n",
       "  </tbody>\n",
       "</table>\n",
       "<p>3713952 rows × 13 columns</p>\n",
       "</div>"
      ],
      "text/plain": [
       "                     receipt_dttm  adstrd_code  mrhst_induty_cl_code  \\\n",
       "0       2020-01-04 00:00:00+00:00     11740660                  7041   \n",
       "2487467 2020-01-04 00:00:00+00:00     11320681                  8001   \n",
       "2487468 2020-01-04 00:00:00+00:00     11320681                  7102   \n",
       "2487469 2020-01-04 00:00:00+00:00     11320681                  7041   \n",
       "2487470 2020-01-04 00:00:00+00:00     11320681                  7020   \n",
       "...                           ...          ...                   ...   \n",
       "3381374 2020-06-14 00:00:00+00:00     11170660                  8301   \n",
       "3381375 2020-06-14 00:00:00+00:00     11170660                  6140   \n",
       "3381376 2020-06-14 00:00:00+00:00     11170660                  4210   \n",
       "3381366 2020-06-14 00:00:00+00:00     11170660                  9210   \n",
       "3777646 2020-06-14 00:00:00+00:00     11530800                  7020   \n",
       "\n",
       "        mrhst_induty_cl_nm  selng_cascnt   salamt adstrd_nm_y brtc_nm  \\\n",
       "0                       약국           463  5843230        성내3동   서울특별시   \n",
       "2487467               일반한식           136  2253800        쌍문4동   서울특별시   \n",
       "2487468              미 용 원            13   236500        쌍문4동   서울특별시   \n",
       "2487469                 약국           101  1373570        쌍문4동   서울특별시   \n",
       "2487470                 의원            51   889870        쌍문4동   서울특별시   \n",
       "...                    ...           ...      ...         ...     ...   \n",
       "3381374                제과점           124  1027500       이태원2동   서울특별시   \n",
       "3381375              주 차 장            33   107500       이태원2동   서울특별시   \n",
       "3381376              맞춤복 점             1    35000       이태원2동   서울특별시   \n",
       "3381366                세탁소             3    46000       이태원2동   서울특별시   \n",
       "3777646                 의원            29   376600          항동   서울특별시   \n",
       "\n",
       "        signgu_nm  year  month  day weekday  \n",
       "0             강동구  2020      1    4       6  \n",
       "2487467       도봉구  2020      1    4       6  \n",
       "2487468       도봉구  2020      1    4       6  \n",
       "2487469       도봉구  2020      1    4       6  \n",
       "2487470       도봉구  2020      1    4       6  \n",
       "...           ...   ...    ...  ...     ...  \n",
       "3381374       용산구  2020      6   14       7  \n",
       "3381375       용산구  2020      6   14       7  \n",
       "3381376       용산구  2020      6   14       7  \n",
       "3381366       용산구  2020      6   14       7  \n",
       "3777646       구로구  2020      6   14       7  \n",
       "\n",
       "[3713952 rows x 13 columns]"
      ]
     },
     "metadata": {},
     "output_type": "display_data"
    }
   ],
   "source": [
    "display(card)"
   ]
  },
  {
   "cell_type": "code",
   "execution_count": 43,
   "metadata": {},
   "outputs": [],
   "source": [
    "total = card.isnull().sum()\n",
    "percent = (card.isnull().sum() / card.isnull().count()*100)"
   ]
  },
  {
   "cell_type": "code",
   "execution_count": 44,
   "metadata": {},
   "outputs": [
    {
     "data": {
      "text/html": [
       "<div>\n",
       "<style scoped>\n",
       "    .dataframe tbody tr th:only-of-type {\n",
       "        vertical-align: middle;\n",
       "    }\n",
       "\n",
       "    .dataframe tbody tr th {\n",
       "        vertical-align: top;\n",
       "    }\n",
       "\n",
       "    .dataframe thead th {\n",
       "        text-align: right;\n",
       "    }\n",
       "</style>\n",
       "<table border=\"1\" class=\"dataframe\">\n",
       "  <thead>\n",
       "    <tr style=\"text-align: right;\">\n",
       "      <th></th>\n",
       "      <th>Total</th>\n",
       "      <th>Percent</th>\n",
       "    </tr>\n",
       "  </thead>\n",
       "  <tbody>\n",
       "    <tr>\n",
       "      <th>receipt_dttm</th>\n",
       "      <td>0</td>\n",
       "      <td>0.0</td>\n",
       "    </tr>\n",
       "    <tr>\n",
       "      <th>adstrd_code</th>\n",
       "      <td>0</td>\n",
       "      <td>0.0</td>\n",
       "    </tr>\n",
       "    <tr>\n",
       "      <th>mrhst_induty_cl_code</th>\n",
       "      <td>0</td>\n",
       "      <td>0.0</td>\n",
       "    </tr>\n",
       "    <tr>\n",
       "      <th>mrhst_induty_cl_nm</th>\n",
       "      <td>0</td>\n",
       "      <td>0.0</td>\n",
       "    </tr>\n",
       "    <tr>\n",
       "      <th>selng_cascnt</th>\n",
       "      <td>0</td>\n",
       "      <td>0.0</td>\n",
       "    </tr>\n",
       "    <tr>\n",
       "      <th>salamt</th>\n",
       "      <td>0</td>\n",
       "      <td>0.0</td>\n",
       "    </tr>\n",
       "    <tr>\n",
       "      <th>adstrd_nm_y</th>\n",
       "      <td>0</td>\n",
       "      <td>0.0</td>\n",
       "    </tr>\n",
       "    <tr>\n",
       "      <th>brtc_nm</th>\n",
       "      <td>0</td>\n",
       "      <td>0.0</td>\n",
       "    </tr>\n",
       "    <tr>\n",
       "      <th>signgu_nm</th>\n",
       "      <td>0</td>\n",
       "      <td>0.0</td>\n",
       "    </tr>\n",
       "    <tr>\n",
       "      <th>year</th>\n",
       "      <td>0</td>\n",
       "      <td>0.0</td>\n",
       "    </tr>\n",
       "    <tr>\n",
       "      <th>month</th>\n",
       "      <td>0</td>\n",
       "      <td>0.0</td>\n",
       "    </tr>\n",
       "    <tr>\n",
       "      <th>day</th>\n",
       "      <td>0</td>\n",
       "      <td>0.0</td>\n",
       "    </tr>\n",
       "    <tr>\n",
       "      <th>weekday</th>\n",
       "      <td>0</td>\n",
       "      <td>0.0</td>\n",
       "    </tr>\n",
       "  </tbody>\n",
       "</table>\n",
       "</div>"
      ],
      "text/plain": [
       "                      Total  Percent\n",
       "receipt_dttm              0      0.0\n",
       "adstrd_code               0      0.0\n",
       "mrhst_induty_cl_code      0      0.0\n",
       "mrhst_induty_cl_nm        0      0.0\n",
       "selng_cascnt              0      0.0\n",
       "salamt                    0      0.0\n",
       "adstrd_nm_y               0      0.0\n",
       "brtc_nm                   0      0.0\n",
       "signgu_nm                 0      0.0\n",
       "year                      0      0.0\n",
       "month                     0      0.0\n",
       "day                       0      0.0\n",
       "weekday                   0      0.0"
      ]
     },
     "execution_count": 44,
     "metadata": {},
     "output_type": "execute_result"
    }
   ],
   "source": [
    "pd.concat([total, percent], axis=1, keys=['Total', 'Percent']).sort_values(by='Percent', ascending=False).head(30)"
   ]
  },
  {
   "cell_type": "code",
   "execution_count": 45,
   "metadata": {},
   "outputs": [
    {
     "data": {
      "text/plain": [
       "<matplotlib.axes._subplots.AxesSubplot at 0x27e03900b00>"
      ]
     },
     "execution_count": 45,
     "metadata": {},
     "output_type": "execute_result"
    },
    {
     "data": {
      "image/png": "[encoded data removed]",
      "text/plain": [
       "<Figure size 576x576 with 2 Axes>"
      ]
     },
     "metadata": {
      "needs_background": "light"
     },
     "output_type": "display_data"
    }
   ],
   "source": [
    "import missingno as msno\n",
    "msno.matrix(df=card.iloc[:, :], figsize=(8, 8), color=(0.8, 0.5, 0.2))"
   ]
  },
  {
   "cell_type": "markdown",
   "metadata": {},
   "source": [
    "## 시각화"
   ]
  },
  {
   "cell_type": "markdown",
   "metadata": {},
   "source": [
    "## 1. 카드 사용량 확인"
   ]
  },
  {
   "cell_type": "code",
   "execution_count": 46,
   "metadata": {},
   "outputs": [],
   "source": [
    "# 카드사용 데이터에는 6월 중반까지의 데이터가 있으므로 5월까지의 데이터를 활용\n",
    "# normalize=False, (False면 개수, True면 상대 비율 구함)\n",
    "\n",
    "u = card[card['month'] != 6]['month'].value_counts(normalize=True) * 100\n",
    "u = u.reset_index()\n",
    "u.columns = ['month', 'use_perc']"
   ]
  },
  {
   "cell_type": "code",
   "execution_count": 47,
   "metadata": {
    "scrolled": true
   },
   "outputs": [
    {
     "data": {
      "image/png": "[encoded data removed]",
      "text/plain": [
       "<Figure size 864x432 with 1 Axes>"
      ]
     },
     "metadata": {
      "needs_background": "light"
     },
     "output_type": "display_data"
    }
   ],
   "source": [
    "# 카드 사용량이 증가하고 있다. \n",
    "\n",
    "plt.figure(figsize = (12, 6))\n",
    "plt.title('card_usage', fontsize = 20)\n",
    "ax = sns.barplot(data = u, x = 'month', y = 'use_perc', palette = 'Blues_d')\n",
    "plt.show()"
   ]
  },
  {
   "cell_type": "code",
   "execution_count": 48,
   "metadata": {},
   "outputs": [
    {
     "name": "stdout",
     "output_type": "stream",
     "text": [
      "<class 'pandas.core.frame.DataFrame'>\n",
      "Int64Index: 3713952 entries, 0 to 3777646\n",
      "Data columns (total 13 columns):\n",
      " #   Column                Dtype              \n",
      "---  ------                -----              \n",
      " 0   receipt_dttm          datetime64[ns, UTC]\n",
      " 1   adstrd_code           int32              \n",
      " 2   mrhst_induty_cl_code  int64              \n",
      " 3   mrhst_induty_cl_nm    object             \n",
      " 4   selng_cascnt          int64              \n",
      " 5   salamt                int64              \n",
      " 6   adstrd_nm_y           object             \n",
      " 7   brtc_nm               object             \n",
      " 8   signgu_nm             object             \n",
      " 9   year                  int64              \n",
      " 10  month                 int64              \n",
      " 11  day                   int64              \n",
      " 12  weekday               category           \n",
      "dtypes: category(1), datetime64[ns, UTC](1), int32(1), int64(6), object(4)\n",
      "memory usage: 357.7+ MB\n"
     ]
    }
   ],
   "source": [
    "card.info()"
   ]
  },
  {
   "cell_type": "code",
   "execution_count": 49,
   "metadata": {},
   "outputs": [
    {
     "data": {
      "image/png": "[encoded data removed]",
      "text/plain": [
       "<Figure size 864x720 with 3 Axes>"
      ]
     },
     "metadata": {
      "needs_background": "light"
     },
     "output_type": "display_data"
    }
   ],
   "source": [
    "#month와 카드금액\n",
    "fig = plt.figure(figsize=[12,10])\n",
    "ax1 = fig.add_subplot(2,2,1)\n",
    "ax1 = sns.barplot(x='month',y='salamt',data=card.groupby('month')['salamt'].mean().reset_index())\n",
    "\n",
    "#일별와 카드금액\n",
    "ax2 = fig.add_subplot(2,2,2)\n",
    "ax2 = sns.barplot(x='day',y='salamt',data=card.groupby('day')['salamt'].mean().reset_index())\n",
    "\n",
    "#휴일별와 카드금액\n",
    "ax3 = fig.add_subplot(2,2,3)\n",
    "ax3 = sns.barplot(x='weekday',y='salamt',data=card.groupby('weekday')['salamt'].mean().reset_index())\n"
   ]
  },
  {
   "cell_type": "code",
   "execution_count": 50,
   "metadata": {},
   "outputs": [
    {
     "data": {
      "image/png": "[encoded data removed]",
      "text/plain": [
       "<Figure size 864x720 with 3 Axes>"
      ]
     },
     "metadata": {
      "needs_background": "light"
     },
     "output_type": "display_data"
    }
   ],
   "source": [
    "#month와 카드사용빈도\n",
    "fig = plt.figure(figsize=[12,10])\n",
    "ax1 = fig.add_subplot(2,2,1)\n",
    "ax1 = sns.barplot(x='month',y='selng_cascnt',data=card.groupby('month')['selng_cascnt'].mean().reset_index())\n",
    "\n",
    "#일별와 카드사용빈도\n",
    "ax2 = fig.add_subplot(2,2,2)\n",
    "ax2 = sns.barplot(x='day',y='selng_cascnt',data=card.groupby('day')['selng_cascnt'].mean().reset_index())\n",
    "\n",
    "#휴일별와 카드사용빈도\n",
    "ax3 = fig.add_subplot(2,2,3)\n",
    "ax3 = sns.barplot(x='weekday',y='selng_cascnt',data=card.groupby('weekday')['selng_cascnt'].mean().reset_index())\n"
   ]
  },
  {
   "cell_type": "code",
   "execution_count": 51,
   "metadata": {},
   "outputs": [
    {
     "data": {
      "text/plain": [
       "<matplotlib.axes._subplots.AxesSubplot at 0x27e1030fd68>"
      ]
     },
     "execution_count": 51,
     "metadata": {},
     "output_type": "execute_result"
    },
    {
     "data": {
      "image/png": "[encoded data removed]",
      "text/plain": [
       "<Figure size 1440x360 with 1 Axes>"
      ]
     },
     "metadata": {
      "needs_background": "light"
     },
     "output_type": "display_data"
    }
   ],
   "source": [
    "plt.figure(figsize=(20,5))\n",
    "sns.barplot(data=card,x=\"signgu_nm\",y=\"salamt\")"
   ]
  },
  {
   "cell_type": "code",
   "execution_count": 52,
   "metadata": {},
   "outputs": [
    {
     "data": {
      "text/plain": [
       "<matplotlib.axes._subplots.AxesSubplot at 0x27e102e6080>"
      ]
     },
     "execution_count": 52,
     "metadata": {},
     "output_type": "execute_result"
    },
    {
     "data": {
      "image/png": "[encoded data removed]",
      "text/plain": [
       "<Figure size 1440x360 with 1 Axes>"
      ]
     },
     "metadata": {
      "needs_background": "light"
     },
     "output_type": "display_data"
    }
   ],
   "source": [
    "plt.figure(figsize=(20,5))\n",
    "sns.barplot(data=card,x=\"signgu_nm\",y=\"selng_cascnt\")"
   ]
  },
  {
   "cell_type": "code",
   "execution_count": 53,
   "metadata": {},
   "outputs": [
    {
     "data": {
      "text/html": [
       "<div>\n",
       "<style scoped>\n",
       "    .dataframe tbody tr th:only-of-type {\n",
       "        vertical-align: middle;\n",
       "    }\n",
       "\n",
       "    .dataframe tbody tr th {\n",
       "        vertical-align: top;\n",
       "    }\n",
       "\n",
       "    .dataframe thead th {\n",
       "        text-align: right;\n",
       "    }\n",
       "</style>\n",
       "<table border=\"1\" class=\"dataframe\">\n",
       "  <thead>\n",
       "    <tr style=\"text-align: right;\">\n",
       "      <th></th>\n",
       "      <th>0</th>\n",
       "      <th>1</th>\n",
       "      <th>2</th>\n",
       "      <th>3</th>\n",
       "      <th>4</th>\n",
       "      <th>5</th>\n",
       "      <th>6</th>\n",
       "      <th>7</th>\n",
       "      <th>8</th>\n",
       "      <th>9</th>\n",
       "      <th>...</th>\n",
       "      <th>251</th>\n",
       "      <th>252</th>\n",
       "      <th>253</th>\n",
       "      <th>254</th>\n",
       "      <th>255</th>\n",
       "      <th>256</th>\n",
       "      <th>257</th>\n",
       "      <th>258</th>\n",
       "      <th>259</th>\n",
       "      <th>260</th>\n",
       "    </tr>\n",
       "  </thead>\n",
       "  <tbody>\n",
       "    <tr>\n",
       "      <th>mrhst_induty_cl_code</th>\n",
       "      <td>1001</td>\n",
       "      <td>1002</td>\n",
       "      <td>1003</td>\n",
       "      <td>1010</td>\n",
       "      <td>1020</td>\n",
       "      <td>1101</td>\n",
       "      <td>1110</td>\n",
       "      <td>1120</td>\n",
       "      <td>1121</td>\n",
       "      <td>1122</td>\n",
       "      <td>...</td>\n",
       "      <td>9699</td>\n",
       "      <td>9901</td>\n",
       "      <td>9910</td>\n",
       "      <td>9911</td>\n",
       "      <td>9921</td>\n",
       "      <td>9931</td>\n",
       "      <td>9992</td>\n",
       "      <td>9993</td>\n",
       "      <td>9996</td>\n",
       "      <td>9998</td>\n",
       "    </tr>\n",
       "    <tr>\n",
       "      <th>mrhst_induty_cl_nm</th>\n",
       "      <td>특급 호텔</td>\n",
       "      <td>1급 호텔</td>\n",
       "      <td>2급 호텔</td>\n",
       "      <td>콘   도</td>\n",
       "      <td>기타숙박업</td>\n",
       "      <td>항 공 사</td>\n",
       "      <td>관광여행</td>\n",
       "      <td>고속 버스</td>\n",
       "      <td>철   도</td>\n",
       "      <td>여 객 선</td>\n",
       "      <td>...</td>\n",
       "      <td>기타농업관련</td>\n",
       "      <td>기계 공구</td>\n",
       "      <td>비 영 리</td>\n",
       "      <td>비영리/비대상</td>\n",
       "      <td>P2P송금</td>\n",
       "      <td>사업자미등록개인</td>\n",
       "      <td>외국인전용가맹점</td>\n",
       "      <td>외국인전용가맹점</td>\n",
       "      <td>비씨카드정산용(할인)</td>\n",
       "      <td>기타전문점</td>\n",
       "    </tr>\n",
       "  </tbody>\n",
       "</table>\n",
       "<p>2 rows × 261 columns</p>\n",
       "</div>"
      ],
      "text/plain": [
       "                        0      1      2      3      4      5     6      7    \\\n",
       "mrhst_induty_cl_code   1001   1002   1003   1010   1020   1101  1110   1120   \n",
       "mrhst_induty_cl_nm    특급 호텔  1급 호텔  2급 호텔  콘   도  기타숙박업  항 공 사  관광여행  고속 버스   \n",
       "\n",
       "                        8      9    ...     251    252    253      254    255  \\\n",
       "mrhst_induty_cl_code   1121   1122  ...    9699   9901   9910     9911   9921   \n",
       "mrhst_induty_cl_nm    철   도  여 객 선  ...  기타농업관련  기계 공구  비 영 리  비영리/비대상  P2P송금   \n",
       "\n",
       "                           256       257       258          259    260  \n",
       "mrhst_induty_cl_code      9931      9992      9993         9996   9998  \n",
       "mrhst_induty_cl_nm    사업자미등록개인  외국인전용가맹점  외국인전용가맹점  비씨카드정산용(할인)  기타전문점  \n",
       "\n",
       "[2 rows x 261 columns]"
      ]
     },
     "execution_count": 53,
     "metadata": {},
     "output_type": "execute_result"
    }
   ],
   "source": [
    "# 업종 코드에 따른 산업군 분류\n",
    "# 각각의 업종들은 업종 코드 1000을 기준으로 비슷한 산업군을 이루고 있다.\n",
    "\n",
    "k = (pd.DataFrame(card.groupby(by = (['mrhst_induty_cl_code', 'mrhst_induty_cl_nm']))['salamt'].sum()).drop('salamt', axis = 1).reset_index().T)\n",
    "k"
   ]
  },
  {
   "cell_type": "code",
   "execution_count": 54,
   "metadata": {},
   "outputs": [],
   "source": [
    "# 1000을 단위로 영어로 이름을 붙여 분류하였다. \n",
    "\n",
    "df_01 = card[(card['mrhst_induty_cl_code']>1000) < 2000]\n",
    "df_01['indust'] = 'accommo/traffic'\n",
    "df_02 =card[(card['mrhst_induty_cl_code']>2000) < 3000]\n",
    "df_02['indust'] = 'sports/art/culture'\n",
    "df_03 = card[(card['mrhst_induty_cl_code']>3000) < 4000]\n",
    "df_03['indust'] = 'household goods/fuel'\n",
    "df_04 = card[(card['mrhst_induty_cl_code']>4000) < 5000]\n",
    "df_04['indust'] = 'distribution/clothing stuff'\n",
    "df_05 = card[(card['mrhst_induty_cl_code']>5000) < 6000]\n",
    "df_05['indust'] = 'books/edu/office'\n",
    "df_06 = card[(card['mrhst_induty_cl_code']>6000) < 7000]\n",
    "df_06['indust'] = 'vehicle service/equipment'\n",
    "df_07 = card[(card['mrhst_induty_cl_code']>7000) < 8000]\n",
    "df_07['indust'] = 'medical/beauty'\n",
    "df_08 = card[(card['mrhst_induty_cl_code']>8000) < 9000]\n",
    "df_08['indust'] = 'food'\n",
    "df_09 = card[(card['mrhst_induty_cl_code']>9000)]\n",
    "df_09['indust'] = 'ect_service'\n",
    "card = pd.concat([df_01, df_02,df_03,df_04,df_05,df_06,df_07,df_08,df_09], axis = 0).sort_index()"
   ]
  },
  {
   "cell_type": "code",
   "execution_count": 55,
   "metadata": {},
   "outputs": [
    {
     "name": "stdout",
     "output_type": "stream",
     "text": [
      "\"accommo/traffic\" 산업군이 포함하고 있는 업종 : ['약국' '일반한식' '미 용 원' '의원' '보습학원' '슈퍼 마켓' '편 의 점' '서양음식' '기타레져업' '주점' '스넥'\n",
      " '제과점' '기타음료식품' '사무서비스' '중국음식' '자동차정비' '정장' '노래방' '일식회집' '당구장' '악세 사리'\n",
      " '안경' '화 장 품' '치과의원' '한의원' '유아원' '문구용 품' '기타잡화' '인터넷종합Mall' '주 차 장'\n",
      " '기계 공구' '세탁소' '기타건축자재' '농축수산품' '단란주점' '유흥주점' '자동차부품' '예체능학원' '화   원'\n",
      " '애완 동물' '스포츠레져용품' '독서실' '기타숙박업' '정 육 점' '대형할인점' '조명 기구' '종합용역' '미곡상'\n",
      " '출판인쇄물' '위탁급식업' '헬스 크럽' '사우나' '컴 퓨 터' '통신 기기' '전자(상우회)' '기타사무용품' '완 구 점'\n",
      " '화방표구점' '가전 제품' '기타전기제품' '인터넷P/G' '학원(회원제형태)' '기타전문점' '레져업소(회원제형태)'\n",
      " '칵테일바' '동물병원' '의료 용품' '일반 서적' '침구수예점' '피부미용실' '악 기 점' '관광여행' '맞춤복 점'\n",
      " '내의판매점' '신   발' '사진관' '과학기자재' '스포츠의류' '항 공 사' '특급 호텔' '상품권' '법률회계서비스(개인)'\n",
      " '화물 운송' '외국어학원' '구내매점(국가기관등)' '법률회계서비스(법인)' '아동의류' 'CATV홈쇼핑' '기능학원'\n",
      " '기념품 점' '기타대인서비스' '주 유 소' '스크린골프' '귀 금 속' '비 영 리' '서적출판(회원제형태)' '병원'\n",
      " '기타가구' '수 족 관' '시   계' '기타건강식' '보일러펌프샷시' '기타유통업' '안마/스포츠마사지' '미용 재료'\n",
      " '소프트웨어' '화   랑' '옷감 직물' '기타의류' '상품권 전문판매' '민예공예품' '기타 교육' '세 차 장' '영화관'\n",
      " '자사카드발행백화점' '주류판매점' '홍삼 제품' '페 인 트' '윤활유전문판매' '자동차시트/타이어' '기타회원제형태업소4'\n",
      " '가   방' '기타용역서비스' '이 용 원' '종합병원' '티켓' '인터넷Mall' '택   시' '제 화 점' '기타직물'\n",
      " '기타서적문구' '조세서비스(특약)' '조세서비스' '건축요업품' '인테 리어' '주방 용구' '한약방' '유류 판매'\n",
      " '인삼 제품' '일반 가구' '1급 호텔' '카 메 라' '가정용품수리' '컴퓨터학원' '골프 용품' '골프연습장' '혼례서비스'\n",
      " '부동산중개/임대' '이륜차판매' '사무통신기기수리' '농축수산가공품' '주방용식기' '전자상거래 상품권 전문판매' '수입자동차'\n",
      " '문화취미기타' '성인용품점' '전문 서적' '기타의료기관및기타의료기기' '2급 호텔' '손해 보험' '면 세 점' 'PG 상품권'\n",
      " '비씨카드정산용(할인)' '기타수리서비스' '생명 보험' '통신판매(일반)' '신변잡화수리' '비영리/비대상' '사무 기기'\n",
      " '양 품 점' '이동통신요금' '카인테리어' '장례서비스' '카지노' '갈비전문점' '전기차충전소' '초중고교육기관'\n",
      " '기타회원제형태업소3' 'L P G' '제약회사' '연 쇄 점' '한방병원' '냉열 기기' '테니스 장' '치과병원' '볼 링 장'\n",
      " '공공 요금' '정기간행물' '비료/농약/사료/종자' '부동산분양' '통신서비스/비대상' '통신서비스' '기타회원제형태업소1'\n",
      " '렌 트 카' '수 영 장' '레져용품수리' '산후조리원' '기타광학품' '정 수 기' '캐쥬얼의류' '건강식품(회원제형태)'\n",
      " '유   리' '공공요금/대상' '기타주방용구' '고속 버스' '와이셔츠/타이' '기타교통수단' '단체복' '일반백화점'\n",
      " '기타농업관련' '기타자동차서비스' '유치원' 'CATV' '철   도' '보관창고업' '종합레져타운' '사업자미등록개인'\n",
      " '학습지교육' '공무원연금매점' '사무서비스(회원제형태)' '기타보험' '자동차서비스(회원제형태)' '국산 신차' '한정식'\n",
      " '대학등록금' '철제 가구' '견인서비스' '통신판매2' '골프경기장' '건강진단' '여 객 선' '기타연료' '정보서비스'\n",
      " '농기계' '교육테이프' '국산신차직영부품/정비업소' '중고자동차' '외국인전용가맹점' '전자상거래 상품권' '콘   도'\n",
      " '통신판매1' '기타회원제형태업소2' '기타회원제형태업소5' '스 키 장' '기타비영리유통' '위성방송' '유학원' '중장비수리'\n",
      " '기타 운송' '골동품 점' '피아노대리점' '조산원' '혼수전문점' '통신판매(생활서비스)' '자체물품대금' '통신기기무이자할부'\n",
      " '총포류판매' '택시회사' 'P2P송금' '중고자동차위탁판매'] \n",
      "\n",
      "\"sports/art/culture\" 산업군이 포함하고 있는 업종 : ['약국' '일반한식' '미 용 원' '의원' '보습학원' '슈퍼 마켓' '편 의 점' '서양음식' '기타레져업' '주점' '스넥'\n",
      " '제과점' '기타음료식품' '사무서비스' '중국음식' '자동차정비' '정장' '노래방' '일식회집' '당구장' '악세 사리'\n",
      " '안경' '화 장 품' '치과의원' '한의원' '유아원' '문구용 품' '기타잡화' '인터넷종합Mall' '주 차 장'\n",
      " '기계 공구' '세탁소' '기타건축자재' '농축수산품' '단란주점' '유흥주점' '자동차부품' '예체능학원' '화   원'\n",
      " '애완 동물' '스포츠레져용품' '독서실' '기타숙박업' '정 육 점' '대형할인점' '조명 기구' '종합용역' '미곡상'\n",
      " '출판인쇄물' '위탁급식업' '헬스 크럽' '사우나' '컴 퓨 터' '통신 기기' '전자(상우회)' '기타사무용품' '완 구 점'\n",
      " '화방표구점' '가전 제품' '기타전기제품' '인터넷P/G' '학원(회원제형태)' '기타전문점' '레져업소(회원제형태)'\n",
      " '칵테일바' '동물병원' '의료 용품' '일반 서적' '침구수예점' '피부미용실' '악 기 점' '관광여행' '맞춤복 점'\n",
      " '내의판매점' '신   발' '사진관' '과학기자재' '스포츠의류' '항 공 사' '특급 호텔' '상품권' '법률회계서비스(개인)'\n",
      " '화물 운송' '외국어학원' '구내매점(국가기관등)' '법률회계서비스(법인)' '아동의류' 'CATV홈쇼핑' '기능학원'\n",
      " '기념품 점' '기타대인서비스' '주 유 소' '스크린골프' '귀 금 속' '비 영 리' '서적출판(회원제형태)' '병원'\n",
      " '기타가구' '수 족 관' '시   계' '기타건강식' '보일러펌프샷시' '기타유통업' '안마/스포츠마사지' '미용 재료'\n",
      " '소프트웨어' '화   랑' '옷감 직물' '기타의류' '상품권 전문판매' '민예공예품' '기타 교육' '세 차 장' '영화관'\n",
      " '자사카드발행백화점' '주류판매점' '홍삼 제품' '페 인 트' '윤활유전문판매' '자동차시트/타이어' '기타회원제형태업소4'\n",
      " '가   방' '기타용역서비스' '이 용 원' '종합병원' '티켓' '인터넷Mall' '택   시' '제 화 점' '기타직물'\n",
      " '기타서적문구' '조세서비스(특약)' '조세서비스' '건축요업품' '인테 리어' '주방 용구' '한약방' '유류 판매'\n",
      " '인삼 제품' '일반 가구' '1급 호텔' '카 메 라' '가정용품수리' '컴퓨터학원' '골프 용품' '골프연습장' '혼례서비스'\n",
      " '부동산중개/임대' '이륜차판매' '사무통신기기수리' '농축수산가공품' '주방용식기' '전자상거래 상품권 전문판매' '수입자동차'\n",
      " '문화취미기타' '성인용품점' '전문 서적' '기타의료기관및기타의료기기' '2급 호텔' '손해 보험' '면 세 점' 'PG 상품권'\n",
      " '비씨카드정산용(할인)' '기타수리서비스' '생명 보험' '통신판매(일반)' '신변잡화수리' '비영리/비대상' '사무 기기'\n",
      " '양 품 점' '이동통신요금' '카인테리어' '장례서비스' '카지노' '갈비전문점' '전기차충전소' '초중고교육기관'\n",
      " '기타회원제형태업소3' 'L P G' '제약회사' '연 쇄 점' '한방병원' '냉열 기기' '테니스 장' '치과병원' '볼 링 장'\n",
      " '공공 요금' '정기간행물' '비료/농약/사료/종자' '부동산분양' '통신서비스/비대상' '통신서비스' '기타회원제형태업소1'\n",
      " '렌 트 카' '수 영 장' '레져용품수리' '산후조리원' '기타광학품' '정 수 기' '캐쥬얼의류' '건강식품(회원제형태)'\n",
      " '유   리' '공공요금/대상' '기타주방용구' '고속 버스' '와이셔츠/타이' '기타교통수단' '단체복' '일반백화점'\n",
      " '기타농업관련' '기타자동차서비스' '유치원' 'CATV' '철   도' '보관창고업' '종합레져타운' '사업자미등록개인'\n",
      " '학습지교육' '공무원연금매점' '사무서비스(회원제형태)' '기타보험' '자동차서비스(회원제형태)' '국산 신차' '한정식'\n",
      " '대학등록금' '철제 가구' '견인서비스' '통신판매2' '골프경기장' '건강진단' '여 객 선' '기타연료' '정보서비스'\n",
      " '농기계' '교육테이프' '국산신차직영부품/정비업소' '중고자동차' '외국인전용가맹점' '전자상거래 상품권' '콘   도'\n",
      " '통신판매1' '기타회원제형태업소2' '기타회원제형태업소5' '스 키 장' '기타비영리유통' '위성방송' '유학원' '중장비수리'\n",
      " '기타 운송' '골동품 점' '피아노대리점' '조산원' '혼수전문점' '통신판매(생활서비스)' '자체물품대금' '통신기기무이자할부'\n",
      " '총포류판매' '택시회사' 'P2P송금' '중고자동차위탁판매'] \n",
      "\n",
      "\"household goods/fuel\" 산업군이 포함하고 있는 업종 : ['약국' '일반한식' '미 용 원' '의원' '보습학원' '슈퍼 마켓' '편 의 점' '서양음식' '기타레져업' '주점' '스넥'\n",
      " '제과점' '기타음료식품' '사무서비스' '중국음식' '자동차정비' '정장' '노래방' '일식회집' '당구장' '악세 사리'\n",
      " '안경' '화 장 품' '치과의원' '한의원' '유아원' '문구용 품' '기타잡화' '인터넷종합Mall' '주 차 장'\n",
      " '기계 공구' '세탁소' '기타건축자재' '농축수산품' '단란주점' '유흥주점' '자동차부품' '예체능학원' '화   원'\n",
      " '애완 동물' '스포츠레져용품' '독서실' '기타숙박업' '정 육 점' '대형할인점' '조명 기구' '종합용역' '미곡상'\n",
      " '출판인쇄물' '위탁급식업' '헬스 크럽' '사우나' '컴 퓨 터' '통신 기기' '전자(상우회)' '기타사무용품' '완 구 점'\n",
      " '화방표구점' '가전 제품' '기타전기제품' '인터넷P/G' '학원(회원제형태)' '기타전문점' '레져업소(회원제형태)'\n",
      " '칵테일바' '동물병원' '의료 용품' '일반 서적' '침구수예점' '피부미용실' '악 기 점' '관광여행' '맞춤복 점'\n",
      " '내의판매점' '신   발' '사진관' '과학기자재' '스포츠의류' '항 공 사' '특급 호텔' '상품권' '법률회계서비스(개인)'\n",
      " '화물 운송' '외국어학원' '구내매점(국가기관등)' '법률회계서비스(법인)' '아동의류' 'CATV홈쇼핑' '기능학원'\n",
      " '기념품 점' '기타대인서비스' '주 유 소' '스크린골프' '귀 금 속' '비 영 리' '서적출판(회원제형태)' '병원'\n",
      " '기타가구' '수 족 관' '시   계' '기타건강식' '보일러펌프샷시' '기타유통업' '안마/스포츠마사지' '미용 재료'\n",
      " '소프트웨어' '화   랑' '옷감 직물' '기타의류' '상품권 전문판매' '민예공예품' '기타 교육' '세 차 장' '영화관'\n",
      " '자사카드발행백화점' '주류판매점' '홍삼 제품' '페 인 트' '윤활유전문판매' '자동차시트/타이어' '기타회원제형태업소4'\n",
      " '가   방' '기타용역서비스' '이 용 원' '종합병원' '티켓' '인터넷Mall' '택   시' '제 화 점' '기타직물'\n",
      " '기타서적문구' '조세서비스(특약)' '조세서비스' '건축요업품' '인테 리어' '주방 용구' '한약방' '유류 판매'\n",
      " '인삼 제품' '일반 가구' '1급 호텔' '카 메 라' '가정용품수리' '컴퓨터학원' '골프 용품' '골프연습장' '혼례서비스'\n",
      " '부동산중개/임대' '이륜차판매' '사무통신기기수리' '농축수산가공품' '주방용식기' '전자상거래 상품권 전문판매' '수입자동차'\n",
      " '문화취미기타' '성인용품점' '전문 서적' '기타의료기관및기타의료기기' '2급 호텔' '손해 보험' '면 세 점' 'PG 상품권'\n",
      " '비씨카드정산용(할인)' '기타수리서비스' '생명 보험' '통신판매(일반)' '신변잡화수리' '비영리/비대상' '사무 기기'\n",
      " '양 품 점' '이동통신요금' '카인테리어' '장례서비스' '카지노' '갈비전문점' '전기차충전소' '초중고교육기관'\n",
      " '기타회원제형태업소3' 'L P G' '제약회사' '연 쇄 점' '한방병원' '냉열 기기' '테니스 장' '치과병원' '볼 링 장'\n",
      " '공공 요금' '정기간행물' '비료/농약/사료/종자' '부동산분양' '통신서비스/비대상' '통신서비스' '기타회원제형태업소1'\n",
      " '렌 트 카' '수 영 장' '레져용품수리' '산후조리원' '기타광학품' '정 수 기' '캐쥬얼의류' '건강식품(회원제형태)'\n",
      " '유   리' '공공요금/대상' '기타주방용구' '고속 버스' '와이셔츠/타이' '기타교통수단' '단체복' '일반백화점'\n",
      " '기타농업관련' '기타자동차서비스' '유치원' 'CATV' '철   도' '보관창고업' '종합레져타운' '사업자미등록개인'\n",
      " '학습지교육' '공무원연금매점' '사무서비스(회원제형태)' '기타보험' '자동차서비스(회원제형태)' '국산 신차' '한정식'\n",
      " '대학등록금' '철제 가구' '견인서비스' '통신판매2' '골프경기장' '건강진단' '여 객 선' '기타연료' '정보서비스'\n",
      " '농기계' '교육테이프' '국산신차직영부품/정비업소' '중고자동차' '외국인전용가맹점' '전자상거래 상품권' '콘   도'\n",
      " '통신판매1' '기타회원제형태업소2' '기타회원제형태업소5' '스 키 장' '기타비영리유통' '위성방송' '유학원' '중장비수리'\n",
      " '기타 운송' '골동품 점' '피아노대리점' '조산원' '혼수전문점' '통신판매(생활서비스)' '자체물품대금' '통신기기무이자할부'\n",
      " '총포류판매' '택시회사' 'P2P송금' '중고자동차위탁판매'] \n",
      "\n",
      "\"distribution/clothing stuff\" 산업군이 포함하고 있는 업종 : ['약국' '일반한식' '미 용 원' '의원' '보습학원' '슈퍼 마켓' '편 의 점' '서양음식' '기타레져업' '주점' '스넥'\n",
      " '제과점' '기타음료식품' '사무서비스' '중국음식' '자동차정비' '정장' '노래방' '일식회집' '당구장' '악세 사리'\n",
      " '안경' '화 장 품' '치과의원' '한의원' '유아원' '문구용 품' '기타잡화' '인터넷종합Mall' '주 차 장'\n",
      " '기계 공구' '세탁소' '기타건축자재' '농축수산품' '단란주점' '유흥주점' '자동차부품' '예체능학원' '화   원'\n",
      " '애완 동물' '스포츠레져용품' '독서실' '기타숙박업' '정 육 점' '대형할인점' '조명 기구' '종합용역' '미곡상'\n",
      " '출판인쇄물' '위탁급식업' '헬스 크럽' '사우나' '컴 퓨 터' '통신 기기' '전자(상우회)' '기타사무용품' '완 구 점'\n",
      " '화방표구점' '가전 제품' '기타전기제품' '인터넷P/G' '학원(회원제형태)' '기타전문점' '레져업소(회원제형태)'\n",
      " '칵테일바' '동물병원' '의료 용품' '일반 서적' '침구수예점' '피부미용실' '악 기 점' '관광여행' '맞춤복 점'\n",
      " '내의판매점' '신   발' '사진관' '과학기자재' '스포츠의류' '항 공 사' '특급 호텔' '상품권' '법률회계서비스(개인)'\n",
      " '화물 운송' '외국어학원' '구내매점(국가기관등)' '법률회계서비스(법인)' '아동의류' 'CATV홈쇼핑' '기능학원'\n",
      " '기념품 점' '기타대인서비스' '주 유 소' '스크린골프' '귀 금 속' '비 영 리' '서적출판(회원제형태)' '병원'\n",
      " '기타가구' '수 족 관' '시   계' '기타건강식' '보일러펌프샷시' '기타유통업' '안마/스포츠마사지' '미용 재료'\n",
      " '소프트웨어' '화   랑' '옷감 직물' '기타의류' '상품권 전문판매' '민예공예품' '기타 교육' '세 차 장' '영화관'\n",
      " '자사카드발행백화점' '주류판매점' '홍삼 제품' '페 인 트' '윤활유전문판매' '자동차시트/타이어' '기타회원제형태업소4'\n",
      " '가   방' '기타용역서비스' '이 용 원' '종합병원' '티켓' '인터넷Mall' '택   시' '제 화 점' '기타직물'\n",
      " '기타서적문구' '조세서비스(특약)' '조세서비스' '건축요업품' '인테 리어' '주방 용구' '한약방' '유류 판매'\n",
      " '인삼 제품' '일반 가구' '1급 호텔' '카 메 라' '가정용품수리' '컴퓨터학원' '골프 용품' '골프연습장' '혼례서비스'\n",
      " '부동산중개/임대' '이륜차판매' '사무통신기기수리' '농축수산가공품' '주방용식기' '전자상거래 상품권 전문판매' '수입자동차'\n",
      " '문화취미기타' '성인용품점' '전문 서적' '기타의료기관및기타의료기기' '2급 호텔' '손해 보험' '면 세 점' 'PG 상품권'\n",
      " '비씨카드정산용(할인)' '기타수리서비스' '생명 보험' '통신판매(일반)' '신변잡화수리' '비영리/비대상' '사무 기기'\n",
      " '양 품 점' '이동통신요금' '카인테리어' '장례서비스' '카지노' '갈비전문점' '전기차충전소' '초중고교육기관'\n",
      " '기타회원제형태업소3' 'L P G' '제약회사' '연 쇄 점' '한방병원' '냉열 기기' '테니스 장' '치과병원' '볼 링 장'\n",
      " '공공 요금' '정기간행물' '비료/농약/사료/종자' '부동산분양' '통신서비스/비대상' '통신서비스' '기타회원제형태업소1'\n",
      " '렌 트 카' '수 영 장' '레져용품수리' '산후조리원' '기타광학품' '정 수 기' '캐쥬얼의류' '건강식품(회원제형태)'\n",
      " '유   리' '공공요금/대상' '기타주방용구' '고속 버스' '와이셔츠/타이' '기타교통수단' '단체복' '일반백화점'\n",
      " '기타농업관련' '기타자동차서비스' '유치원' 'CATV' '철   도' '보관창고업' '종합레져타운' '사업자미등록개인'\n",
      " '학습지교육' '공무원연금매점' '사무서비스(회원제형태)' '기타보험' '자동차서비스(회원제형태)' '국산 신차' '한정식'\n",
      " '대학등록금' '철제 가구' '견인서비스' '통신판매2' '골프경기장' '건강진단' '여 객 선' '기타연료' '정보서비스'\n",
      " '농기계' '교육테이프' '국산신차직영부품/정비업소' '중고자동차' '외국인전용가맹점' '전자상거래 상품권' '콘   도'\n",
      " '통신판매1' '기타회원제형태업소2' '기타회원제형태업소5' '스 키 장' '기타비영리유통' '위성방송' '유학원' '중장비수리'\n",
      " '기타 운송' '골동품 점' '피아노대리점' '조산원' '혼수전문점' '통신판매(생활서비스)' '자체물품대금' '통신기기무이자할부'\n",
      " '총포류판매' '택시회사' 'P2P송금' '중고자동차위탁판매'] \n",
      "\n",
      "\"books/edu/office\" 산업군이 포함하고 있는 업종 : ['약국' '일반한식' '미 용 원' '의원' '보습학원' '슈퍼 마켓' '편 의 점' '서양음식' '기타레져업' '주점' '스넥'\n",
      " '제과점' '기타음료식품' '사무서비스' '중국음식' '자동차정비' '정장' '노래방' '일식회집' '당구장' '악세 사리'\n",
      " '안경' '화 장 품' '치과의원' '한의원' '유아원' '문구용 품' '기타잡화' '인터넷종합Mall' '주 차 장'\n",
      " '기계 공구' '세탁소' '기타건축자재' '농축수산품' '단란주점' '유흥주점' '자동차부품' '예체능학원' '화   원'\n",
      " '애완 동물' '스포츠레져용품' '독서실' '기타숙박업' '정 육 점' '대형할인점' '조명 기구' '종합용역' '미곡상'\n",
      " '출판인쇄물' '위탁급식업' '헬스 크럽' '사우나' '컴 퓨 터' '통신 기기' '전자(상우회)' '기타사무용품' '완 구 점'\n",
      " '화방표구점' '가전 제품' '기타전기제품' '인터넷P/G' '학원(회원제형태)' '기타전문점' '레져업소(회원제형태)'\n",
      " '칵테일바' '동물병원' '의료 용품' '일반 서적' '침구수예점' '피부미용실' '악 기 점' '관광여행' '맞춤복 점'\n",
      " '내의판매점' '신   발' '사진관' '과학기자재' '스포츠의류' '항 공 사' '특급 호텔' '상품권' '법률회계서비스(개인)'\n",
      " '화물 운송' '외국어학원' '구내매점(국가기관등)' '법률회계서비스(법인)' '아동의류' 'CATV홈쇼핑' '기능학원'\n",
      " '기념품 점' '기타대인서비스' '주 유 소' '스크린골프' '귀 금 속' '비 영 리' '서적출판(회원제형태)' '병원'\n",
      " '기타가구' '수 족 관' '시   계' '기타건강식' '보일러펌프샷시' '기타유통업' '안마/스포츠마사지' '미용 재료'\n",
      " '소프트웨어' '화   랑' '옷감 직물' '기타의류' '상품권 전문판매' '민예공예품' '기타 교육' '세 차 장' '영화관'\n",
      " '자사카드발행백화점' '주류판매점' '홍삼 제품' '페 인 트' '윤활유전문판매' '자동차시트/타이어' '기타회원제형태업소4'\n",
      " '가   방' '기타용역서비스' '이 용 원' '종합병원' '티켓' '인터넷Mall' '택   시' '제 화 점' '기타직물'\n",
      " '기타서적문구' '조세서비스(특약)' '조세서비스' '건축요업품' '인테 리어' '주방 용구' '한약방' '유류 판매'\n",
      " '인삼 제품' '일반 가구' '1급 호텔' '카 메 라' '가정용품수리' '컴퓨터학원' '골프 용품' '골프연습장' '혼례서비스'\n",
      " '부동산중개/임대' '이륜차판매' '사무통신기기수리' '농축수산가공품' '주방용식기' '전자상거래 상품권 전문판매' '수입자동차'\n",
      " '문화취미기타' '성인용품점' '전문 서적' '기타의료기관및기타의료기기' '2급 호텔' '손해 보험' '면 세 점' 'PG 상품권'\n",
      " '비씨카드정산용(할인)' '기타수리서비스' '생명 보험' '통신판매(일반)' '신변잡화수리' '비영리/비대상' '사무 기기'\n",
      " '양 품 점' '이동통신요금' '카인테리어' '장례서비스' '카지노' '갈비전문점' '전기차충전소' '초중고교육기관'\n",
      " '기타회원제형태업소3' 'L P G' '제약회사' '연 쇄 점' '한방병원' '냉열 기기' '테니스 장' '치과병원' '볼 링 장'\n",
      " '공공 요금' '정기간행물' '비료/농약/사료/종자' '부동산분양' '통신서비스/비대상' '통신서비스' '기타회원제형태업소1'\n",
      " '렌 트 카' '수 영 장' '레져용품수리' '산후조리원' '기타광학품' '정 수 기' '캐쥬얼의류' '건강식품(회원제형태)'\n",
      " '유   리' '공공요금/대상' '기타주방용구' '고속 버스' '와이셔츠/타이' '기타교통수단' '단체복' '일반백화점'\n",
      " '기타농업관련' '기타자동차서비스' '유치원' 'CATV' '철   도' '보관창고업' '종합레져타운' '사업자미등록개인'\n",
      " '학습지교육' '공무원연금매점' '사무서비스(회원제형태)' '기타보험' '자동차서비스(회원제형태)' '국산 신차' '한정식'\n",
      " '대학등록금' '철제 가구' '견인서비스' '통신판매2' '골프경기장' '건강진단' '여 객 선' '기타연료' '정보서비스'\n",
      " '농기계' '교육테이프' '국산신차직영부품/정비업소' '중고자동차' '외국인전용가맹점' '전자상거래 상품권' '콘   도'\n",
      " '통신판매1' '기타회원제형태업소2' '기타회원제형태업소5' '스 키 장' '기타비영리유통' '위성방송' '유학원' '중장비수리'\n",
      " '기타 운송' '골동품 점' '피아노대리점' '조산원' '혼수전문점' '통신판매(생활서비스)' '자체물품대금' '통신기기무이자할부'\n",
      " '총포류판매' '택시회사' 'P2P송금' '중고자동차위탁판매'] \n",
      "\n",
      "\"vehicle service/equipment\" 산업군이 포함하고 있는 업종 : ['약국' '일반한식' '미 용 원' '의원' '보습학원' '슈퍼 마켓' '편 의 점' '서양음식' '기타레져업' '주점' '스넥'\n",
      " '제과점' '기타음료식품' '사무서비스' '중국음식' '자동차정비' '정장' '노래방' '일식회집' '당구장' '악세 사리'\n",
      " '안경' '화 장 품' '치과의원' '한의원' '유아원' '문구용 품' '기타잡화' '인터넷종합Mall' '주 차 장'\n",
      " '기계 공구' '세탁소' '기타건축자재' '농축수산품' '단란주점' '유흥주점' '자동차부품' '예체능학원' '화   원'\n",
      " '애완 동물' '스포츠레져용품' '독서실' '기타숙박업' '정 육 점' '대형할인점' '조명 기구' '종합용역' '미곡상'\n",
      " '출판인쇄물' '위탁급식업' '헬스 크럽' '사우나' '컴 퓨 터' '통신 기기' '전자(상우회)' '기타사무용품' '완 구 점'\n",
      " '화방표구점' '가전 제품' '기타전기제품' '인터넷P/G' '학원(회원제형태)' '기타전문점' '레져업소(회원제형태)'\n",
      " '칵테일바' '동물병원' '의료 용품' '일반 서적' '침구수예점' '피부미용실' '악 기 점' '관광여행' '맞춤복 점'\n",
      " '내의판매점' '신   발' '사진관' '과학기자재' '스포츠의류' '항 공 사' '특급 호텔' '상품권' '법률회계서비스(개인)'\n",
      " '화물 운송' '외국어학원' '구내매점(국가기관등)' '법률회계서비스(법인)' '아동의류' 'CATV홈쇼핑' '기능학원'\n",
      " '기념품 점' '기타대인서비스' '주 유 소' '스크린골프' '귀 금 속' '비 영 리' '서적출판(회원제형태)' '병원'\n",
      " '기타가구' '수 족 관' '시   계' '기타건강식' '보일러펌프샷시' '기타유통업' '안마/스포츠마사지' '미용 재료'\n",
      " '소프트웨어' '화   랑' '옷감 직물' '기타의류' '상품권 전문판매' '민예공예품' '기타 교육' '세 차 장' '영화관'\n",
      " '자사카드발행백화점' '주류판매점' '홍삼 제품' '페 인 트' '윤활유전문판매' '자동차시트/타이어' '기타회원제형태업소4'\n",
      " '가   방' '기타용역서비스' '이 용 원' '종합병원' '티켓' '인터넷Mall' '택   시' '제 화 점' '기타직물'\n",
      " '기타서적문구' '조세서비스(특약)' '조세서비스' '건축요업품' '인테 리어' '주방 용구' '한약방' '유류 판매'\n",
      " '인삼 제품' '일반 가구' '1급 호텔' '카 메 라' '가정용품수리' '컴퓨터학원' '골프 용품' '골프연습장' '혼례서비스'\n",
      " '부동산중개/임대' '이륜차판매' '사무통신기기수리' '농축수산가공품' '주방용식기' '전자상거래 상품권 전문판매' '수입자동차'\n",
      " '문화취미기타' '성인용품점' '전문 서적' '기타의료기관및기타의료기기' '2급 호텔' '손해 보험' '면 세 점' 'PG 상품권'\n",
      " '비씨카드정산용(할인)' '기타수리서비스' '생명 보험' '통신판매(일반)' '신변잡화수리' '비영리/비대상' '사무 기기'\n",
      " '양 품 점' '이동통신요금' '카인테리어' '장례서비스' '카지노' '갈비전문점' '전기차충전소' '초중고교육기관'\n",
      " '기타회원제형태업소3' 'L P G' '제약회사' '연 쇄 점' '한방병원' '냉열 기기' '테니스 장' '치과병원' '볼 링 장'\n",
      " '공공 요금' '정기간행물' '비료/농약/사료/종자' '부동산분양' '통신서비스/비대상' '통신서비스' '기타회원제형태업소1'\n",
      " '렌 트 카' '수 영 장' '레져용품수리' '산후조리원' '기타광학품' '정 수 기' '캐쥬얼의류' '건강식품(회원제형태)'\n",
      " '유   리' '공공요금/대상' '기타주방용구' '고속 버스' '와이셔츠/타이' '기타교통수단' '단체복' '일반백화점'\n",
      " '기타농업관련' '기타자동차서비스' '유치원' 'CATV' '철   도' '보관창고업' '종합레져타운' '사업자미등록개인'\n",
      " '학습지교육' '공무원연금매점' '사무서비스(회원제형태)' '기타보험' '자동차서비스(회원제형태)' '국산 신차' '한정식'\n",
      " '대학등록금' '철제 가구' '견인서비스' '통신판매2' '골프경기장' '건강진단' '여 객 선' '기타연료' '정보서비스'\n",
      " '농기계' '교육테이프' '국산신차직영부품/정비업소' '중고자동차' '외국인전용가맹점' '전자상거래 상품권' '콘   도'\n",
      " '통신판매1' '기타회원제형태업소2' '기타회원제형태업소5' '스 키 장' '기타비영리유통' '위성방송' '유학원' '중장비수리'\n",
      " '기타 운송' '골동품 점' '피아노대리점' '조산원' '혼수전문점' '통신판매(생활서비스)' '자체물품대금' '통신기기무이자할부'\n",
      " '총포류판매' '택시회사' 'P2P송금' '중고자동차위탁판매'] \n",
      "\n",
      "\"medical/beauty\" 산업군이 포함하고 있는 업종 : ['약국' '일반한식' '미 용 원' '의원' '보습학원' '슈퍼 마켓' '편 의 점' '서양음식' '기타레져업' '주점' '스넥'\n",
      " '제과점' '기타음료식품' '사무서비스' '중국음식' '자동차정비' '정장' '노래방' '일식회집' '당구장' '악세 사리'\n",
      " '안경' '화 장 품' '치과의원' '한의원' '유아원' '문구용 품' '기타잡화' '인터넷종합Mall' '주 차 장'\n",
      " '기계 공구' '세탁소' '기타건축자재' '농축수산품' '단란주점' '유흥주점' '자동차부품' '예체능학원' '화   원'\n",
      " '애완 동물' '스포츠레져용품' '독서실' '기타숙박업' '정 육 점' '대형할인점' '조명 기구' '종합용역' '미곡상'\n",
      " '출판인쇄물' '위탁급식업' '헬스 크럽' '사우나' '컴 퓨 터' '통신 기기' '전자(상우회)' '기타사무용품' '완 구 점'\n",
      " '화방표구점' '가전 제품' '기타전기제품' '인터넷P/G' '학원(회원제형태)' '기타전문점' '레져업소(회원제형태)'\n",
      " '칵테일바' '동물병원' '의료 용품' '일반 서적' '침구수예점' '피부미용실' '악 기 점' '관광여행' '맞춤복 점'\n",
      " '내의판매점' '신   발' '사진관' '과학기자재' '스포츠의류' '항 공 사' '특급 호텔' '상품권' '법률회계서비스(개인)'\n",
      " '화물 운송' '외국어학원' '구내매점(국가기관등)' '법률회계서비스(법인)' '아동의류' 'CATV홈쇼핑' '기능학원'\n",
      " '기념품 점' '기타대인서비스' '주 유 소' '스크린골프' '귀 금 속' '비 영 리' '서적출판(회원제형태)' '병원'\n",
      " '기타가구' '수 족 관' '시   계' '기타건강식' '보일러펌프샷시' '기타유통업' '안마/스포츠마사지' '미용 재료'\n",
      " '소프트웨어' '화   랑' '옷감 직물' '기타의류' '상품권 전문판매' '민예공예품' '기타 교육' '세 차 장' '영화관'\n",
      " '자사카드발행백화점' '주류판매점' '홍삼 제품' '페 인 트' '윤활유전문판매' '자동차시트/타이어' '기타회원제형태업소4'\n",
      " '가   방' '기타용역서비스' '이 용 원' '종합병원' '티켓' '인터넷Mall' '택   시' '제 화 점' '기타직물'\n",
      " '기타서적문구' '조세서비스(특약)' '조세서비스' '건축요업품' '인테 리어' '주방 용구' '한약방' '유류 판매'\n",
      " '인삼 제품' '일반 가구' '1급 호텔' '카 메 라' '가정용품수리' '컴퓨터학원' '골프 용품' '골프연습장' '혼례서비스'\n",
      " '부동산중개/임대' '이륜차판매' '사무통신기기수리' '농축수산가공품' '주방용식기' '전자상거래 상품권 전문판매' '수입자동차'\n",
      " '문화취미기타' '성인용품점' '전문 서적' '기타의료기관및기타의료기기' '2급 호텔' '손해 보험' '면 세 점' 'PG 상품권'\n",
      " '비씨카드정산용(할인)' '기타수리서비스' '생명 보험' '통신판매(일반)' '신변잡화수리' '비영리/비대상' '사무 기기'\n",
      " '양 품 점' '이동통신요금' '카인테리어' '장례서비스' '카지노' '갈비전문점' '전기차충전소' '초중고교육기관'\n",
      " '기타회원제형태업소3' 'L P G' '제약회사' '연 쇄 점' '한방병원' '냉열 기기' '테니스 장' '치과병원' '볼 링 장'\n",
      " '공공 요금' '정기간행물' '비료/농약/사료/종자' '부동산분양' '통신서비스/비대상' '통신서비스' '기타회원제형태업소1'\n",
      " '렌 트 카' '수 영 장' '레져용품수리' '산후조리원' '기타광학품' '정 수 기' '캐쥬얼의류' '건강식품(회원제형태)'\n",
      " '유   리' '공공요금/대상' '기타주방용구' '고속 버스' '와이셔츠/타이' '기타교통수단' '단체복' '일반백화점'\n",
      " '기타농업관련' '기타자동차서비스' '유치원' 'CATV' '철   도' '보관창고업' '종합레져타운' '사업자미등록개인'\n",
      " '학습지교육' '공무원연금매점' '사무서비스(회원제형태)' '기타보험' '자동차서비스(회원제형태)' '국산 신차' '한정식'\n",
      " '대학등록금' '철제 가구' '견인서비스' '통신판매2' '골프경기장' '건강진단' '여 객 선' '기타연료' '정보서비스'\n",
      " '농기계' '교육테이프' '국산신차직영부품/정비업소' '중고자동차' '외국인전용가맹점' '전자상거래 상품권' '콘   도'\n",
      " '통신판매1' '기타회원제형태업소2' '기타회원제형태업소5' '스 키 장' '기타비영리유통' '위성방송' '유학원' '중장비수리'\n",
      " '기타 운송' '골동품 점' '피아노대리점' '조산원' '혼수전문점' '통신판매(생활서비스)' '자체물품대금' '통신기기무이자할부'\n",
      " '총포류판매' '택시회사' 'P2P송금' '중고자동차위탁판매'] \n",
      "\n",
      "\"food\" 산업군이 포함하고 있는 업종 : ['약국' '일반한식' '미 용 원' '의원' '보습학원' '슈퍼 마켓' '편 의 점' '서양음식' '기타레져업' '주점' '스넥'\n",
      " '제과점' '기타음료식품' '사무서비스' '중국음식' '자동차정비' '정장' '노래방' '일식회집' '당구장' '악세 사리'\n",
      " '안경' '화 장 품' '치과의원' '한의원' '유아원' '문구용 품' '기타잡화' '인터넷종합Mall' '주 차 장'\n",
      " '기계 공구' '세탁소' '기타건축자재' '농축수산품' '단란주점' '유흥주점' '자동차부품' '예체능학원' '화   원'\n",
      " '애완 동물' '스포츠레져용품' '독서실' '기타숙박업' '정 육 점' '대형할인점' '조명 기구' '종합용역' '미곡상'\n",
      " '출판인쇄물' '위탁급식업' '헬스 크럽' '사우나' '컴 퓨 터' '통신 기기' '전자(상우회)' '기타사무용품' '완 구 점'\n",
      " '화방표구점' '가전 제품' '기타전기제품' '인터넷P/G' '학원(회원제형태)' '기타전문점' '레져업소(회원제형태)'\n",
      " '칵테일바' '동물병원' '의료 용품' '일반 서적' '침구수예점' '피부미용실' '악 기 점' '관광여행' '맞춤복 점'\n",
      " '내의판매점' '신   발' '사진관' '과학기자재' '스포츠의류' '항 공 사' '특급 호텔' '상품권' '법률회계서비스(개인)'\n",
      " '화물 운송' '외국어학원' '구내매점(국가기관등)' '법률회계서비스(법인)' '아동의류' 'CATV홈쇼핑' '기능학원'\n",
      " '기념품 점' '기타대인서비스' '주 유 소' '스크린골프' '귀 금 속' '비 영 리' '서적출판(회원제형태)' '병원'\n",
      " '기타가구' '수 족 관' '시   계' '기타건강식' '보일러펌프샷시' '기타유통업' '안마/스포츠마사지' '미용 재료'\n",
      " '소프트웨어' '화   랑' '옷감 직물' '기타의류' '상품권 전문판매' '민예공예품' '기타 교육' '세 차 장' '영화관'\n",
      " '자사카드발행백화점' '주류판매점' '홍삼 제품' '페 인 트' '윤활유전문판매' '자동차시트/타이어' '기타회원제형태업소4'\n",
      " '가   방' '기타용역서비스' '이 용 원' '종합병원' '티켓' '인터넷Mall' '택   시' '제 화 점' '기타직물'\n",
      " '기타서적문구' '조세서비스(특약)' '조세서비스' '건축요업품' '인테 리어' '주방 용구' '한약방' '유류 판매'\n",
      " '인삼 제품' '일반 가구' '1급 호텔' '카 메 라' '가정용품수리' '컴퓨터학원' '골프 용품' '골프연습장' '혼례서비스'\n",
      " '부동산중개/임대' '이륜차판매' '사무통신기기수리' '농축수산가공품' '주방용식기' '전자상거래 상품권 전문판매' '수입자동차'\n",
      " '문화취미기타' '성인용품점' '전문 서적' '기타의료기관및기타의료기기' '2급 호텔' '손해 보험' '면 세 점' 'PG 상품권'\n",
      " '비씨카드정산용(할인)' '기타수리서비스' '생명 보험' '통신판매(일반)' '신변잡화수리' '비영리/비대상' '사무 기기'\n",
      " '양 품 점' '이동통신요금' '카인테리어' '장례서비스' '카지노' '갈비전문점' '전기차충전소' '초중고교육기관'\n",
      " '기타회원제형태업소3' 'L P G' '제약회사' '연 쇄 점' '한방병원' '냉열 기기' '테니스 장' '치과병원' '볼 링 장'\n",
      " '공공 요금' '정기간행물' '비료/농약/사료/종자' '부동산분양' '통신서비스/비대상' '통신서비스' '기타회원제형태업소1'\n",
      " '렌 트 카' '수 영 장' '레져용품수리' '산후조리원' '기타광학품' '정 수 기' '캐쥬얼의류' '건강식품(회원제형태)'\n",
      " '유   리' '공공요금/대상' '기타주방용구' '고속 버스' '와이셔츠/타이' '기타교통수단' '단체복' '일반백화점'\n",
      " '기타농업관련' '기타자동차서비스' '유치원' 'CATV' '철   도' '보관창고업' '종합레져타운' '사업자미등록개인'\n",
      " '학습지교육' '공무원연금매점' '사무서비스(회원제형태)' '기타보험' '자동차서비스(회원제형태)' '국산 신차' '한정식'\n",
      " '대학등록금' '철제 가구' '견인서비스' '통신판매2' '골프경기장' '건강진단' '여 객 선' '기타연료' '정보서비스'\n",
      " '농기계' '교육테이프' '국산신차직영부품/정비업소' '중고자동차' '외국인전용가맹점' '전자상거래 상품권' '콘   도'\n",
      " '통신판매1' '기타회원제형태업소2' '기타회원제형태업소5' '스 키 장' '기타비영리유통' '위성방송' '유학원' '중장비수리'\n",
      " '기타 운송' '골동품 점' '피아노대리점' '조산원' '혼수전문점' '통신판매(생활서비스)' '자체물품대금' '통신기기무이자할부'\n",
      " '총포류판매' '택시회사' 'P2P송금' '중고자동차위탁판매'] \n",
      "\n",
      "\"ect_service\" 산업군이 포함하고 있는 업종 : ['사무서비스' '기계 공구' '세탁소' '기타건축자재' '조명 기구' '종합용역' '학원(회원제형태)' '기타전문점'\n",
      " '레져업소(회원제형태)' '법률회계서비스(개인)' '화물 운송' '법률회계서비스(법인)' '비 영 리' '서적출판(회원제형태)'\n",
      " '보일러펌프샷시' '소프트웨어' '페 인 트' '기타회원제형태업소4' '기타용역서비스' '조세서비스(특약)' '조세서비스'\n",
      " '건축요업품' '인테 리어' '가정용품수리' '혼례서비스' '부동산중개/임대' '사무통신기기수리' '비씨카드정산용(할인)'\n",
      " '기타수리서비스' '통신판매(일반)' '신변잡화수리' '비영리/비대상' '이동통신요금' '장례서비스' '기타회원제형태업소3'\n",
      " '공공 요금' '비료/농약/사료/종자' '부동산분양' '통신서비스/비대상' '통신서비스' '기타회원제형태업소1' '레져용품수리'\n",
      " '건강식품(회원제형태)' '유   리' '공공요금/대상' '기타농업관련' 'CATV' '보관창고업' '사업자미등록개인'\n",
      " '사무서비스(회원제형태)' '자동차서비스(회원제형태)' '정보서비스' '농기계' '외국인전용가맹점' '기타회원제형태업소2'\n",
      " '기타회원제형태업소5' '위성방송' '통신판매(생활서비스)' '자체물품대금' 'P2P송금'] \n",
      "\n"
     ]
    }
   ],
   "source": [
    "print('\"accommo/traffic\" 산업군이 포함하고 있는 업종 : {} \\n'.format((df_01.mrhst_induty_cl_nm.unique())))\n",
    "print('\"sports/art/culture\" 산업군이 포함하고 있는 업종 : {} \\n'.format((df_02.mrhst_induty_cl_nm.unique())))\n",
    "print('\"household goods/fuel\" 산업군이 포함하고 있는 업종 : {} \\n'.format((df_03.mrhst_induty_cl_nm.unique())))\n",
    "print('\"distribution/clothing stuff\" 산업군이 포함하고 있는 업종 : {} \\n'.format((df_04.mrhst_induty_cl_nm.unique())))\n",
    "print('\"books/edu/office\" 산업군이 포함하고 있는 업종 : {} \\n'.format((df_05.mrhst_induty_cl_nm.unique())))\n",
    "print('\"vehicle service/equipment\" 산업군이 포함하고 있는 업종 : {} \\n'.format((df_06.mrhst_induty_cl_nm.unique())))\n",
    "print('\"medical/beauty\" 산업군이 포함하고 있는 업종 : {} \\n'.format((df_07.mrhst_induty_cl_nm.unique())))\n",
    "print('\"food\" 산업군이 포함하고 있는 업종 : {} \\n'.format((df_08.mrhst_induty_cl_nm.unique())))\n",
    "print('\"ect_service\" 산업군이 포함하고 있는 업종 : {} \\n'.format((df_09.mrhst_induty_cl_nm.unique())))"
   ]
  },
  {
   "cell_type": "code",
   "execution_count": 56,
   "metadata": {},
   "outputs": [],
   "source": [
    "# 산업군별 매출데이터를 확인하기\n",
    "g = pd.DataFrame(card.groupby(by = ('indust'))['salamt'].sum())\n",
    "g.reset_index(inplace = True)\n",
    "g.sort_values('salamt', ascending = False, inplace = True)"
   ]
  },
  {
   "attachments": {
    "1.JPG": {
     "image/jpeg": "[encoded data removed]"
    },
    "2.JPG": {
     "image/jpeg": "[encoded data removed]"
    },
    "3.JPG": {
     "image/jpeg": "[encoded data removed]"
    },
    "4.JPG": {
     "image/jpeg": "[encoded data removed]"
    }
   },
   "cell_type": "markdown",
   "metadata": {},
   "source": [
    "# merge 명령을 사용한 데이터프레임 병합\n",
    "\n",
    "merge 명령은 두 데이터 프레임의 공통 열 혹은 인덱스를 기준으로 두 개의 테이블을 합친다.\n",
    "\n",
    "이 때 기준이 되는 열, 행의 데이터를 키(key)라고 한다.\n",
    "\n",
    "![1.JPG](attachment:1.JPG)\n",
    "\n",
    "1) inner join: merge 명령으로 위의 두 데이터프레임 df1, df2 를 합치면 공통 열인 고객번호 열을 기준으로 데이터를 찾아서 합친다. 이 때 기본적으로는 양쪽 데이터프레임에 모두 키가 존재하는 데이터만 보여주는 inner join 방식을 사용한다.\n",
    "\n",
    "![2.JPG](attachment:2.JPG)\n",
    "\n",
    "2) outer join: 키 값이 한쪽에만 있어도 데이터를 보여준다.\n",
    "\n",
    "![3.JPG](attachment:3.JPG)\n",
    "\n",
    "3) left, right: 각각 첫번째, 혹은 두번째 데이터프레임의 키 값을 모두 보여준다.\n",
    "\n",
    "![4.JPG](attachment:4.JPG)\n",
    "\n",
    "4) on 인수: 두 데이터프레임에서 이름이 같은 열은 모두 키가 된다. 만약 이름이 같아도 키가 되면 안되는 열이 있다면 on 인수로 기준열을 명시해야 한다. \n"
   ]
  },
  {
   "cell_type": "code",
   "execution_count": 57,
   "metadata": {},
   "outputs": [
    {
     "data": {
      "image/png": "[encoded data removed]",
      "text/plain": [
       "<Figure size 864x432 with 2 Axes>"
      ]
     },
     "metadata": {
      "needs_background": "light"
     },
     "output_type": "display_data"
    }
   ],
   "source": [
    "# 월별 매출 증감 폭을 확인하기.\n",
    "# 유통/의류, 기타a서비스, 음식 순으로 유망하다고 생각할 수 있지만\n",
    "# 오른쪽 그래프를 보면 코로나-19 사태이후 5월이 되어서야 기존의 1월의 매출 수준을 겨우 따라잡은 산업군들이 있다. \n",
    "\n",
    "s = pd.DataFrame(card.groupby(by = ['indust', 'month'])['salamt'].sum()).reset_index()\n",
    "s = s[s['month'] != 6]\n",
    "ss = pd.DataFrame(s.groupby('indust')['salamt'].sum()).reset_index()\n",
    "ss.columns = ['indust', 'sum_salamt']\n",
    "s = pd.merge(s, ss, how = 'inner', on = 'indust')\n",
    "s['per'] = s['salamt']/s['sum_salamt']\n",
    "\n",
    "plt.figure(figsize = (12, 6))\n",
    "\n",
    "plt.subplot(121)\n",
    "plt.title('산업군별 총매출', fontsize = 20)\n",
    "ax = sns.barplot(data = g, x = 'salamt', y = 'indust', palette = 'Blues_d')\n",
    "\n",
    "plt.subplot(122)\n",
    "plt.title('월별 매출 변화량', fontsize = 20)\n",
    "ax = sns.lineplot(data = s[s['indust'].str.contains('dist|ect|food|veh|acc')],\n",
    "                  x = 'month', y = 'per', hue=  'indust', palette = 'Set2')\n",
    "\n",
    "plt.show()"
   ]
  },
  {
   "cell_type": "markdown",
   "metadata": {},
   "source": [
    "## 코로나"
   ]
  },
  {
   "cell_type": "code",
   "execution_count": 73,
   "metadata": {},
   "outputs": [],
   "source": [
    "case= pd.read_csv('C:/jupyter_project/CORONA/COVID_19/Time.csv')"
   ]
  },
  {
   "cell_type": "markdown",
   "metadata": {},
   "source": [
    "###  Time 데이터 변수설명\n",
    "\n",
    "- date: YYYY-MM-DD\n",
    "\n",
    "- time: Time (0 = AM 12:00 / 16 = PM 04:00)\n",
    "\n",
    "The time for KCDC to open the information has been changed from PM 04:00 to AM 12:00 since March 2nd.\n",
    "\n",
    "- test: the accumulated number of tests\n",
    "\n",
    "A test is a diagnosis of an infection.\n",
    "\n",
    "- negative: the accumulated number of negative results\n",
    "\n",
    "- confirmed: the accumulated number of positive results\n",
    "\n",
    "- released: the accumulated number of releases\n",
    "\n",
    "- deceased: the accumulated number of deceases"
   ]
  },
  {
   "cell_type": "code",
   "execution_count": 74,
   "metadata": {},
   "outputs": [],
   "source": [
    "case= pd.read_csv('C:/jupyter_project/CORONA/COVID_19/Time.csv',usecols=['date','confirmed'])"
   ]
  },
  {
   "cell_type": "code",
   "execution_count": 75,
   "metadata": {},
   "outputs": [
    {
     "name": "stdout",
     "output_type": "stream",
     "text": [
      "<class 'pandas.core.frame.DataFrame'>\n",
      "RangeIndex: 163 entries, 0 to 162\n",
      "Data columns (total 2 columns):\n",
      " #   Column     Non-Null Count  Dtype \n",
      "---  ------     --------------  ----- \n",
      " 0   date       163 non-null    object\n",
      " 1   confirmed  163 non-null    int64 \n",
      "dtypes: int64(1), object(1)\n",
      "memory usage: 2.7+ KB\n"
     ]
    }
   ],
   "source": [
    "case.info()"
   ]
  },
  {
   "cell_type": "code",
   "execution_count": 76,
   "metadata": {},
   "outputs": [
    {
     "data": {
      "text/html": [
       "<div>\n",
       "<style scoped>\n",
       "    .dataframe tbody tr th:only-of-type {\n",
       "        vertical-align: middle;\n",
       "    }\n",
       "\n",
       "    .dataframe tbody tr th {\n",
       "        vertical-align: top;\n",
       "    }\n",
       "\n",
       "    .dataframe thead th {\n",
       "        text-align: right;\n",
       "    }\n",
       "</style>\n",
       "<table border=\"1\" class=\"dataframe\">\n",
       "  <thead>\n",
       "    <tr style=\"text-align: right;\">\n",
       "      <th></th>\n",
       "      <th>date</th>\n",
       "      <th>confirmed</th>\n",
       "    </tr>\n",
       "  </thead>\n",
       "  <tbody>\n",
       "    <tr>\n",
       "      <th>162</th>\n",
       "      <td>2020-06-30</td>\n",
       "      <td>12800</td>\n",
       "    </tr>\n",
       "    <tr>\n",
       "      <th>161</th>\n",
       "      <td>2020-06-29</td>\n",
       "      <td>12757</td>\n",
       "    </tr>\n",
       "    <tr>\n",
       "      <th>160</th>\n",
       "      <td>2020-06-28</td>\n",
       "      <td>12715</td>\n",
       "    </tr>\n",
       "    <tr>\n",
       "      <th>159</th>\n",
       "      <td>2020-06-27</td>\n",
       "      <td>12653</td>\n",
       "    </tr>\n",
       "    <tr>\n",
       "      <th>158</th>\n",
       "      <td>2020-06-26</td>\n",
       "      <td>12602</td>\n",
       "    </tr>\n",
       "    <tr>\n",
       "      <th>...</th>\n",
       "      <td>...</td>\n",
       "      <td>...</td>\n",
       "    </tr>\n",
       "    <tr>\n",
       "      <th>4</th>\n",
       "      <td>2020-01-24</td>\n",
       "      <td>2</td>\n",
       "    </tr>\n",
       "    <tr>\n",
       "      <th>3</th>\n",
       "      <td>2020-01-23</td>\n",
       "      <td>1</td>\n",
       "    </tr>\n",
       "    <tr>\n",
       "      <th>2</th>\n",
       "      <td>2020-01-22</td>\n",
       "      <td>1</td>\n",
       "    </tr>\n",
       "    <tr>\n",
       "      <th>1</th>\n",
       "      <td>2020-01-21</td>\n",
       "      <td>1</td>\n",
       "    </tr>\n",
       "    <tr>\n",
       "      <th>0</th>\n",
       "      <td>2020-01-20</td>\n",
       "      <td>1</td>\n",
       "    </tr>\n",
       "  </tbody>\n",
       "</table>\n",
       "<p>163 rows × 2 columns</p>\n",
       "</div>"
      ],
      "text/plain": [
       "           date  confirmed\n",
       "162  2020-06-30      12800\n",
       "161  2020-06-29      12757\n",
       "160  2020-06-28      12715\n",
       "159  2020-06-27      12653\n",
       "158  2020-06-26      12602\n",
       "..          ...        ...\n",
       "4    2020-01-24          2\n",
       "3    2020-01-23          1\n",
       "2    2020-01-22          1\n",
       "1    2020-01-21          1\n",
       "0    2020-01-20          1\n",
       "\n",
       "[163 rows x 2 columns]"
      ]
     },
     "execution_count": 76,
     "metadata": {},
     "output_type": "execute_result"
    }
   ],
   "source": [
    "case=case.sort_values(['date'],ascending=False)\n",
    "case"
   ]
  },
  {
   "cell_type": "code",
   "execution_count": 77,
   "metadata": {},
   "outputs": [
    {
     "data": {
      "text/html": [
       "<div>\n",
       "<style scoped>\n",
       "    .dataframe tbody tr th:only-of-type {\n",
       "        vertical-align: middle;\n",
       "    }\n",
       "\n",
       "    .dataframe tbody tr th {\n",
       "        vertical-align: top;\n",
       "    }\n",
       "\n",
       "    .dataframe thead th {\n",
       "        text-align: right;\n",
       "    }\n",
       "</style>\n",
       "<table border=\"1\" class=\"dataframe\">\n",
       "  <thead>\n",
       "    <tr style=\"text-align: right;\">\n",
       "      <th></th>\n",
       "      <th>index</th>\n",
       "      <th>date</th>\n",
       "      <th>confirmed</th>\n",
       "    </tr>\n",
       "  </thead>\n",
       "  <tbody>\n",
       "    <tr>\n",
       "      <th>0</th>\n",
       "      <td>162</td>\n",
       "      <td>2020-06-30</td>\n",
       "      <td>12800</td>\n",
       "    </tr>\n",
       "    <tr>\n",
       "      <th>1</th>\n",
       "      <td>161</td>\n",
       "      <td>2020-06-29</td>\n",
       "      <td>12757</td>\n",
       "    </tr>\n",
       "    <tr>\n",
       "      <th>2</th>\n",
       "      <td>160</td>\n",
       "      <td>2020-06-28</td>\n",
       "      <td>12715</td>\n",
       "    </tr>\n",
       "    <tr>\n",
       "      <th>3</th>\n",
       "      <td>159</td>\n",
       "      <td>2020-06-27</td>\n",
       "      <td>12653</td>\n",
       "    </tr>\n",
       "    <tr>\n",
       "      <th>4</th>\n",
       "      <td>158</td>\n",
       "      <td>2020-06-26</td>\n",
       "      <td>12602</td>\n",
       "    </tr>\n",
       "    <tr>\n",
       "      <th>...</th>\n",
       "      <td>...</td>\n",
       "      <td>...</td>\n",
       "      <td>...</td>\n",
       "    </tr>\n",
       "    <tr>\n",
       "      <th>158</th>\n",
       "      <td>4</td>\n",
       "      <td>2020-01-24</td>\n",
       "      <td>2</td>\n",
       "    </tr>\n",
       "    <tr>\n",
       "      <th>159</th>\n",
       "      <td>3</td>\n",
       "      <td>2020-01-23</td>\n",
       "      <td>1</td>\n",
       "    </tr>\n",
       "    <tr>\n",
       "      <th>160</th>\n",
       "      <td>2</td>\n",
       "      <td>2020-01-22</td>\n",
       "      <td>1</td>\n",
       "    </tr>\n",
       "    <tr>\n",
       "      <th>161</th>\n",
       "      <td>1</td>\n",
       "      <td>2020-01-21</td>\n",
       "      <td>1</td>\n",
       "    </tr>\n",
       "    <tr>\n",
       "      <th>162</th>\n",
       "      <td>0</td>\n",
       "      <td>2020-01-20</td>\n",
       "      <td>1</td>\n",
       "    </tr>\n",
       "  </tbody>\n",
       "</table>\n",
       "<p>163 rows × 3 columns</p>\n",
       "</div>"
      ],
      "text/plain": [
       "     index        date  confirmed\n",
       "0      162  2020-06-30      12800\n",
       "1      161  2020-06-29      12757\n",
       "2      160  2020-06-28      12715\n",
       "3      159  2020-06-27      12653\n",
       "4      158  2020-06-26      12602\n",
       "..     ...         ...        ...\n",
       "158      4  2020-01-24          2\n",
       "159      3  2020-01-23          1\n",
       "160      2  2020-01-22          1\n",
       "161      1  2020-01-21          1\n",
       "162      0  2020-01-20          1\n",
       "\n",
       "[163 rows x 3 columns]"
      ]
     },
     "execution_count": 77,
     "metadata": {},
     "output_type": "execute_result"
    }
   ],
   "source": [
    "case=case.reset_index()\n",
    "case"
   ]
  },
  {
   "cell_type": "code",
   "execution_count": 78,
   "metadata": {},
   "outputs": [],
   "source": [
    "case=case.drop(['index'],axis=1)"
   ]
  },
  {
   "cell_type": "code",
   "execution_count": 79,
   "metadata": {},
   "outputs": [
    {
     "data": {
      "text/html": [
       "<div>\n",
       "<style scoped>\n",
       "    .dataframe tbody tr th:only-of-type {\n",
       "        vertical-align: middle;\n",
       "    }\n",
       "\n",
       "    .dataframe tbody tr th {\n",
       "        vertical-align: top;\n",
       "    }\n",
       "\n",
       "    .dataframe thead th {\n",
       "        text-align: right;\n",
       "    }\n",
       "</style>\n",
       "<table border=\"1\" class=\"dataframe\">\n",
       "  <thead>\n",
       "    <tr style=\"text-align: right;\">\n",
       "      <th></th>\n",
       "      <th>date</th>\n",
       "      <th>confirmed</th>\n",
       "    </tr>\n",
       "  </thead>\n",
       "  <tbody>\n",
       "    <tr>\n",
       "      <th>0</th>\n",
       "      <td>2020-06-30</td>\n",
       "      <td>12800</td>\n",
       "    </tr>\n",
       "    <tr>\n",
       "      <th>1</th>\n",
       "      <td>2020-06-29</td>\n",
       "      <td>12757</td>\n",
       "    </tr>\n",
       "    <tr>\n",
       "      <th>2</th>\n",
       "      <td>2020-06-28</td>\n",
       "      <td>12715</td>\n",
       "    </tr>\n",
       "    <tr>\n",
       "      <th>3</th>\n",
       "      <td>2020-06-27</td>\n",
       "      <td>12653</td>\n",
       "    </tr>\n",
       "    <tr>\n",
       "      <th>4</th>\n",
       "      <td>2020-06-26</td>\n",
       "      <td>12602</td>\n",
       "    </tr>\n",
       "    <tr>\n",
       "      <th>...</th>\n",
       "      <td>...</td>\n",
       "      <td>...</td>\n",
       "    </tr>\n",
       "    <tr>\n",
       "      <th>158</th>\n",
       "      <td>2020-01-24</td>\n",
       "      <td>2</td>\n",
       "    </tr>\n",
       "    <tr>\n",
       "      <th>159</th>\n",
       "      <td>2020-01-23</td>\n",
       "      <td>1</td>\n",
       "    </tr>\n",
       "    <tr>\n",
       "      <th>160</th>\n",
       "      <td>2020-01-22</td>\n",
       "      <td>1</td>\n",
       "    </tr>\n",
       "    <tr>\n",
       "      <th>161</th>\n",
       "      <td>2020-01-21</td>\n",
       "      <td>1</td>\n",
       "    </tr>\n",
       "    <tr>\n",
       "      <th>162</th>\n",
       "      <td>2020-01-20</td>\n",
       "      <td>1</td>\n",
       "    </tr>\n",
       "  </tbody>\n",
       "</table>\n",
       "<p>163 rows × 2 columns</p>\n",
       "</div>"
      ],
      "text/plain": [
       "           date  confirmed\n",
       "0    2020-06-30      12800\n",
       "1    2020-06-29      12757\n",
       "2    2020-06-28      12715\n",
       "3    2020-06-27      12653\n",
       "4    2020-06-26      12602\n",
       "..          ...        ...\n",
       "158  2020-01-24          2\n",
       "159  2020-01-23          1\n",
       "160  2020-01-22          1\n",
       "161  2020-01-21          1\n",
       "162  2020-01-20          1\n",
       "\n",
       "[163 rows x 2 columns]"
      ]
     },
     "execution_count": 79,
     "metadata": {},
     "output_type": "execute_result"
    }
   ],
   "source": [
    "case"
   ]
  },
  {
   "cell_type": "code",
   "execution_count": 80,
   "metadata": {},
   "outputs": [],
   "source": [
    "dict_case=[]\n",
    "for i in range(len(case)-1):\n",
    "    dict_case.append(case['confirmed'][i]-case['confirmed'][i+1])\n",
    "dict_case.append(1)\n",
    "\n",
    "case['daily']=dict_case\n",
    "case=case.sort_values(['date'],ascending=True)\n",
    "case=case.reset_index()\n",
    "case=case.drop(['index'],axis=1)"
   ]
  },
  {
   "cell_type": "code",
   "execution_count": 81,
   "metadata": {},
   "outputs": [],
   "source": [
    "case['daily']=dict_case\n",
    "case=case.sort_values(['date'],ascending=True)\n",
    "case=case.reset_index()\n",
    "case=case.drop(['index'],axis=1)"
   ]
  },
  {
   "cell_type": "code",
   "execution_count": 82,
   "metadata": {},
   "outputs": [
    {
     "data": {
      "application/vnd.plotly.v1+json": {
       "config": {
        "plotlyServerURL": "https://plot.ly"
       },
       "data": [
        {
         "alignmentgroup": "True",
         "hovertemplate": "date=%{x}<br>daily=%{y}<extra></extra>",
         "legendgroup": "",
         "marker": {
          "color": "#636efa"
         },
         "name": "",
         "offsetgroup": "",
         "orientation": "v",
         "showlegend": false,
         "textposition": "auto",
         "type": "bar",
         "x": [
          "2020-01-20",
          "2020-01-21",
          "2020-01-22",
          "2020-01-23",
          "2020-01-24",
          "2020-01-25",
          "2020-01-26",
          "2020-01-27",
          "2020-01-28",
          "2020-01-29",
          "2020-01-30",
          "2020-01-31",
          "2020-02-01",
          "2020-02-02",
          "2020-02-03",
          "2020-02-04",
          "2020-02-05",
          "2020-02-06",
          "2020-02-07",
          "2020-02-08",
          "2020-02-09",
          "2020-02-10",
          "2020-02-11",
          "2020-02-12",
          "2020-02-13",
          "2020-02-14",
          "2020-02-15",
          "2020-02-16",
          "2020-02-17",
          "2020-02-18",
          "2020-02-19",
          "2020-02-20",
          "2020-02-21",
          "2020-02-22",
          "2020-02-23",
          "2020-02-24",
          "2020-02-25",
          "2020-02-26",
          "2020-02-27",
          "2020-02-28",
          "2020-02-29",
          "2020-03-01",
          "2020-03-02",
          "2020-03-03",
          "2020-03-04",
          "2020-03-05",
          "2020-03-06",
          "2020-03-07",
          "2020-03-08",
          "2020-03-09",
          "2020-03-10",
          "2020-03-11",
          "2020-03-12",
          "2020-03-13",
          "2020-03-14",
          "2020-03-15",
          "2020-03-16",
          "2020-03-17",
          "2020-03-18",
          "2020-03-19",
          "2020-03-20",
          "2020-03-21",
          "2020-03-22",
          "2020-03-23",
          "2020-03-24",
          "2020-03-25",
          "2020-03-26",
          "2020-03-27",
          "2020-03-28",
          "2020-03-29",
          "2020-03-30",
          "2020-03-31",
          "2020-04-01",
          "2020-04-02",
          "2020-04-03",
          "2020-04-04",
          "2020-04-05",
          "2020-04-06",
          "2020-04-07",
          "2020-04-08",
          "2020-04-09",
          "2020-04-10",
          "2020-04-11",
          "2020-04-12",
          "2020-04-13",
          "2020-04-14",
          "2020-04-15",
          "2020-04-16",
          "2020-04-17",
          "2020-04-18",
          "2020-04-19",
          "2020-04-20",
          "2020-04-21",
          "2020-04-22",
          "2020-04-23",
          "2020-04-24",
          "2020-04-25",
          "2020-04-26",
          "2020-04-27",
          "2020-04-28",
          "2020-04-29",
          "2020-04-30",
          "2020-05-01",
          "2020-05-02",
          "2020-05-03",
          "2020-05-04",
          "2020-05-05",
          "2020-05-06",
          "2020-05-07",
          "2020-05-08",
          "2020-05-09",
          "2020-05-10",
          "2020-05-11",
          "2020-05-12",
          "2020-05-13",
          "2020-05-14",
          "2020-05-15",
          "2020-05-16",
          "2020-05-17",
          "2020-05-18",
          "2020-05-19",
          "2020-05-20",
          "2020-05-21",
          "2020-05-22",
          "2020-05-23",
          "2020-05-24",
          "2020-05-25",
          "2020-05-26",
          "2020-05-27",
          "2020-05-28",
          "2020-05-29",
          "2020-05-30",
          "2020-05-31",
          "2020-06-01",
          "2020-06-02",
          "2020-06-03",
          "2020-06-04",
          "2020-06-05",
          "2020-06-06",
          "2020-06-07",
          "2020-06-08",
          "2020-06-09",
          "2020-06-10",
          "2020-06-11",
          "2020-06-12",
          "2020-06-13",
          "2020-06-14",
          "2020-06-15",
          "2020-06-16",
          "2020-06-17",
          "2020-06-18",
          "2020-06-19",
          "2020-06-20",
          "2020-06-21",
          "2020-06-22",
          "2020-06-23",
          "2020-06-24",
          "2020-06-25",
          "2020-06-26",
          "2020-06-27",
          "2020-06-28",
          "2020-06-29",
          "2020-06-30"
         ],
         "xaxis": "x",
         "y": [
          43,
          42,
          62,
          51,
          39,
          28,
          51,
          46,
          17,
          48,
          67,
          49,
          59,
          43,
          34,
          36,
          34,
          48,
          56,
          45,
          50,
          38,
          38,
          57,
          51,
          39,
          39,
          49,
          38,
          35,
          27,
          39,
          58,
          79,
          40,
          19,
          16,
          25,
          23,
          20,
          12,
          32,
          13,
          15,
          13,
          19,
          27,
          29,
          26,
          27,
          35,
          34,
          18,
          12,
          4,
          2,
          3,
          8,
          13,
          6,
          9,
          4,
          9,
          14,
          10,
          10,
          10,
          6,
          8,
          11,
          9,
          13,
          8,
          18,
          22,
          22,
          27,
          27,
          25,
          32,
          30,
          27,
          39,
          53,
          47,
          47,
          81,
          94,
          86,
          89,
          101,
          125,
          78,
          105,
          146,
          91,
          104,
          100,
          76,
          64,
          98,
          147,
          87,
          152,
          93,
          84,
          110,
          40,
          107,
          110,
          114,
          242,
          131,
          248,
          367,
          483,
          518,
          438,
          516,
          600,
          476,
          586,
          813,
          571,
          505,
          284,
          144,
          231,
          169,
          229,
          100,
          53,
          20,
          1,
          1,
          1,
          0,
          0,
          0,
          0,
          1,
          0,
          3,
          0,
          1,
          5,
          2,
          1,
          0,
          3,
          1,
          5,
          2,
          0,
          0,
          1,
          1,
          0,
          1,
          0,
          0,
          0,
          1
         ],
         "yaxis": "y"
        }
       ],
       "layout": {
        "barmode": "relative",
        "legend": {
         "tracegroupgap": 0
        },
        "margin": {
         "t": 60
        },
        "template": {
         "data": {
          "bar": [
           {
            "error_x": {
             "color": "#2a3f5f"
            },
            "error_y": {
             "color": "#2a3f5f"
            },
            "marker": {
             "line": {
              "color": "#E5ECF6",
              "width": 0.5
             }
            },
            "type": "bar"
           }
          ],
          "barpolar": [
           {
            "marker": {
             "line": {
              "color": "#E5ECF6",
              "width": 0.5
             }
            },
            "type": "barpolar"
           }
          ],
          "carpet": [
           {
            "aaxis": {
             "endlinecolor": "#2a3f5f",
             "gridcolor": "white",
             "linecolor": "white",
             "minorgridcolor": "white",
             "startlinecolor": "#2a3f5f"
            },
            "baxis": {
             "endlinecolor": "#2a3f5f",
             "gridcolor": "white",
             "linecolor": "white",
             "minorgridcolor": "white",
             "startlinecolor": "#2a3f5f"
            },
            "type": "carpet"
           }
          ],
          "choropleth": [
           {
            "colorbar": {
             "outlinewidth": 0,
             "ticks": ""
            },
            "type": "choropleth"
           }
          ],
          "contour": [
           {
            "colorbar": {
             "outlinewidth": 0,
             "ticks": ""
            },
            "colorscale": [
             [
              0,
              "#0d0887"
             ],
             [
              0.1111111111111111,
              "#46039f"
             ],
             [
              0.2222222222222222,
              "#7201a8"
             ],
             [
              0.3333333333333333,
              "#9c179e"
             ],
             [
              0.4444444444444444,
              "#bd3786"
             ],
             [
              0.5555555555555556,
              "#d8576b"
             ],
             [
              0.6666666666666666,
              "#ed7953"
             ],
             [
              0.7777777777777778,
              "#fb9f3a"
             ],
             [
              0.8888888888888888,
              "#fdca26"
             ],
             [
              1,
              "#f0f921"
             ]
            ],
            "type": "contour"
           }
          ],
          "contourcarpet": [
           {
            "colorbar": {
             "outlinewidth": 0,
             "ticks": ""
            },
            "type": "contourcarpet"
           }
          ],
          "heatmap": [
           {
            "colorbar": {
             "outlinewidth": 0,
             "ticks": ""
            },
            "colorscale": [
             [
              0,
              "#0d0887"
             ],
             [
              0.1111111111111111,
              "#46039f"
             ],
             [
              0.2222222222222222,
              "#7201a8"
             ],
             [
              0.3333333333333333,
              "#9c179e"
             ],
             [
              0.4444444444444444,
              "#bd3786"
             ],
             [
              0.5555555555555556,
              "#d8576b"
             ],
             [
              0.6666666666666666,
              "#ed7953"
             ],
             [
              0.7777777777777778,
              "#fb9f3a"
             ],
             [
              0.8888888888888888,
              "#fdca26"
             ],
             [
              1,
              "#f0f921"
             ]
            ],
            "type": "heatmap"
           }
          ],
          "heatmapgl": [
           {
            "colorbar": {
             "outlinewidth": 0,
             "ticks": ""
            },
            "colorscale": [
             [
              0,
              "#0d0887"
             ],
             [
              0.1111111111111111,
              "#46039f"
             ],
             [
              0.2222222222222222,
              "#7201a8"
             ],
             [
              0.3333333333333333,
              "#9c179e"
             ],
             [
              0.4444444444444444,
              "#bd3786"
             ],
             [
              0.5555555555555556,
              "#d8576b"
             ],
             [
              0.6666666666666666,
              "#ed7953"
             ],
             [
              0.7777777777777778,
              "#fb9f3a"
             ],
             [
              0.8888888888888888,
              "#fdca26"
             ],
             [
              1,
              "#f0f921"
             ]
            ],
            "type": "heatmapgl"
           }
          ],
          "histogram": [
           {
            "marker": {
             "colorbar": {
              "outlinewidth": 0,
              "ticks": ""
             }
            },
            "type": "histogram"
           }
          ],
          "histogram2d": [
           {
            "colorbar": {
             "outlinewidth": 0,
             "ticks": ""
            },
            "colorscale": [
             [
              0,
              "#0d0887"
             ],
             [
              0.1111111111111111,
              "#46039f"
             ],
             [
              0.2222222222222222,
              "#7201a8"
             ],
             [
              0.3333333333333333,
              "#9c179e"
             ],
             [
              0.4444444444444444,
              "#bd3786"
             ],
             [
              0.5555555555555556,
              "#d8576b"
             ],
             [
              0.6666666666666666,
              "#ed7953"
             ],
             [
              0.7777777777777778,
              "#fb9f3a"
             ],
             [
              0.8888888888888888,
              "#fdca26"
             ],
             [
              1,
              "#f0f921"
             ]
            ],
            "type": "histogram2d"
           }
          ],
          "histogram2dcontour": [
           {
            "colorbar": {
             "outlinewidth": 0,
             "ticks": ""
            },
            "colorscale": [
             [
              0,
              "#0d0887"
             ],
             [
              0.1111111111111111,
              "#46039f"
             ],
             [
              0.2222222222222222,
              "#7201a8"
             ],
             [
              0.3333333333333333,
              "#9c179e"
             ],
             [
              0.4444444444444444,
              "#bd3786"
             ],
             [
              0.5555555555555556,
              "#d8576b"
             ],
             [
              0.6666666666666666,
              "#ed7953"
             ],
             [
              0.7777777777777778,
              "#fb9f3a"
             ],
             [
              0.8888888888888888,
              "#fdca26"
             ],
             [
              1,
              "#f0f921"
             ]
            ],
            "type": "histogram2dcontour"
           }
          ],
          "mesh3d": [
           {
            "colorbar": {
             "outlinewidth": 0,
             "ticks": ""
            },
            "type": "mesh3d"
           }
          ],
          "parcoords": [
           {
            "line": {
             "colorbar": {
              "outlinewidth": 0,
              "ticks": ""
             }
            },
            "type": "parcoords"
           }
          ],
          "pie": [
           {
            "automargin": true,
            "type": "pie"
           }
          ],
          "scatter": [
           {
            "marker": {
             "colorbar": {
              "outlinewidth": 0,
              "ticks": ""
             }
            },
            "type": "scatter"
           }
          ],
          "scatter3d": [
           {
            "line": {
             "colorbar": {
              "outlinewidth": 0,
              "ticks": ""
             }
            },
            "marker": {
             "colorbar": {
              "outlinewidth": 0,
              "ticks": ""
             }
            },
            "type": "scatter3d"
           }
          ],
          "scattercarpet": [
           {
            "marker": {
             "colorbar": {
              "outlinewidth": 0,
              "ticks": ""
             }
            },
            "type": "scattercarpet"
           }
          ],
          "scattergeo": [
           {
            "marker": {
             "colorbar": {
              "outlinewidth": 0,
              "ticks": ""
             }
            },
            "type": "scattergeo"
           }
          ],
          "scattergl": [
           {
            "marker": {
             "colorbar": {
              "outlinewidth": 0,
              "ticks": ""
             }
            },
            "type": "scattergl"
           }
          ],
          "scattermapbox": [
           {
            "marker": {
             "colorbar": {
              "outlinewidth": 0,
              "ticks": ""
             }
            },
            "type": "scattermapbox"
           }
          ],
          "scatterpolar": [
           {
            "marker": {
             "colorbar": {
              "outlinewidth": 0,
              "ticks": ""
             }
            },
            "type": "scatterpolar"
           }
          ],
          "scatterpolargl": [
           {
            "marker": {
             "colorbar": {
              "outlinewidth": 0,
              "ticks": ""
             }
            },
            "type": "scatterpolargl"
           }
          ],
          "scatterternary": [
           {
            "marker": {
             "colorbar": {
              "outlinewidth": 0,
              "ticks": ""
             }
            },
            "type": "scatterternary"
           }
          ],
          "surface": [
           {
            "colorbar": {
             "outlinewidth": 0,
             "ticks": ""
            },
            "colorscale": [
             [
              0,
              "#0d0887"
             ],
             [
              0.1111111111111111,
              "#46039f"
             ],
             [
              0.2222222222222222,
              "#7201a8"
             ],
             [
              0.3333333333333333,
              "#9c179e"
             ],
             [
              0.4444444444444444,
              "#bd3786"
             ],
             [
              0.5555555555555556,
              "#d8576b"
             ],
             [
              0.6666666666666666,
              "#ed7953"
             ],
             [
              0.7777777777777778,
              "#fb9f3a"
             ],
             [
              0.8888888888888888,
              "#fdca26"
             ],
             [
              1,
              "#f0f921"
             ]
            ],
            "type": "surface"
           }
          ],
          "table": [
           {
            "cells": {
             "fill": {
              "color": "#EBF0F8"
             },
             "line": {
              "color": "white"
             }
            },
            "header": {
             "fill": {
              "color": "#C8D4E3"
             },
             "line": {
              "color": "white"
             }
            },
            "type": "table"
           }
          ]
         },
         "layout": {
          "annotationdefaults": {
           "arrowcolor": "#2a3f5f",
           "arrowhead": 0,
           "arrowwidth": 1
          },
          "coloraxis": {
           "colorbar": {
            "outlinewidth": 0,
            "ticks": ""
           }
          },
          "colorscale": {
           "diverging": [
            [
             0,
             "#8e0152"
            ],
            [
             0.1,
             "#c51b7d"
            ],
            [
             0.2,
             "#de77ae"
            ],
            [
             0.3,
             "#f1b6da"
            ],
            [
             0.4,
             "#fde0ef"
            ],
            [
             0.5,
             "#f7f7f7"
            ],
            [
             0.6,
             "#e6f5d0"
            ],
            [
             0.7,
             "#b8e186"
            ],
            [
             0.8,
             "#7fbc41"
            ],
            [
             0.9,
             "#4d9221"
            ],
            [
             1,
             "#276419"
            ]
           ],
           "sequential": [
            [
             0,
             "#0d0887"
            ],
            [
             0.1111111111111111,
             "#46039f"
            ],
            [
             0.2222222222222222,
             "#7201a8"
            ],
            [
             0.3333333333333333,
             "#9c179e"
            ],
            [
             0.4444444444444444,
             "#bd3786"
            ],
            [
             0.5555555555555556,
             "#d8576b"
            ],
            [
             0.6666666666666666,
             "#ed7953"
            ],
            [
             0.7777777777777778,
             "#fb9f3a"
            ],
            [
             0.8888888888888888,
             "#fdca26"
            ],
            [
             1,
             "#f0f921"
            ]
           ],
           "sequentialminus": [
            [
             0,
             "#0d0887"
            ],
            [
             0.1111111111111111,
             "#46039f"
            ],
            [
             0.2222222222222222,
             "#7201a8"
            ],
            [
             0.3333333333333333,
             "#9c179e"
            ],
            [
             0.4444444444444444,
             "#bd3786"
            ],
            [
             0.5555555555555556,
             "#d8576b"
            ],
            [
             0.6666666666666666,
             "#ed7953"
            ],
            [
             0.7777777777777778,
             "#fb9f3a"
            ],
            [
             0.8888888888888888,
             "#fdca26"
            ],
            [
             1,
             "#f0f921"
            ]
           ]
          },
          "colorway": [
           "#636efa",
           "#EF553B",
           "#00cc96",
           "#ab63fa",
           "#FFA15A",
           "#19d3f3",
           "#FF6692",
           "#B6E880",
           "#FF97FF",
           "#FECB52"
          ],
          "font": {
           "color": "#2a3f5f"
          },
          "geo": {
           "bgcolor": "white",
           "lakecolor": "white",
           "landcolor": "#E5ECF6",
           "showlakes": true,
           "showland": true,
           "subunitcolor": "white"
          },
          "hoverlabel": {
           "align": "left"
          },
          "hovermode": "closest",
          "mapbox": {
           "style": "light"
          },
          "paper_bgcolor": "white",
          "plot_bgcolor": "#E5ECF6",
          "polar": {
           "angularaxis": {
            "gridcolor": "white",
            "linecolor": "white",
            "ticks": ""
           },
           "bgcolor": "#E5ECF6",
           "radialaxis": {
            "gridcolor": "white",
            "linecolor": "white",
            "ticks": ""
           }
          },
          "scene": {
           "xaxis": {
            "backgroundcolor": "#E5ECF6",
            "gridcolor": "white",
            "gridwidth": 2,
            "linecolor": "white",
            "showbackground": true,
            "ticks": "",
            "zerolinecolor": "white"
           },
           "yaxis": {
            "backgroundcolor": "#E5ECF6",
            "gridcolor": "white",
            "gridwidth": 2,
            "linecolor": "white",
            "showbackground": true,
            "ticks": "",
            "zerolinecolor": "white"
           },
           "zaxis": {
            "backgroundcolor": "#E5ECF6",
            "gridcolor": "white",
            "gridwidth": 2,
            "linecolor": "white",
            "showbackground": true,
            "ticks": "",
            "zerolinecolor": "white"
           }
          },
          "shapedefaults": {
           "line": {
            "color": "#2a3f5f"
           }
          },
          "ternary": {
           "aaxis": {
            "gridcolor": "white",
            "linecolor": "white",
            "ticks": ""
           },
           "baxis": {
            "gridcolor": "white",
            "linecolor": "white",
            "ticks": ""
           },
           "bgcolor": "#E5ECF6",
           "caxis": {
            "gridcolor": "white",
            "linecolor": "white",
            "ticks": ""
           }
          },
          "title": {
           "x": 0.05
          },
          "xaxis": {
           "automargin": true,
           "gridcolor": "white",
           "linecolor": "white",
           "ticks": "",
           "title": {
            "standoff": 15
           },
           "zerolinecolor": "white",
           "zerolinewidth": 2
          },
          "yaxis": {
           "automargin": true,
           "gridcolor": "white",
           "linecolor": "white",
           "ticks": "",
           "title": {
            "standoff": 15
           },
           "zerolinecolor": "white",
           "zerolinewidth": 2
          }
         }
        },
        "title": {
         "text": "확진자 추이(전국)",
         "x": 0.5,
         "xanchor": "center",
         "y": 1,
         "yanchor": "top"
        },
        "xaxis": {
         "anchor": "y",
         "domain": [
          0,
          1
         ],
         "title": {
          "text": "date"
         }
        },
        "yaxis": {
         "anchor": "x",
         "domain": [
          0,
          1
         ],
         "title": {
          "text": "daily"
         }
        }
       }
      },
      "text/html": [
       "<div>\n",
       "        \n",
       "        \n",
       "            <div id=\"5194c689-7bb0-43da-9a20-2ea674bb62fd\" class=\"plotly-graph-div\" style=\"height:525px; width:100%;\"></div>\n",
       "            <script type=\"text/javascript\">\n",
       "                require([\"plotly\"], function(Plotly) {\n",
       "                    window.PLOTLYENV=window.PLOTLYENV || {};\n",
       "                    \n",
       "                if (document.getElementById(\"5194c689-7bb0-43da-9a20-2ea674bb62fd\")) {\n",
       "                    Plotly.newPlot(\n",
       "                        '5194c689-7bb0-43da-9a20-2ea674bb62fd',\n",
       "                        [{\"alignmentgroup\": \"True\", \"hovertemplate\": \"date=%{x}<br>daily=%{y}<extra></extra>\", \"legendgroup\": \"\", \"marker\": {\"color\": \"#636efa\"}, \"name\": \"\", \"offsetgroup\": \"\", \"orientation\": \"v\", \"showlegend\": false, \"textposition\": \"auto\", \"type\": \"bar\", \"x\": [\"2020-01-20\", \"2020-01-21\", \"2020-01-22\", \"2020-01-23\", \"2020-01-24\", \"2020-01-25\", \"2020-01-26\", \"2020-01-27\", \"2020-01-28\", \"2020-01-29\", \"2020-01-30\", \"2020-01-31\", \"2020-02-01\", \"2020-02-02\", \"2020-02-03\", \"2020-02-04\", \"2020-02-05\", \"2020-02-06\", \"2020-02-07\", \"2020-02-08\", \"2020-02-09\", \"2020-02-10\", \"2020-02-11\", \"2020-02-12\", \"2020-02-13\", \"2020-02-14\", \"2020-02-15\", \"2020-02-16\", \"2020-02-17\", \"2020-02-18\", \"2020-02-19\", \"2020-02-20\", \"2020-02-21\", \"2020-02-22\", \"2020-02-23\", \"2020-02-24\", \"2020-02-25\", \"2020-02-26\", \"2020-02-27\", \"2020-02-28\", \"2020-02-29\", \"2020-03-01\", \"2020-03-02\", \"2020-03-03\", \"2020-03-04\", \"2020-03-05\", \"2020-03-06\", \"2020-03-07\", \"2020-03-08\", \"2020-03-09\", \"2020-03-10\", \"2020-03-11\", \"2020-03-12\", \"2020-03-13\", \"2020-03-14\", \"2020-03-15\", \"2020-03-16\", \"2020-03-17\", \"2020-03-18\", \"2020-03-19\", \"2020-03-20\", \"2020-03-21\", \"2020-03-22\", \"2020-03-23\", \"2020-03-24\", \"2020-03-25\", \"2020-03-26\", \"2020-03-27\", \"2020-03-28\", \"2020-03-29\", \"2020-03-30\", \"2020-03-31\", \"2020-04-01\", \"2020-04-02\", \"2020-04-03\", \"2020-04-04\", \"2020-04-05\", \"2020-04-06\", \"2020-04-07\", \"2020-04-08\", \"2020-04-09\", \"2020-04-10\", \"2020-04-11\", \"2020-04-12\", \"2020-04-13\", \"2020-04-14\", \"2020-04-15\", \"2020-04-16\", \"2020-04-17\", \"2020-04-18\", \"2020-04-19\", \"2020-04-20\", \"2020-04-21\", \"2020-04-22\", \"2020-04-23\", \"2020-04-24\", \"2020-04-25\", \"2020-04-26\", \"2020-04-27\", \"2020-04-28\", \"2020-04-29\", \"2020-04-30\", \"2020-05-01\", \"2020-05-02\", \"2020-05-03\", \"2020-05-04\", \"2020-05-05\", \"2020-05-06\", \"2020-05-07\", \"2020-05-08\", \"2020-05-09\", \"2020-05-10\", \"2020-05-11\", \"2020-05-12\", \"2020-05-13\", \"2020-05-14\", \"2020-05-15\", \"2020-05-16\", \"2020-05-17\", \"2020-05-18\", \"2020-05-19\", \"2020-05-20\", \"2020-05-21\", \"2020-05-22\", \"2020-05-23\", \"2020-05-24\", \"2020-05-25\", \"2020-05-26\", \"2020-05-27\", \"2020-05-28\", \"2020-05-29\", \"2020-05-30\", \"2020-05-31\", \"2020-06-01\", \"2020-06-02\", \"2020-06-03\", \"2020-06-04\", \"2020-06-05\", \"2020-06-06\", \"2020-06-07\", \"2020-06-08\", \"2020-06-09\", \"2020-06-10\", \"2020-06-11\", \"2020-06-12\", \"2020-06-13\", \"2020-06-14\", \"2020-06-15\", \"2020-06-16\", \"2020-06-17\", \"2020-06-18\", \"2020-06-19\", \"2020-06-20\", \"2020-06-21\", \"2020-06-22\", \"2020-06-23\", \"2020-06-24\", \"2020-06-25\", \"2020-06-26\", \"2020-06-27\", \"2020-06-28\", \"2020-06-29\", \"2020-06-30\"], \"xaxis\": \"x\", \"y\": [43, 42, 62, 51, 39, 28, 51, 46, 17, 48, 67, 49, 59, 43, 34, 36, 34, 48, 56, 45, 50, 38, 38, 57, 51, 39, 39, 49, 38, 35, 27, 39, 58, 79, 40, 19, 16, 25, 23, 20, 12, 32, 13, 15, 13, 19, 27, 29, 26, 27, 35, 34, 18, 12, 4, 2, 3, 8, 13, 6, 9, 4, 9, 14, 10, 10, 10, 6, 8, 11, 9, 13, 8, 18, 22, 22, 27, 27, 25, 32, 30, 27, 39, 53, 47, 47, 81, 94, 86, 89, 101, 125, 78, 105, 146, 91, 104, 100, 76, 64, 98, 147, 87, 152, 93, 84, 110, 40, 107, 110, 114, 242, 131, 248, 367, 483, 518, 438, 516, 600, 476, 586, 813, 571, 505, 284, 144, 231, 169, 229, 100, 53, 20, 1, 1, 1, 0, 0, 0, 0, 1, 0, 3, 0, 1, 5, 2, 1, 0, 3, 1, 5, 2, 0, 0, 1, 1, 0, 1, 0, 0, 0, 1], \"yaxis\": \"y\"}],\n",
       "                        {\"barmode\": \"relative\", \"legend\": {\"tracegroupgap\": 0}, \"margin\": {\"t\": 60}, \"template\": {\"data\": {\"bar\": [{\"error_x\": {\"color\": \"#2a3f5f\"}, \"error_y\": {\"color\": \"#2a3f5f\"}, \"marker\": {\"line\": {\"color\": \"#E5ECF6\", \"width\": 0.5}}, \"type\": \"bar\"}], \"barpolar\": [{\"marker\": {\"line\": {\"color\": \"#E5ECF6\", \"width\": 0.5}}, \"type\": \"barpolar\"}], \"carpet\": [{\"aaxis\": {\"endlinecolor\": \"#2a3f5f\", \"gridcolor\": \"white\", \"linecolor\": \"white\", \"minorgridcolor\": \"white\", \"startlinecolor\": \"#2a3f5f\"}, \"baxis\": {\"endlinecolor\": \"#2a3f5f\", \"gridcolor\": \"white\", \"linecolor\": \"white\", \"minorgridcolor\": \"white\", \"startlinecolor\": \"#2a3f5f\"}, \"type\": \"carpet\"}], \"choropleth\": [{\"colorbar\": {\"outlinewidth\": 0, \"ticks\": \"\"}, \"type\": \"choropleth\"}], \"contour\": [{\"colorbar\": {\"outlinewidth\": 0, \"ticks\": \"\"}, \"colorscale\": [[0.0, \"#0d0887\"], [0.1111111111111111, \"#46039f\"], [0.2222222222222222, \"#7201a8\"], [0.3333333333333333, \"#9c179e\"], [0.4444444444444444, \"#bd3786\"], [0.5555555555555556, \"#d8576b\"], [0.6666666666666666, \"#ed7953\"], [0.7777777777777778, \"#fb9f3a\"], [0.8888888888888888, \"#fdca26\"], [1.0, \"#f0f921\"]], \"type\": \"contour\"}], \"contourcarpet\": [{\"colorbar\": {\"outlinewidth\": 0, \"ticks\": \"\"}, \"type\": \"contourcarpet\"}], \"heatmap\": [{\"colorbar\": {\"outlinewidth\": 0, \"ticks\": \"\"}, \"colorscale\": [[0.0, \"#0d0887\"], [0.1111111111111111, \"#46039f\"], [0.2222222222222222, \"#7201a8\"], [0.3333333333333333, \"#9c179e\"], [0.4444444444444444, \"#bd3786\"], [0.5555555555555556, \"#d8576b\"], [0.6666666666666666, \"#ed7953\"], [0.7777777777777778, \"#fb9f3a\"], [0.8888888888888888, \"#fdca26\"], [1.0, \"#f0f921\"]], \"type\": \"heatmap\"}], \"heatmapgl\": [{\"colorbar\": {\"outlinewidth\": 0, \"ticks\": \"\"}, \"colorscale\": [[0.0, \"#0d0887\"], [0.1111111111111111, \"#46039f\"], [0.2222222222222222, \"#7201a8\"], [0.3333333333333333, \"#9c179e\"], [0.4444444444444444, \"#bd3786\"], [0.5555555555555556, \"#d8576b\"], [0.6666666666666666, \"#ed7953\"], [0.7777777777777778, \"#fb9f3a\"], [0.8888888888888888, \"#fdca26\"], [1.0, \"#f0f921\"]], \"type\": \"heatmapgl\"}], \"histogram\": [{\"marker\": {\"colorbar\": {\"outlinewidth\": 0, \"ticks\": \"\"}}, \"type\": \"histogram\"}], \"histogram2d\": [{\"colorbar\": {\"outlinewidth\": 0, \"ticks\": \"\"}, \"colorscale\": [[0.0, \"#0d0887\"], [0.1111111111111111, \"#46039f\"], [0.2222222222222222, \"#7201a8\"], [0.3333333333333333, \"#9c179e\"], [0.4444444444444444, \"#bd3786\"], [0.5555555555555556, \"#d8576b\"], [0.6666666666666666, \"#ed7953\"], [0.7777777777777778, \"#fb9f3a\"], [0.8888888888888888, \"#fdca26\"], [1.0, \"#f0f921\"]], \"type\": \"histogram2d\"}], \"histogram2dcontour\": [{\"colorbar\": {\"outlinewidth\": 0, \"ticks\": \"\"}, \"colorscale\": [[0.0, \"#0d0887\"], [0.1111111111111111, \"#46039f\"], [0.2222222222222222, \"#7201a8\"], [0.3333333333333333, \"#9c179e\"], [0.4444444444444444, \"#bd3786\"], [0.5555555555555556, \"#d8576b\"], [0.6666666666666666, \"#ed7953\"], [0.7777777777777778, \"#fb9f3a\"], [0.8888888888888888, \"#fdca26\"], [1.0, \"#f0f921\"]], \"type\": \"histogram2dcontour\"}], \"mesh3d\": [{\"colorbar\": {\"outlinewidth\": 0, \"ticks\": \"\"}, \"type\": \"mesh3d\"}], \"parcoords\": [{\"line\": {\"colorbar\": {\"outlinewidth\": 0, \"ticks\": \"\"}}, \"type\": \"parcoords\"}], \"pie\": [{\"automargin\": true, \"type\": \"pie\"}], \"scatter\": [{\"marker\": {\"colorbar\": {\"outlinewidth\": 0, \"ticks\": \"\"}}, \"type\": \"scatter\"}], \"scatter3d\": [{\"line\": {\"colorbar\": {\"outlinewidth\": 0, \"ticks\": \"\"}}, \"marker\": {\"colorbar\": {\"outlinewidth\": 0, \"ticks\": \"\"}}, \"type\": \"scatter3d\"}], \"scattercarpet\": [{\"marker\": {\"colorbar\": {\"outlinewidth\": 0, \"ticks\": \"\"}}, \"type\": \"scattercarpet\"}], \"scattergeo\": [{\"marker\": {\"colorbar\": {\"outlinewidth\": 0, \"ticks\": \"\"}}, \"type\": \"scattergeo\"}], \"scattergl\": [{\"marker\": {\"colorbar\": {\"outlinewidth\": 0, \"ticks\": \"\"}}, \"type\": \"scattergl\"}], \"scattermapbox\": [{\"marker\": {\"colorbar\": {\"outlinewidth\": 0, \"ticks\": \"\"}}, \"type\": \"scattermapbox\"}], \"scatterpolar\": [{\"marker\": {\"colorbar\": {\"outlinewidth\": 0, \"ticks\": \"\"}}, \"type\": \"scatterpolar\"}], \"scatterpolargl\": [{\"marker\": {\"colorbar\": {\"outlinewidth\": 0, \"ticks\": \"\"}}, \"type\": \"scatterpolargl\"}], \"scatterternary\": [{\"marker\": {\"colorbar\": {\"outlinewidth\": 0, \"ticks\": \"\"}}, \"type\": \"scatterternary\"}], \"surface\": [{\"colorbar\": {\"outlinewidth\": 0, \"ticks\": \"\"}, \"colorscale\": [[0.0, \"#0d0887\"], [0.1111111111111111, \"#46039f\"], [0.2222222222222222, \"#7201a8\"], [0.3333333333333333, \"#9c179e\"], [0.4444444444444444, \"#bd3786\"], [0.5555555555555556, \"#d8576b\"], [0.6666666666666666, \"#ed7953\"], [0.7777777777777778, \"#fb9f3a\"], [0.8888888888888888, \"#fdca26\"], [1.0, \"#f0f921\"]], \"type\": \"surface\"}], \"table\": [{\"cells\": {\"fill\": {\"color\": \"#EBF0F8\"}, \"line\": {\"color\": \"white\"}}, \"header\": {\"fill\": {\"color\": \"#C8D4E3\"}, \"line\": {\"color\": \"white\"}}, \"type\": \"table\"}]}, \"layout\": {\"annotationdefaults\": {\"arrowcolor\": \"#2a3f5f\", \"arrowhead\": 0, \"arrowwidth\": 1}, \"coloraxis\": {\"colorbar\": {\"outlinewidth\": 0, \"ticks\": \"\"}}, \"colorscale\": {\"diverging\": [[0, \"#8e0152\"], [0.1, \"#c51b7d\"], [0.2, \"#de77ae\"], [0.3, \"#f1b6da\"], [0.4, \"#fde0ef\"], [0.5, \"#f7f7f7\"], [0.6, \"#e6f5d0\"], [0.7, \"#b8e186\"], [0.8, \"#7fbc41\"], [0.9, \"#4d9221\"], [1, \"#276419\"]], \"sequential\": [[0.0, \"#0d0887\"], [0.1111111111111111, \"#46039f\"], [0.2222222222222222, \"#7201a8\"], [0.3333333333333333, \"#9c179e\"], [0.4444444444444444, \"#bd3786\"], [0.5555555555555556, \"#d8576b\"], [0.6666666666666666, \"#ed7953\"], [0.7777777777777778, \"#fb9f3a\"], [0.8888888888888888, \"#fdca26\"], [1.0, \"#f0f921\"]], \"sequentialminus\": [[0.0, \"#0d0887\"], [0.1111111111111111, \"#46039f\"], [0.2222222222222222, \"#7201a8\"], [0.3333333333333333, \"#9c179e\"], [0.4444444444444444, \"#bd3786\"], [0.5555555555555556, \"#d8576b\"], [0.6666666666666666, \"#ed7953\"], [0.7777777777777778, \"#fb9f3a\"], [0.8888888888888888, \"#fdca26\"], [1.0, \"#f0f921\"]]}, \"colorway\": [\"#636efa\", \"#EF553B\", \"#00cc96\", \"#ab63fa\", \"#FFA15A\", \"#19d3f3\", \"#FF6692\", \"#B6E880\", \"#FF97FF\", \"#FECB52\"], \"font\": {\"color\": \"#2a3f5f\"}, \"geo\": {\"bgcolor\": \"white\", \"lakecolor\": \"white\", \"landcolor\": \"#E5ECF6\", \"showlakes\": true, \"showland\": true, \"subunitcolor\": \"white\"}, \"hoverlabel\": {\"align\": \"left\"}, \"hovermode\": \"closest\", \"mapbox\": {\"style\": \"light\"}, \"paper_bgcolor\": \"white\", \"plot_bgcolor\": \"#E5ECF6\", \"polar\": {\"angularaxis\": {\"gridcolor\": \"white\", \"linecolor\": \"white\", \"ticks\": \"\"}, \"bgcolor\": \"#E5ECF6\", \"radialaxis\": {\"gridcolor\": \"white\", \"linecolor\": \"white\", \"ticks\": \"\"}}, \"scene\": {\"xaxis\": {\"backgroundcolor\": \"#E5ECF6\", \"gridcolor\": \"white\", \"gridwidth\": 2, \"linecolor\": \"white\", \"showbackground\": true, \"ticks\": \"\", \"zerolinecolor\": \"white\"}, \"yaxis\": {\"backgroundcolor\": \"#E5ECF6\", \"gridcolor\": \"white\", \"gridwidth\": 2, \"linecolor\": \"white\", \"showbackground\": true, \"ticks\": \"\", \"zerolinecolor\": \"white\"}, \"zaxis\": {\"backgroundcolor\": \"#E5ECF6\", \"gridcolor\": \"white\", \"gridwidth\": 2, \"linecolor\": \"white\", \"showbackground\": true, \"ticks\": \"\", \"zerolinecolor\": \"white\"}}, \"shapedefaults\": {\"line\": {\"color\": \"#2a3f5f\"}}, \"ternary\": {\"aaxis\": {\"gridcolor\": \"white\", \"linecolor\": \"white\", \"ticks\": \"\"}, \"baxis\": {\"gridcolor\": \"white\", \"linecolor\": \"white\", \"ticks\": \"\"}, \"bgcolor\": \"#E5ECF6\", \"caxis\": {\"gridcolor\": \"white\", \"linecolor\": \"white\", \"ticks\": \"\"}}, \"title\": {\"x\": 0.05}, \"xaxis\": {\"automargin\": true, \"gridcolor\": \"white\", \"linecolor\": \"white\", \"ticks\": \"\", \"title\": {\"standoff\": 15}, \"zerolinecolor\": \"white\", \"zerolinewidth\": 2}, \"yaxis\": {\"automargin\": true, \"gridcolor\": \"white\", \"linecolor\": \"white\", \"ticks\": \"\", \"title\": {\"standoff\": 15}, \"zerolinecolor\": \"white\", \"zerolinewidth\": 2}}}, \"title\": {\"text\": \"\\ud655\\uc9c4\\uc790 \\ucd94\\uc774(\\uc804\\uad6d)\", \"x\": 0.5, \"xanchor\": \"center\", \"y\": 1, \"yanchor\": \"top\"}, \"xaxis\": {\"anchor\": \"y\", \"domain\": [0.0, 1.0], \"title\": {\"text\": \"date\"}}, \"yaxis\": {\"anchor\": \"x\", \"domain\": [0.0, 1.0], \"title\": {\"text\": \"daily\"}}},\n",
       "                        {\"responsive\": true}\n",
       "                    ).then(function(){\n",
       "                            \n",
       "var gd = document.getElementById('5194c689-7bb0-43da-9a20-2ea674bb62fd');\n",
       "var x = new MutationObserver(function (mutations, observer) {{\n",
       "        var display = window.getComputedStyle(gd).display;\n",
       "        if (!display || display === 'none') {{\n",
       "            console.log([gd, 'removed!']);\n",
       "            Plotly.purge(gd);\n",
       "            observer.disconnect();\n",
       "        }}\n",
       "}});\n",
       "\n",
       "// Listen for the removal of the full notebook cells\n",
       "var notebookContainer = gd.closest('#notebook-container');\n",
       "if (notebookContainer) {{\n",
       "    x.observe(notebookContainer, {childList: true});\n",
       "}}\n",
       "\n",
       "// Listen for the clearing of the current output cell\n",
       "var outputEl = gd.closest('.output');\n",
       "if (outputEl) {{\n",
       "    x.observe(outputEl, {childList: true});\n",
       "}}\n",
       "\n",
       "                        })\n",
       "                };\n",
       "                });\n",
       "            </script>\n",
       "        </div>"
      ]
     },
     "metadata": {},
     "output_type": "display_data"
    }
   ],
   "source": [
    "fig=px.bar(case,x='date',y='daily')\n",
    "fig.update_layout(\n",
    "    title={\n",
    "        'text': \"확진자 추이(전국)\",\n",
    "        'y':1,\n",
    "        'x':0.5,\n",
    "        'xanchor': 'center',\n",
    "        'yanchor': 'top'})\n",
    "fig.show()"
   ]
  },
  {
   "cell_type": "markdown",
   "metadata": {},
   "source": [
    "## 요약\n",
    "\n",
    "포스트 코로나로 판단할 시점을 찾기 위해 서울의 월별 신규 확진자 수를 확인.\n",
    "전국 분포를 봤을 때 언급한 바와 같이 1,2월에 비해 3월에 확진자 수가 급증하였으며\n",
    "거리두기 캠페인이 종료된 이후 점차 급증함을 보였다. "
   ]
  },
  {
   "cell_type": "code",
   "execution_count": 83,
   "metadata": {},
   "outputs": [
    {
     "data": {
      "text/html": [
       "<div>\n",
       "<style scoped>\n",
       "    .dataframe tbody tr th:only-of-type {\n",
       "        vertical-align: middle;\n",
       "    }\n",
       "\n",
       "    .dataframe tbody tr th {\n",
       "        vertical-align: top;\n",
       "    }\n",
       "\n",
       "    .dataframe thead th {\n",
       "        text-align: right;\n",
       "    }\n",
       "</style>\n",
       "<table border=\"1\" class=\"dataframe\">\n",
       "  <thead>\n",
       "    <tr style=\"text-align: right;\">\n",
       "      <th></th>\n",
       "      <th>province</th>\n",
       "      <th>infection_case</th>\n",
       "      <th>confirmed_date</th>\n",
       "    </tr>\n",
       "  </thead>\n",
       "  <tbody>\n",
       "    <tr>\n",
       "      <th>0</th>\n",
       "      <td>서울</td>\n",
       "      <td>overseas inflow</td>\n",
       "      <td>2020-01-23</td>\n",
       "    </tr>\n",
       "    <tr>\n",
       "      <th>1</th>\n",
       "      <td>서울</td>\n",
       "      <td>overseas inflow</td>\n",
       "      <td>2020-01-30</td>\n",
       "    </tr>\n",
       "    <tr>\n",
       "      <th>2</th>\n",
       "      <td>서울</td>\n",
       "      <td>contact with patient</td>\n",
       "      <td>2020-01-30</td>\n",
       "    </tr>\n",
       "    <tr>\n",
       "      <th>3</th>\n",
       "      <td>서울</td>\n",
       "      <td>overseas inflow</td>\n",
       "      <td>2020-01-30</td>\n",
       "    </tr>\n",
       "    <tr>\n",
       "      <th>4</th>\n",
       "      <td>서울</td>\n",
       "      <td>contact with patient</td>\n",
       "      <td>2020-01-31</td>\n",
       "    </tr>\n",
       "    <tr>\n",
       "      <th>...</th>\n",
       "      <td>...</td>\n",
       "      <td>...</td>\n",
       "      <td>...</td>\n",
       "    </tr>\n",
       "    <tr>\n",
       "      <th>5160</th>\n",
       "      <td>제주도</td>\n",
       "      <td>overseas inflow</td>\n",
       "      <td>2020-05-30</td>\n",
       "    </tr>\n",
       "    <tr>\n",
       "      <th>5161</th>\n",
       "      <td>제주도</td>\n",
       "      <td>overseas inflow</td>\n",
       "      <td>2020-06-16</td>\n",
       "    </tr>\n",
       "    <tr>\n",
       "      <th>5162</th>\n",
       "      <td>제주도</td>\n",
       "      <td>overseas inflow</td>\n",
       "      <td>2020-06-18</td>\n",
       "    </tr>\n",
       "    <tr>\n",
       "      <th>5163</th>\n",
       "      <td>제주도</td>\n",
       "      <td>overseas inflow</td>\n",
       "      <td>2020-06-18</td>\n",
       "    </tr>\n",
       "    <tr>\n",
       "      <th>5164</th>\n",
       "      <td>제주도</td>\n",
       "      <td>overseas inflow</td>\n",
       "      <td>2020-06-18</td>\n",
       "    </tr>\n",
       "  </tbody>\n",
       "</table>\n",
       "<p>5165 rows × 3 columns</p>\n",
       "</div>"
      ],
      "text/plain": [
       "     province        infection_case confirmed_date\n",
       "0          서울       overseas inflow     2020-01-23\n",
       "1          서울       overseas inflow     2020-01-30\n",
       "2          서울  contact with patient     2020-01-30\n",
       "3          서울       overseas inflow     2020-01-30\n",
       "4          서울  contact with patient     2020-01-31\n",
       "...       ...                   ...            ...\n",
       "5160      제주도       overseas inflow     2020-05-30\n",
       "5161      제주도       overseas inflow     2020-06-16\n",
       "5162      제주도       overseas inflow     2020-06-18\n",
       "5163      제주도       overseas inflow     2020-06-18\n",
       "5164      제주도       overseas inflow     2020-06-18\n",
       "\n",
       "[5165 rows x 3 columns]"
      ]
     },
     "execution_count": 83,
     "metadata": {},
     "output_type": "execute_result"
    }
   ],
   "source": [
    "patientinfo=pd.read_csv('C:/jupyter_project/CORONA/COVID_19/PatientInfo.csv',usecols=['confirmed_date','province','infection_case'])\n",
    "patientinfo"
   ]
  },
  {
   "cell_type": "code",
   "execution_count": 84,
   "metadata": {},
   "outputs": [],
   "source": [
    "patientinfo_seoul=patientinfo[patientinfo['province']=='서울']\n",
    "patientinfo_seoul['cnt']=1"
   ]
  },
  {
   "cell_type": "code",
   "execution_count": 85,
   "metadata": {},
   "outputs": [
    {
     "data": {
      "text/html": [
       "<div>\n",
       "<style scoped>\n",
       "    .dataframe tbody tr th:only-of-type {\n",
       "        vertical-align: middle;\n",
       "    }\n",
       "\n",
       "    .dataframe tbody tr th {\n",
       "        vertical-align: top;\n",
       "    }\n",
       "\n",
       "    .dataframe thead th {\n",
       "        text-align: right;\n",
       "    }\n",
       "</style>\n",
       "<table border=\"1\" class=\"dataframe\">\n",
       "  <thead>\n",
       "    <tr style=\"text-align: right;\">\n",
       "      <th></th>\n",
       "      <th>confirmed_date</th>\n",
       "      <th>province</th>\n",
       "      <th>cnt</th>\n",
       "    </tr>\n",
       "  </thead>\n",
       "  <tbody>\n",
       "    <tr>\n",
       "      <th>0</th>\n",
       "      <td>2020-01-23</td>\n",
       "      <td>서울</td>\n",
       "      <td>1</td>\n",
       "    </tr>\n",
       "    <tr>\n",
       "      <th>1</th>\n",
       "      <td>2020-01-30</td>\n",
       "      <td>서울</td>\n",
       "      <td>3</td>\n",
       "    </tr>\n",
       "    <tr>\n",
       "      <th>2</th>\n",
       "      <td>2020-01-31</td>\n",
       "      <td>서울</td>\n",
       "      <td>3</td>\n",
       "    </tr>\n",
       "    <tr>\n",
       "      <th>3</th>\n",
       "      <td>2020-02-02</td>\n",
       "      <td>서울</td>\n",
       "      <td>1</td>\n",
       "    </tr>\n",
       "    <tr>\n",
       "      <th>4</th>\n",
       "      <td>2020-02-05</td>\n",
       "      <td>서울</td>\n",
       "      <td>2</td>\n",
       "    </tr>\n",
       "    <tr>\n",
       "      <th>...</th>\n",
       "      <td>...</td>\n",
       "      <td>...</td>\n",
       "      <td>...</td>\n",
       "    </tr>\n",
       "    <tr>\n",
       "      <th>124</th>\n",
       "      <td>2020-06-25</td>\n",
       "      <td>서울</td>\n",
       "      <td>17</td>\n",
       "    </tr>\n",
       "    <tr>\n",
       "      <th>125</th>\n",
       "      <td>2020-06-26</td>\n",
       "      <td>서울</td>\n",
       "      <td>17</td>\n",
       "    </tr>\n",
       "    <tr>\n",
       "      <th>126</th>\n",
       "      <td>2020-06-27</td>\n",
       "      <td>서울</td>\n",
       "      <td>14</td>\n",
       "    </tr>\n",
       "    <tr>\n",
       "      <th>127</th>\n",
       "      <td>2020-06-28</td>\n",
       "      <td>서울</td>\n",
       "      <td>7</td>\n",
       "    </tr>\n",
       "    <tr>\n",
       "      <th>128</th>\n",
       "      <td>2020-06-29</td>\n",
       "      <td>서울</td>\n",
       "      <td>7</td>\n",
       "    </tr>\n",
       "  </tbody>\n",
       "</table>\n",
       "<p>129 rows × 3 columns</p>\n",
       "</div>"
      ],
      "text/plain": [
       "    confirmed_date province  cnt\n",
       "0       2020-01-23       서울    1\n",
       "1       2020-01-30       서울    3\n",
       "2       2020-01-31       서울    3\n",
       "3       2020-02-02       서울    1\n",
       "4       2020-02-05       서울    2\n",
       "..             ...      ...  ...\n",
       "124     2020-06-25       서울   17\n",
       "125     2020-06-26       서울   17\n",
       "126     2020-06-27       서울   14\n",
       "127     2020-06-28       서울    7\n",
       "128     2020-06-29       서울    7\n",
       "\n",
       "[129 rows x 3 columns]"
      ]
     },
     "execution_count": 85,
     "metadata": {},
     "output_type": "execute_result"
    }
   ],
   "source": [
    "#서울확진자수\n",
    "patient_s=patientinfo_seoul.groupby(['confirmed_date','province'],as_index=False).cnt.sum()\n",
    "patient_s"
   ]
  },
  {
   "cell_type": "code",
   "execution_count": 87,
   "metadata": {},
   "outputs": [
    {
     "data": {
      "text/html": [
       "<div>\n",
       "<style scoped>\n",
       "    .dataframe tbody tr th:only-of-type {\n",
       "        vertical-align: middle;\n",
       "    }\n",
       "\n",
       "    .dataframe tbody tr th {\n",
       "        vertical-align: top;\n",
       "    }\n",
       "\n",
       "    .dataframe thead th {\n",
       "        text-align: right;\n",
       "    }\n",
       "</style>\n",
       "<table border=\"1\" class=\"dataframe\">\n",
       "  <thead>\n",
       "    <tr style=\"text-align: right;\">\n",
       "      <th></th>\n",
       "      <th>confirmed_date</th>\n",
       "      <th>province</th>\n",
       "      <th>cnt</th>\n",
       "      <th>cnt_sum</th>\n",
       "    </tr>\n",
       "  </thead>\n",
       "  <tbody>\n",
       "    <tr>\n",
       "      <th>0</th>\n",
       "      <td>2020-01-23</td>\n",
       "      <td>서울</td>\n",
       "      <td>1</td>\n",
       "      <td>1</td>\n",
       "    </tr>\n",
       "    <tr>\n",
       "      <th>1</th>\n",
       "      <td>2020-01-30</td>\n",
       "      <td>서울</td>\n",
       "      <td>3</td>\n",
       "      <td>4</td>\n",
       "    </tr>\n",
       "    <tr>\n",
       "      <th>2</th>\n",
       "      <td>2020-01-31</td>\n",
       "      <td>서울</td>\n",
       "      <td>3</td>\n",
       "      <td>7</td>\n",
       "    </tr>\n",
       "    <tr>\n",
       "      <th>3</th>\n",
       "      <td>2020-02-02</td>\n",
       "      <td>서울</td>\n",
       "      <td>1</td>\n",
       "      <td>8</td>\n",
       "    </tr>\n",
       "    <tr>\n",
       "      <th>4</th>\n",
       "      <td>2020-02-05</td>\n",
       "      <td>서울</td>\n",
       "      <td>2</td>\n",
       "      <td>10</td>\n",
       "    </tr>\n",
       "    <tr>\n",
       "      <th>...</th>\n",
       "      <td>...</td>\n",
       "      <td>...</td>\n",
       "      <td>...</td>\n",
       "      <td>...</td>\n",
       "    </tr>\n",
       "    <tr>\n",
       "      <th>124</th>\n",
       "      <td>2020-06-25</td>\n",
       "      <td>서울</td>\n",
       "      <td>17</td>\n",
       "      <td>1267</td>\n",
       "    </tr>\n",
       "    <tr>\n",
       "      <th>125</th>\n",
       "      <td>2020-06-26</td>\n",
       "      <td>서울</td>\n",
       "      <td>17</td>\n",
       "      <td>1284</td>\n",
       "    </tr>\n",
       "    <tr>\n",
       "      <th>126</th>\n",
       "      <td>2020-06-27</td>\n",
       "      <td>서울</td>\n",
       "      <td>14</td>\n",
       "      <td>1298</td>\n",
       "    </tr>\n",
       "    <tr>\n",
       "      <th>127</th>\n",
       "      <td>2020-06-28</td>\n",
       "      <td>서울</td>\n",
       "      <td>7</td>\n",
       "      <td>1305</td>\n",
       "    </tr>\n",
       "    <tr>\n",
       "      <th>128</th>\n",
       "      <td>2020-06-29</td>\n",
       "      <td>서울</td>\n",
       "      <td>7</td>\n",
       "      <td>1312</td>\n",
       "    </tr>\n",
       "  </tbody>\n",
       "</table>\n",
       "<p>129 rows × 4 columns</p>\n",
       "</div>"
      ],
      "text/plain": [
       "    confirmed_date province  cnt  cnt_sum\n",
       "0       2020-01-23       서울    1        1\n",
       "1       2020-01-30       서울    3        4\n",
       "2       2020-01-31       서울    3        7\n",
       "3       2020-02-02       서울    1        8\n",
       "4       2020-02-05       서울    2       10\n",
       "..             ...      ...  ...      ...\n",
       "124     2020-06-25       서울   17     1267\n",
       "125     2020-06-26       서울   17     1284\n",
       "126     2020-06-27       서울   14     1298\n",
       "127     2020-06-28       서울    7     1305\n",
       "128     2020-06-29       서울    7     1312\n",
       "\n",
       "[129 rows x 4 columns]"
      ]
     },
     "execution_count": 87,
     "metadata": {},
     "output_type": "execute_result"
    }
   ],
   "source": [
    "#누적\n",
    "patient_s['cnt_sum']=patient_s.groupby('province')['cnt'].cumsum()\n",
    "patient_s"
   ]
  },
  {
   "cell_type": "code",
   "execution_count": 88,
   "metadata": {},
   "outputs": [],
   "source": [
    "patient_s['confirmed_date']=pd.to_datetime(patient_s['confirmed_date'])\n",
    "patient_s['주차']=patient_s['confirmed_date'].dt.weekofyear\n",
    "patient_s['월']=patient_s['confirmed_date'].dt.month"
   ]
  },
  {
   "cell_type": "code",
   "execution_count": 90,
   "metadata": {},
   "outputs": [
    {
     "data": {
      "application/vnd.plotly.v1+json": {
       "config": {
        "plotlyServerURL": "https://plot.ly"
       },
       "data": [
        {
         "alignmentgroup": "True",
         "hovertemplate": "confirmed_date=%{x}<br>cnt=%{y}<extra></extra>",
         "legendgroup": "",
         "marker": {
          "color": "#636efa"
         },
         "name": "",
         "offsetgroup": "",
         "orientation": "v",
         "showlegend": false,
         "textposition": "auto",
         "type": "bar",
         "x": [
          "2020-01-23T00:00:00",
          "2020-01-30T00:00:00",
          "2020-01-31T00:00:00",
          "2020-02-02T00:00:00",
          "2020-02-05T00:00:00",
          "2020-02-06T00:00:00",
          "2020-02-07T00:00:00",
          "2020-02-16T00:00:00",
          "2020-02-19T00:00:00",
          "2020-02-20T00:00:00",
          "2020-02-21T00:00:00",
          "2020-02-22T00:00:00",
          "2020-02-23T00:00:00",
          "2020-02-24T00:00:00",
          "2020-02-25T00:00:00",
          "2020-02-26T00:00:00",
          "2020-02-27T00:00:00",
          "2020-02-28T00:00:00",
          "2020-02-29T00:00:00",
          "2020-03-01T00:00:00",
          "2020-03-02T00:00:00",
          "2020-03-04T00:00:00",
          "2020-03-05T00:00:00",
          "2020-03-06T00:00:00",
          "2020-03-07T00:00:00",
          "2020-03-08T00:00:00",
          "2020-03-09T00:00:00",
          "2020-03-10T00:00:00",
          "2020-03-11T00:00:00",
          "2020-03-12T00:00:00",
          "2020-03-13T00:00:00",
          "2020-03-14T00:00:00",
          "2020-03-15T00:00:00",
          "2020-03-16T00:00:00",
          "2020-03-17T00:00:00",
          "2020-03-18T00:00:00",
          "2020-03-19T00:00:00",
          "2020-03-20T00:00:00",
          "2020-03-21T00:00:00",
          "2020-03-22T00:00:00",
          "2020-03-23T00:00:00",
          "2020-03-24T00:00:00",
          "2020-03-25T00:00:00",
          "2020-03-26T00:00:00",
          "2020-03-27T00:00:00",
          "2020-03-28T00:00:00",
          "2020-03-29T00:00:00",
          "2020-03-30T00:00:00",
          "2020-03-31T00:00:00",
          "2020-04-01T00:00:00",
          "2020-04-02T00:00:00",
          "2020-04-03T00:00:00",
          "2020-04-04T00:00:00",
          "2020-04-05T00:00:00",
          "2020-04-06T00:00:00",
          "2020-04-07T00:00:00",
          "2020-04-08T00:00:00",
          "2020-04-09T00:00:00",
          "2020-04-10T00:00:00",
          "2020-04-11T00:00:00",
          "2020-04-12T00:00:00",
          "2020-04-13T00:00:00",
          "2020-04-14T00:00:00",
          "2020-04-15T00:00:00",
          "2020-04-16T00:00:00",
          "2020-04-17T00:00:00",
          "2020-04-18T00:00:00",
          "2020-04-19T00:00:00",
          "2020-04-20T00:00:00",
          "2020-04-21T00:00:00",
          "2020-04-24T00:00:00",
          "2020-04-27T00:00:00",
          "2020-04-30T00:00:00",
          "2020-05-01T00:00:00",
          "2020-05-02T00:00:00",
          "2020-05-05T00:00:00",
          "2020-05-08T00:00:00",
          "2020-05-09T00:00:00",
          "2020-05-10T00:00:00",
          "2020-05-11T00:00:00",
          "2020-05-12T00:00:00",
          "2020-05-13T00:00:00",
          "2020-05-14T00:00:00",
          "2020-05-15T00:00:00",
          "2020-05-16T00:00:00",
          "2020-05-17T00:00:00",
          "2020-05-18T00:00:00",
          "2020-05-19T00:00:00",
          "2020-05-20T00:00:00",
          "2020-05-21T00:00:00",
          "2020-05-22T00:00:00",
          "2020-05-23T00:00:00",
          "2020-05-24T00:00:00",
          "2020-05-25T00:00:00",
          "2020-05-26T00:00:00",
          "2020-05-27T00:00:00",
          "2020-05-28T00:00:00",
          "2020-05-29T00:00:00",
          "2020-05-30T00:00:00",
          "2020-05-31T00:00:00",
          "2020-06-01T00:00:00",
          "2020-06-02T00:00:00",
          "2020-06-03T00:00:00",
          "2020-06-04T00:00:00",
          "2020-06-05T00:00:00",
          "2020-06-06T00:00:00",
          "2020-06-07T00:00:00",
          "2020-06-08T00:00:00",
          "2020-06-09T00:00:00",
          "2020-06-10T00:00:00",
          "2020-06-11T00:00:00",
          "2020-06-12T00:00:00",
          "2020-06-13T00:00:00",
          "2020-06-14T00:00:00",
          "2020-06-15T00:00:00",
          "2020-06-16T00:00:00",
          "2020-06-17T00:00:00",
          "2020-06-18T00:00:00",
          "2020-06-19T00:00:00",
          "2020-06-20T00:00:00",
          "2020-06-21T00:00:00",
          "2020-06-22T00:00:00",
          "2020-06-23T00:00:00",
          "2020-06-24T00:00:00",
          "2020-06-25T00:00:00",
          "2020-06-26T00:00:00",
          "2020-06-27T00:00:00",
          "2020-06-28T00:00:00",
          "2020-06-29T00:00:00"
         ],
         "xaxis": "x",
         "y": [
          1,
          3,
          3,
          1,
          2,
          1,
          1,
          2,
          2,
          5,
          2,
          4,
          4,
          2,
          8,
          10,
          18,
          7,
          10,
          7,
          6,
          5,
          2,
          7,
          7,
          10,
          26,
          46,
          18,
          11,
          9,
          8,
          6,
          13,
          4,
          11,
          17,
          17,
          8,
          6,
          6,
          13,
          13,
          14,
          15,
          22,
          21,
          20,
          24,
          16,
          19,
          20,
          19,
          11,
          8,
          10,
          11,
          5,
          3,
          2,
          8,
          3,
          4,
          2,
          1,
          3,
          1,
          1,
          1,
          2,
          1,
          4,
          1,
          1,
          1,
          1,
          14,
          17,
          20,
          12,
          8,
          5,
          12,
          6,
          4,
          1,
          7,
          9,
          4,
          3,
          3,
          6,
          7,
          8,
          19,
          25,
          19,
          9,
          6,
          1,
          14,
          20,
          14,
          15,
          27,
          28,
          16,
          18,
          14,
          19,
          25,
          30,
          12,
          7,
          11,
          14,
          24,
          18,
          16,
          15,
          8,
          4,
          10,
          9,
          17,
          17,
          14,
          7,
          7
         ],
         "yaxis": "y"
        }
       ],
       "layout": {
        "barmode": "relative",
        "legend": {
         "tracegroupgap": 0
        },
        "margin": {
         "t": 60
        },
        "template": {
         "data": {
          "bar": [
           {
            "error_x": {
             "color": "#2a3f5f"
            },
            "error_y": {
             "color": "#2a3f5f"
            },
            "marker": {
             "line": {
              "color": "#E5ECF6",
              "width": 0.5
             }
            },
            "type": "bar"
           }
          ],
          "barpolar": [
           {
            "marker": {
             "line": {
              "color": "#E5ECF6",
              "width": 0.5
             }
            },
            "type": "barpolar"
           }
          ],
          "carpet": [
           {
            "aaxis": {
             "endlinecolor": "#2a3f5f",
             "gridcolor": "white",
             "linecolor": "white",
             "minorgridcolor": "white",
             "startlinecolor": "#2a3f5f"
            },
            "baxis": {
             "endlinecolor": "#2a3f5f",
             "gridcolor": "white",
             "linecolor": "white",
             "minorgridcolor": "white",
             "startlinecolor": "#2a3f5f"
            },
            "type": "carpet"
           }
          ],
          "choropleth": [
           {
            "colorbar": {
             "outlinewidth": 0,
             "ticks": ""
            },
            "type": "choropleth"
           }
          ],
          "contour": [
           {
            "colorbar": {
             "outlinewidth": 0,
             "ticks": ""
            },
            "colorscale": [
             [
              0,
              "#0d0887"
             ],
             [
              0.1111111111111111,
              "#46039f"
             ],
             [
              0.2222222222222222,
              "#7201a8"
             ],
             [
              0.3333333333333333,
              "#9c179e"
             ],
             [
              0.4444444444444444,
              "#bd3786"
             ],
             [
              0.5555555555555556,
              "#d8576b"
             ],
             [
              0.6666666666666666,
              "#ed7953"
             ],
             [
              0.7777777777777778,
              "#fb9f3a"
             ],
             [
              0.8888888888888888,
              "#fdca26"
             ],
             [
              1,
              "#f0f921"
             ]
            ],
            "type": "contour"
           }
          ],
          "contourcarpet": [
           {
            "colorbar": {
             "outlinewidth": 0,
             "ticks": ""
            },
            "type": "contourcarpet"
           }
          ],
          "heatmap": [
           {
            "colorbar": {
             "outlinewidth": 0,
             "ticks": ""
            },
            "colorscale": [
             [
              0,
              "#0d0887"
             ],
             [
              0.1111111111111111,
              "#46039f"
             ],
             [
              0.2222222222222222,
              "#7201a8"
             ],
             [
              0.3333333333333333,
              "#9c179e"
             ],
             [
              0.4444444444444444,
              "#bd3786"
             ],
             [
              0.5555555555555556,
              "#d8576b"
             ],
             [
              0.6666666666666666,
              "#ed7953"
             ],
             [
              0.7777777777777778,
              "#fb9f3a"
             ],
             [
              0.8888888888888888,
              "#fdca26"
             ],
             [
              1,
              "#f0f921"
             ]
            ],
            "type": "heatmap"
           }
          ],
          "heatmapgl": [
           {
            "colorbar": {
             "outlinewidth": 0,
             "ticks": ""
            },
            "colorscale": [
             [
              0,
              "#0d0887"
             ],
             [
              0.1111111111111111,
              "#46039f"
             ],
             [
              0.2222222222222222,
              "#7201a8"
             ],
             [
              0.3333333333333333,
              "#9c179e"
             ],
             [
              0.4444444444444444,
              "#bd3786"
             ],
             [
              0.5555555555555556,
              "#d8576b"
             ],
             [
              0.6666666666666666,
              "#ed7953"
             ],
             [
              0.7777777777777778,
              "#fb9f3a"
             ],
             [
              0.8888888888888888,
              "#fdca26"
             ],
             [
              1,
              "#f0f921"
             ]
            ],
            "type": "heatmapgl"
           }
          ],
          "histogram": [
           {
            "marker": {
             "colorbar": {
              "outlinewidth": 0,
              "ticks": ""
             }
            },
            "type": "histogram"
           }
          ],
          "histogram2d": [
           {
            "colorbar": {
             "outlinewidth": 0,
             "ticks": ""
            },
            "colorscale": [
             [
              0,
              "#0d0887"
             ],
             [
              0.1111111111111111,
              "#46039f"
             ],
             [
              0.2222222222222222,
              "#7201a8"
             ],
             [
              0.3333333333333333,
              "#9c179e"
             ],
             [
              0.4444444444444444,
              "#bd3786"
             ],
             [
              0.5555555555555556,
              "#d8576b"
             ],
             [
              0.6666666666666666,
              "#ed7953"
             ],
             [
              0.7777777777777778,
              "#fb9f3a"
             ],
             [
              0.8888888888888888,
              "#fdca26"
             ],
             [
              1,
              "#f0f921"
             ]
            ],
            "type": "histogram2d"
           }
          ],
          "histogram2dcontour": [
           {
            "colorbar": {
             "outlinewidth": 0,
             "ticks": ""
            },
            "colorscale": [
             [
              0,
              "#0d0887"
             ],
             [
              0.1111111111111111,
              "#46039f"
             ],
             [
              0.2222222222222222,
              "#7201a8"
             ],
             [
              0.3333333333333333,
              "#9c179e"
             ],
             [
              0.4444444444444444,
              "#bd3786"
             ],
             [
              0.5555555555555556,
              "#d8576b"
             ],
             [
              0.6666666666666666,
              "#ed7953"
             ],
             [
              0.7777777777777778,
              "#fb9f3a"
             ],
             [
              0.8888888888888888,
              "#fdca26"
             ],
             [
              1,
              "#f0f921"
             ]
            ],
            "type": "histogram2dcontour"
           }
          ],
          "mesh3d": [
           {
            "colorbar": {
             "outlinewidth": 0,
             "ticks": ""
            },
            "type": "mesh3d"
           }
          ],
          "parcoords": [
           {
            "line": {
             "colorbar": {
              "outlinewidth": 0,
              "ticks": ""
             }
            },
            "type": "parcoords"
           }
          ],
          "pie": [
           {
            "automargin": true,
            "type": "pie"
           }
          ],
          "scatter": [
           {
            "marker": {
             "colorbar": {
              "outlinewidth": 0,
              "ticks": ""
             }
            },
            "type": "scatter"
           }
          ],
          "scatter3d": [
           {
            "line": {
             "colorbar": {
              "outlinewidth": 0,
              "ticks": ""
             }
            },
            "marker": {
             "colorbar": {
              "outlinewidth": 0,
              "ticks": ""
             }
            },
            "type": "scatter3d"
           }
          ],
          "scattercarpet": [
           {
            "marker": {
             "colorbar": {
              "outlinewidth": 0,
              "ticks": ""
             }
            },
            "type": "scattercarpet"
           }
          ],
          "scattergeo": [
           {
            "marker": {
             "colorbar": {
              "outlinewidth": 0,
              "ticks": ""
             }
            },
            "type": "scattergeo"
           }
          ],
          "scattergl": [
           {
            "marker": {
             "colorbar": {
              "outlinewidth": 0,
              "ticks": ""
             }
            },
            "type": "scattergl"
           }
          ],
          "scattermapbox": [
           {
            "marker": {
             "colorbar": {
              "outlinewidth": 0,
              "ticks": ""
             }
            },
            "type": "scattermapbox"
           }
          ],
          "scatterpolar": [
           {
            "marker": {
             "colorbar": {
              "outlinewidth": 0,
              "ticks": ""
             }
            },
            "type": "scatterpolar"
           }
          ],
          "scatterpolargl": [
           {
            "marker": {
             "colorbar": {
              "outlinewidth": 0,
              "ticks": ""
             }
            },
            "type": "scatterpolargl"
           }
          ],
          "scatterternary": [
           {
            "marker": {
             "colorbar": {
              "outlinewidth": 0,
              "ticks": ""
             }
            },
            "type": "scatterternary"
           }
          ],
          "surface": [
           {
            "colorbar": {
             "outlinewidth": 0,
             "ticks": ""
            },
            "colorscale": [
             [
              0,
              "#0d0887"
             ],
             [
              0.1111111111111111,
              "#46039f"
             ],
             [
              0.2222222222222222,
              "#7201a8"
             ],
             [
              0.3333333333333333,
              "#9c179e"
             ],
             [
              0.4444444444444444,
              "#bd3786"
             ],
             [
              0.5555555555555556,
              "#d8576b"
             ],
             [
              0.6666666666666666,
              "#ed7953"
             ],
             [
              0.7777777777777778,
              "#fb9f3a"
             ],
             [
              0.8888888888888888,
              "#fdca26"
             ],
             [
              1,
              "#f0f921"
             ]
            ],
            "type": "surface"
           }
          ],
          "table": [
           {
            "cells": {
             "fill": {
              "color": "#EBF0F8"
             },
             "line": {
              "color": "white"
             }
            },
            "header": {
             "fill": {
              "color": "#C8D4E3"
             },
             "line": {
              "color": "white"
             }
            },
            "type": "table"
           }
          ]
         },
         "layout": {
          "annotationdefaults": {
           "arrowcolor": "#2a3f5f",
           "arrowhead": 0,
           "arrowwidth": 1
          },
          "coloraxis": {
           "colorbar": {
            "outlinewidth": 0,
            "ticks": ""
           }
          },
          "colorscale": {
           "diverging": [
            [
             0,
             "#8e0152"
            ],
            [
             0.1,
             "#c51b7d"
            ],
            [
             0.2,
             "#de77ae"
            ],
            [
             0.3,
             "#f1b6da"
            ],
            [
             0.4,
             "#fde0ef"
            ],
            [
             0.5,
             "#f7f7f7"
            ],
            [
             0.6,
             "#e6f5d0"
            ],
            [
             0.7,
             "#b8e186"
            ],
            [
             0.8,
             "#7fbc41"
            ],
            [
             0.9,
             "#4d9221"
            ],
            [
             1,
             "#276419"
            ]
           ],
           "sequential": [
            [
             0,
             "#0d0887"
            ],
            [
             0.1111111111111111,
             "#46039f"
            ],
            [
             0.2222222222222222,
             "#7201a8"
            ],
            [
             0.3333333333333333,
             "#9c179e"
            ],
            [
             0.4444444444444444,
             "#bd3786"
            ],
            [
             0.5555555555555556,
             "#d8576b"
            ],
            [
             0.6666666666666666,
             "#ed7953"
            ],
            [
             0.7777777777777778,
             "#fb9f3a"
            ],
            [
             0.8888888888888888,
             "#fdca26"
            ],
            [
             1,
             "#f0f921"
            ]
           ],
           "sequentialminus": [
            [
             0,
             "#0d0887"
            ],
            [
             0.1111111111111111,
             "#46039f"
            ],
            [
             0.2222222222222222,
             "#7201a8"
            ],
            [
             0.3333333333333333,
             "#9c179e"
            ],
            [
             0.4444444444444444,
             "#bd3786"
            ],
            [
             0.5555555555555556,
             "#d8576b"
            ],
            [
             0.6666666666666666,
             "#ed7953"
            ],
            [
             0.7777777777777778,
             "#fb9f3a"
            ],
            [
             0.8888888888888888,
             "#fdca26"
            ],
            [
             1,
             "#f0f921"
            ]
           ]
          },
          "colorway": [
           "#636efa",
           "#EF553B",
           "#00cc96",
           "#ab63fa",
           "#FFA15A",
           "#19d3f3",
           "#FF6692",
           "#B6E880",
           "#FF97FF",
           "#FECB52"
          ],
          "font": {
           "color": "#2a3f5f"
          },
          "geo": {
           "bgcolor": "white",
           "lakecolor": "white",
           "landcolor": "#E5ECF6",
           "showlakes": true,
           "showland": true,
           "subunitcolor": "white"
          },
          "hoverlabel": {
           "align": "left"
          },
          "hovermode": "closest",
          "mapbox": {
           "style": "light"
          },
          "paper_bgcolor": "white",
          "plot_bgcolor": "#E5ECF6",
          "polar": {
           "angularaxis": {
            "gridcolor": "white",
            "linecolor": "white",
            "ticks": ""
           },
           "bgcolor": "#E5ECF6",
           "radialaxis": {
            "gridcolor": "white",
            "linecolor": "white",
            "ticks": ""
           }
          },
          "scene": {
           "xaxis": {
            "backgroundcolor": "#E5ECF6",
            "gridcolor": "white",
            "gridwidth": 2,
            "linecolor": "white",
            "showbackground": true,
            "ticks": "",
            "zerolinecolor": "white"
           },
           "yaxis": {
            "backgroundcolor": "#E5ECF6",
            "gridcolor": "white",
            "gridwidth": 2,
            "linecolor": "white",
            "showbackground": true,
            "ticks": "",
            "zerolinecolor": "white"
           },
           "zaxis": {
            "backgroundcolor": "#E5ECF6",
            "gridcolor": "white",
            "gridwidth": 2,
            "linecolor": "white",
            "showbackground": true,
            "ticks": "",
            "zerolinecolor": "white"
           }
          },
          "shapedefaults": {
           "line": {
            "color": "#2a3f5f"
           }
          },
          "ternary": {
           "aaxis": {
            "gridcolor": "white",
            "linecolor": "white",
            "ticks": ""
           },
           "baxis": {
            "gridcolor": "white",
            "linecolor": "white",
            "ticks": ""
           },
           "bgcolor": "#E5ECF6",
           "caxis": {
            "gridcolor": "white",
            "linecolor": "white",
            "ticks": ""
           }
          },
          "title": {
           "x": 0.05
          },
          "xaxis": {
           "automargin": true,
           "gridcolor": "white",
           "linecolor": "white",
           "ticks": "",
           "title": {
            "standoff": 15
           },
           "zerolinecolor": "white",
           "zerolinewidth": 2
          },
          "yaxis": {
           "automargin": true,
           "gridcolor": "white",
           "linecolor": "white",
           "ticks": "",
           "title": {
            "standoff": 15
           },
           "zerolinecolor": "white",
           "zerolinewidth": 2
          }
         }
        },
        "title": {
         "text": "지역별 확진자 변화(서울 한정)-달 초/말 로 나눔",
         "x": 0.5,
         "xanchor": "center",
         "y": 1,
         "yanchor": "top"
        },
        "xaxis": {
         "anchor": "y",
         "domain": [
          0,
          1
         ],
         "title": {
          "text": "confirmed_date"
         }
        },
        "yaxis": {
         "anchor": "x",
         "domain": [
          0,
          1
         ],
         "title": {
          "text": "cnt"
         }
        }
       }
      },
      "text/html": [
       "<div>\n",
       "        \n",
       "        \n",
       "            <div id=\"2ff05544-0bc4-4c90-bfc4-578a7a764bb5\" class=\"plotly-graph-div\" style=\"height:525px; width:100%;\"></div>\n",
       "            <script type=\"text/javascript\">\n",
       "                require([\"plotly\"], function(Plotly) {\n",
       "                    window.PLOTLYENV=window.PLOTLYENV || {};\n",
       "                    \n",
       "                if (document.getElementById(\"2ff05544-0bc4-4c90-bfc4-578a7a764bb5\")) {\n",
       "                    Plotly.newPlot(\n",
       "                        '2ff05544-0bc4-4c90-bfc4-578a7a764bb5',\n",
       "                        [{\"alignmentgroup\": \"True\", \"hovertemplate\": \"confirmed_date=%{x}<br>cnt=%{y}<extra></extra>\", \"legendgroup\": \"\", \"marker\": {\"color\": \"#636efa\"}, \"name\": \"\", \"offsetgroup\": \"\", \"orientation\": \"v\", \"showlegend\": false, \"textposition\": \"auto\", \"type\": \"bar\", \"x\": [\"2020-01-23T00:00:00\", \"2020-01-30T00:00:00\", \"2020-01-31T00:00:00\", \"2020-02-02T00:00:00\", \"2020-02-05T00:00:00\", \"2020-02-06T00:00:00\", \"2020-02-07T00:00:00\", \"2020-02-16T00:00:00\", \"2020-02-19T00:00:00\", \"2020-02-20T00:00:00\", \"2020-02-21T00:00:00\", \"2020-02-22T00:00:00\", \"2020-02-23T00:00:00\", \"2020-02-24T00:00:00\", \"2020-02-25T00:00:00\", \"2020-02-26T00:00:00\", \"2020-02-27T00:00:00\", \"2020-02-28T00:00:00\", \"2020-02-29T00:00:00\", \"2020-03-01T00:00:00\", \"2020-03-02T00:00:00\", \"2020-03-04T00:00:00\", \"2020-03-05T00:00:00\", \"2020-03-06T00:00:00\", \"2020-03-07T00:00:00\", \"2020-03-08T00:00:00\", \"2020-03-09T00:00:00\", \"2020-03-10T00:00:00\", \"2020-03-11T00:00:00\", \"2020-03-12T00:00:00\", \"2020-03-13T00:00:00\", \"2020-03-14T00:00:00\", \"2020-03-15T00:00:00\", \"2020-03-16T00:00:00\", \"2020-03-17T00:00:00\", \"2020-03-18T00:00:00\", \"2020-03-19T00:00:00\", \"2020-03-20T00:00:00\", \"2020-03-21T00:00:00\", \"2020-03-22T00:00:00\", \"2020-03-23T00:00:00\", \"2020-03-24T00:00:00\", \"2020-03-25T00:00:00\", \"2020-03-26T00:00:00\", \"2020-03-27T00:00:00\", \"2020-03-28T00:00:00\", \"2020-03-29T00:00:00\", \"2020-03-30T00:00:00\", \"2020-03-31T00:00:00\", \"2020-04-01T00:00:00\", \"2020-04-02T00:00:00\", \"2020-04-03T00:00:00\", \"2020-04-04T00:00:00\", \"2020-04-05T00:00:00\", \"2020-04-06T00:00:00\", \"2020-04-07T00:00:00\", \"2020-04-08T00:00:00\", \"2020-04-09T00:00:00\", \"2020-04-10T00:00:00\", \"2020-04-11T00:00:00\", \"2020-04-12T00:00:00\", \"2020-04-13T00:00:00\", \"2020-04-14T00:00:00\", \"2020-04-15T00:00:00\", \"2020-04-16T00:00:00\", \"2020-04-17T00:00:00\", \"2020-04-18T00:00:00\", \"2020-04-19T00:00:00\", \"2020-04-20T00:00:00\", \"2020-04-21T00:00:00\", \"2020-04-24T00:00:00\", \"2020-04-27T00:00:00\", \"2020-04-30T00:00:00\", \"2020-05-01T00:00:00\", \"2020-05-02T00:00:00\", \"2020-05-05T00:00:00\", \"2020-05-08T00:00:00\", \"2020-05-09T00:00:00\", \"2020-05-10T00:00:00\", \"2020-05-11T00:00:00\", \"2020-05-12T00:00:00\", \"2020-05-13T00:00:00\", \"2020-05-14T00:00:00\", \"2020-05-15T00:00:00\", \"2020-05-16T00:00:00\", \"2020-05-17T00:00:00\", \"2020-05-18T00:00:00\", \"2020-05-19T00:00:00\", \"2020-05-20T00:00:00\", \"2020-05-21T00:00:00\", \"2020-05-22T00:00:00\", \"2020-05-23T00:00:00\", \"2020-05-24T00:00:00\", \"2020-05-25T00:00:00\", \"2020-05-26T00:00:00\", \"2020-05-27T00:00:00\", \"2020-05-28T00:00:00\", \"2020-05-29T00:00:00\", \"2020-05-30T00:00:00\", \"2020-05-31T00:00:00\", \"2020-06-01T00:00:00\", \"2020-06-02T00:00:00\", \"2020-06-03T00:00:00\", \"2020-06-04T00:00:00\", \"2020-06-05T00:00:00\", \"2020-06-06T00:00:00\", \"2020-06-07T00:00:00\", \"2020-06-08T00:00:00\", \"2020-06-09T00:00:00\", \"2020-06-10T00:00:00\", \"2020-06-11T00:00:00\", \"2020-06-12T00:00:00\", \"2020-06-13T00:00:00\", \"2020-06-14T00:00:00\", \"2020-06-15T00:00:00\", \"2020-06-16T00:00:00\", \"2020-06-17T00:00:00\", \"2020-06-18T00:00:00\", \"2020-06-19T00:00:00\", \"2020-06-20T00:00:00\", \"2020-06-21T00:00:00\", \"2020-06-22T00:00:00\", \"2020-06-23T00:00:00\", \"2020-06-24T00:00:00\", \"2020-06-25T00:00:00\", \"2020-06-26T00:00:00\", \"2020-06-27T00:00:00\", \"2020-06-28T00:00:00\", \"2020-06-29T00:00:00\"], \"xaxis\": \"x\", \"y\": [1, 3, 3, 1, 2, 1, 1, 2, 2, 5, 2, 4, 4, 2, 8, 10, 18, 7, 10, 7, 6, 5, 2, 7, 7, 10, 26, 46, 18, 11, 9, 8, 6, 13, 4, 11, 17, 17, 8, 6, 6, 13, 13, 14, 15, 22, 21, 20, 24, 16, 19, 20, 19, 11, 8, 10, 11, 5, 3, 2, 8, 3, 4, 2, 1, 3, 1, 1, 1, 2, 1, 4, 1, 1, 1, 1, 14, 17, 20, 12, 8, 5, 12, 6, 4, 1, 7, 9, 4, 3, 3, 6, 7, 8, 19, 25, 19, 9, 6, 1, 14, 20, 14, 15, 27, 28, 16, 18, 14, 19, 25, 30, 12, 7, 11, 14, 24, 18, 16, 15, 8, 4, 10, 9, 17, 17, 14, 7, 7], \"yaxis\": \"y\"}],\n",
       "                        {\"barmode\": \"relative\", \"legend\": {\"tracegroupgap\": 0}, \"margin\": {\"t\": 60}, \"template\": {\"data\": {\"bar\": [{\"error_x\": {\"color\": \"#2a3f5f\"}, \"error_y\": {\"color\": \"#2a3f5f\"}, \"marker\": {\"line\": {\"color\": \"#E5ECF6\", \"width\": 0.5}}, \"type\": \"bar\"}], \"barpolar\": [{\"marker\": {\"line\": {\"color\": \"#E5ECF6\", \"width\": 0.5}}, \"type\": \"barpolar\"}], \"carpet\": [{\"aaxis\": {\"endlinecolor\": \"#2a3f5f\", \"gridcolor\": \"white\", \"linecolor\": \"white\", \"minorgridcolor\": \"white\", \"startlinecolor\": \"#2a3f5f\"}, \"baxis\": {\"endlinecolor\": \"#2a3f5f\", \"gridcolor\": \"white\", \"linecolor\": \"white\", \"minorgridcolor\": \"white\", \"startlinecolor\": \"#2a3f5f\"}, \"type\": \"carpet\"}], \"choropleth\": [{\"colorbar\": {\"outlinewidth\": 0, \"ticks\": \"\"}, \"type\": \"choropleth\"}], \"contour\": [{\"colorbar\": {\"outlinewidth\": 0, \"ticks\": \"\"}, \"colorscale\": [[0.0, \"#0d0887\"], [0.1111111111111111, \"#46039f\"], [0.2222222222222222, \"#7201a8\"], [0.3333333333333333, \"#9c179e\"], [0.4444444444444444, \"#bd3786\"], [0.5555555555555556, \"#d8576b\"], [0.6666666666666666, \"#ed7953\"], [0.7777777777777778, \"#fb9f3a\"], [0.8888888888888888, \"#fdca26\"], [1.0, \"#f0f921\"]], \"type\": \"contour\"}], \"contourcarpet\": [{\"colorbar\": {\"outlinewidth\": 0, \"ticks\": \"\"}, \"type\": \"contourcarpet\"}], \"heatmap\": [{\"colorbar\": {\"outlinewidth\": 0, \"ticks\": \"\"}, \"colorscale\": [[0.0, \"#0d0887\"], [0.1111111111111111, \"#46039f\"], [0.2222222222222222, \"#7201a8\"], [0.3333333333333333, \"#9c179e\"], [0.4444444444444444, \"#bd3786\"], [0.5555555555555556, \"#d8576b\"], [0.6666666666666666, \"#ed7953\"], [0.7777777777777778, \"#fb9f3a\"], [0.8888888888888888, \"#fdca26\"], [1.0, \"#f0f921\"]], \"type\": \"heatmap\"}], \"heatmapgl\": [{\"colorbar\": {\"outlinewidth\": 0, \"ticks\": \"\"}, \"colorscale\": [[0.0, \"#0d0887\"], [0.1111111111111111, \"#46039f\"], [0.2222222222222222, \"#7201a8\"], [0.3333333333333333, \"#9c179e\"], [0.4444444444444444, \"#bd3786\"], [0.5555555555555556, \"#d8576b\"], [0.6666666666666666, \"#ed7953\"], [0.7777777777777778, \"#fb9f3a\"], [0.8888888888888888, \"#fdca26\"], [1.0, \"#f0f921\"]], \"type\": \"heatmapgl\"}], \"histogram\": [{\"marker\": {\"colorbar\": {\"outlinewidth\": 0, \"ticks\": \"\"}}, \"type\": \"histogram\"}], \"histogram2d\": [{\"colorbar\": {\"outlinewidth\": 0, \"ticks\": \"\"}, \"colorscale\": [[0.0, \"#0d0887\"], [0.1111111111111111, \"#46039f\"], [0.2222222222222222, \"#7201a8\"], [0.3333333333333333, \"#9c179e\"], [0.4444444444444444, \"#bd3786\"], [0.5555555555555556, \"#d8576b\"], [0.6666666666666666, \"#ed7953\"], [0.7777777777777778, \"#fb9f3a\"], [0.8888888888888888, \"#fdca26\"], [1.0, \"#f0f921\"]], \"type\": \"histogram2d\"}], \"histogram2dcontour\": [{\"colorbar\": {\"outlinewidth\": 0, \"ticks\": \"\"}, \"colorscale\": [[0.0, \"#0d0887\"], [0.1111111111111111, \"#46039f\"], [0.2222222222222222, \"#7201a8\"], [0.3333333333333333, \"#9c179e\"], [0.4444444444444444, \"#bd3786\"], [0.5555555555555556, \"#d8576b\"], [0.6666666666666666, \"#ed7953\"], [0.7777777777777778, \"#fb9f3a\"], [0.8888888888888888, \"#fdca26\"], [1.0, \"#f0f921\"]], \"type\": \"histogram2dcontour\"}], \"mesh3d\": [{\"colorbar\": {\"outlinewidth\": 0, \"ticks\": \"\"}, \"type\": \"mesh3d\"}], \"parcoords\": [{\"line\": {\"colorbar\": {\"outlinewidth\": 0, \"ticks\": \"\"}}, \"type\": \"parcoords\"}], \"pie\": [{\"automargin\": true, \"type\": \"pie\"}], \"scatter\": [{\"marker\": {\"colorbar\": {\"outlinewidth\": 0, \"ticks\": \"\"}}, \"type\": \"scatter\"}], \"scatter3d\": [{\"line\": {\"colorbar\": {\"outlinewidth\": 0, \"ticks\": \"\"}}, \"marker\": {\"colorbar\": {\"outlinewidth\": 0, \"ticks\": \"\"}}, \"type\": \"scatter3d\"}], \"scattercarpet\": [{\"marker\": {\"colorbar\": {\"outlinewidth\": 0, \"ticks\": \"\"}}, \"type\": \"scattercarpet\"}], \"scattergeo\": [{\"marker\": {\"colorbar\": {\"outlinewidth\": 0, \"ticks\": \"\"}}, \"type\": \"scattergeo\"}], \"scattergl\": [{\"marker\": {\"colorbar\": {\"outlinewidth\": 0, \"ticks\": \"\"}}, \"type\": \"scattergl\"}], \"scattermapbox\": [{\"marker\": {\"colorbar\": {\"outlinewidth\": 0, \"ticks\": \"\"}}, \"type\": \"scattermapbox\"}], \"scatterpolar\": [{\"marker\": {\"colorbar\": {\"outlinewidth\": 0, \"ticks\": \"\"}}, \"type\": \"scatterpolar\"}], \"scatterpolargl\": [{\"marker\": {\"colorbar\": {\"outlinewidth\": 0, \"ticks\": \"\"}}, \"type\": \"scatterpolargl\"}], \"scatterternary\": [{\"marker\": {\"colorbar\": {\"outlinewidth\": 0, \"ticks\": \"\"}}, \"type\": \"scatterternary\"}], \"surface\": [{\"colorbar\": {\"outlinewidth\": 0, \"ticks\": \"\"}, \"colorscale\": [[0.0, \"#0d0887\"], [0.1111111111111111, \"#46039f\"], [0.2222222222222222, \"#7201a8\"], [0.3333333333333333, \"#9c179e\"], [0.4444444444444444, \"#bd3786\"], [0.5555555555555556, \"#d8576b\"], [0.6666666666666666, \"#ed7953\"], [0.7777777777777778, \"#fb9f3a\"], [0.8888888888888888, \"#fdca26\"], [1.0, \"#f0f921\"]], \"type\": \"surface\"}], \"table\": [{\"cells\": {\"fill\": {\"color\": \"#EBF0F8\"}, \"line\": {\"color\": \"white\"}}, \"header\": {\"fill\": {\"color\": \"#C8D4E3\"}, \"line\": {\"color\": \"white\"}}, \"type\": \"table\"}]}, \"layout\": {\"annotationdefaults\": {\"arrowcolor\": \"#2a3f5f\", \"arrowhead\": 0, \"arrowwidth\": 1}, \"coloraxis\": {\"colorbar\": {\"outlinewidth\": 0, \"ticks\": \"\"}}, \"colorscale\": {\"diverging\": [[0, \"#8e0152\"], [0.1, \"#c51b7d\"], [0.2, \"#de77ae\"], [0.3, \"#f1b6da\"], [0.4, \"#fde0ef\"], [0.5, \"#f7f7f7\"], [0.6, \"#e6f5d0\"], [0.7, \"#b8e186\"], [0.8, \"#7fbc41\"], [0.9, \"#4d9221\"], [1, \"#276419\"]], \"sequential\": [[0.0, \"#0d0887\"], [0.1111111111111111, \"#46039f\"], [0.2222222222222222, \"#7201a8\"], [0.3333333333333333, \"#9c179e\"], [0.4444444444444444, \"#bd3786\"], [0.5555555555555556, \"#d8576b\"], [0.6666666666666666, \"#ed7953\"], [0.7777777777777778, \"#fb9f3a\"], [0.8888888888888888, \"#fdca26\"], [1.0, \"#f0f921\"]], \"sequentialminus\": [[0.0, \"#0d0887\"], [0.1111111111111111, \"#46039f\"], [0.2222222222222222, \"#7201a8\"], [0.3333333333333333, \"#9c179e\"], [0.4444444444444444, \"#bd3786\"], [0.5555555555555556, \"#d8576b\"], [0.6666666666666666, \"#ed7953\"], [0.7777777777777778, \"#fb9f3a\"], [0.8888888888888888, \"#fdca26\"], [1.0, \"#f0f921\"]]}, \"colorway\": [\"#636efa\", \"#EF553B\", \"#00cc96\", \"#ab63fa\", \"#FFA15A\", \"#19d3f3\", \"#FF6692\", \"#B6E880\", \"#FF97FF\", \"#FECB52\"], \"font\": {\"color\": \"#2a3f5f\"}, \"geo\": {\"bgcolor\": \"white\", \"lakecolor\": \"white\", \"landcolor\": \"#E5ECF6\", \"showlakes\": true, \"showland\": true, \"subunitcolor\": \"white\"}, \"hoverlabel\": {\"align\": \"left\"}, \"hovermode\": \"closest\", \"mapbox\": {\"style\": \"light\"}, \"paper_bgcolor\": \"white\", \"plot_bgcolor\": \"#E5ECF6\", \"polar\": {\"angularaxis\": {\"gridcolor\": \"white\", \"linecolor\": \"white\", \"ticks\": \"\"}, \"bgcolor\": \"#E5ECF6\", \"radialaxis\": {\"gridcolor\": \"white\", \"linecolor\": \"white\", \"ticks\": \"\"}}, \"scene\": {\"xaxis\": {\"backgroundcolor\": \"#E5ECF6\", \"gridcolor\": \"white\", \"gridwidth\": 2, \"linecolor\": \"white\", \"showbackground\": true, \"ticks\": \"\", \"zerolinecolor\": \"white\"}, \"yaxis\": {\"backgroundcolor\": \"#E5ECF6\", \"gridcolor\": \"white\", \"gridwidth\": 2, \"linecolor\": \"white\", \"showbackground\": true, \"ticks\": \"\", \"zerolinecolor\": \"white\"}, \"zaxis\": {\"backgroundcolor\": \"#E5ECF6\", \"gridcolor\": \"white\", \"gridwidth\": 2, \"linecolor\": \"white\", \"showbackground\": true, \"ticks\": \"\", \"zerolinecolor\": \"white\"}}, \"shapedefaults\": {\"line\": {\"color\": \"#2a3f5f\"}}, \"ternary\": {\"aaxis\": {\"gridcolor\": \"white\", \"linecolor\": \"white\", \"ticks\": \"\"}, \"baxis\": {\"gridcolor\": \"white\", \"linecolor\": \"white\", \"ticks\": \"\"}, \"bgcolor\": \"#E5ECF6\", \"caxis\": {\"gridcolor\": \"white\", \"linecolor\": \"white\", \"ticks\": \"\"}}, \"title\": {\"x\": 0.05}, \"xaxis\": {\"automargin\": true, \"gridcolor\": \"white\", \"linecolor\": \"white\", \"ticks\": \"\", \"title\": {\"standoff\": 15}, \"zerolinecolor\": \"white\", \"zerolinewidth\": 2}, \"yaxis\": {\"automargin\": true, \"gridcolor\": \"white\", \"linecolor\": \"white\", \"ticks\": \"\", \"title\": {\"standoff\": 15}, \"zerolinecolor\": \"white\", \"zerolinewidth\": 2}}}, \"title\": {\"text\": \"\\uc9c0\\uc5ed\\ubcc4 \\ud655\\uc9c4\\uc790 \\ubcc0\\ud654(\\uc11c\\uc6b8 \\ud55c\\uc815)-\\ub2ec \\ucd08/\\ub9d0 \\ub85c \\ub098\\ub214\", \"x\": 0.5, \"xanchor\": \"center\", \"y\": 1, \"yanchor\": \"top\"}, \"xaxis\": {\"anchor\": \"y\", \"domain\": [0.0, 1.0], \"title\": {\"text\": \"confirmed_date\"}}, \"yaxis\": {\"anchor\": \"x\", \"domain\": [0.0, 1.0], \"title\": {\"text\": \"cnt\"}}},\n",
       "                        {\"responsive\": true}\n",
       "                    ).then(function(){\n",
       "                            \n",
       "var gd = document.getElementById('2ff05544-0bc4-4c90-bfc4-578a7a764bb5');\n",
       "var x = new MutationObserver(function (mutations, observer) {{\n",
       "        var display = window.getComputedStyle(gd).display;\n",
       "        if (!display || display === 'none') {{\n",
       "            console.log([gd, 'removed!']);\n",
       "            Plotly.purge(gd);\n",
       "            observer.disconnect();\n",
       "        }}\n",
       "}});\n",
       "\n",
       "// Listen for the removal of the full notebook cells\n",
       "var notebookContainer = gd.closest('#notebook-container');\n",
       "if (notebookContainer) {{\n",
       "    x.observe(notebookContainer, {childList: true});\n",
       "}}\n",
       "\n",
       "// Listen for the clearing of the current output cell\n",
       "var outputEl = gd.closest('.output');\n",
       "if (outputEl) {{\n",
       "    x.observe(outputEl, {childList: true});\n",
       "}}\n",
       "\n",
       "                        })\n",
       "                };\n",
       "                });\n",
       "            </script>\n",
       "        </div>"
      ]
     },
     "metadata": {},
     "output_type": "display_data"
    }
   ],
   "source": [
    "fig=px.bar(patient_s,x='confirmed_date',y='cnt')\n",
    "fig.update_layout(\n",
    "    title={\n",
    "        'text': \"지역별 확진자 변화(서울 한정)-달 초/말 로 나눔\",\n",
    "        'y':1,\n",
    "        'x':0.5,\n",
    "        'xanchor': 'center',\n",
    "        'yanchor': 'top'})\n",
    "fig.show()"
   ]
  },
  {
   "cell_type": "code",
   "execution_count": 91,
   "metadata": {},
   "outputs": [
    {
     "data": {
      "image/png": "[encoded data removed]",
      "text/plain": [
       "<Figure size 1296x432 with 1 Axes>"
      ]
     },
     "metadata": {
      "needs_background": "light"
     },
     "output_type": "display_data"
    }
   ],
   "source": [
    "plt.figure(figsize=(18, 6))\n",
    "pal = sns.color_palette(\"Blues_d\", patient_s.shape[0])\n",
    "sns.barplot(data=patient_s, x='월', y='cnt',ci=None)\n",
    "\n",
    "plt.title(f'서울 월별 신규 확진자 수', size=20)\n",
    "plt.xticks(rotation=45, size=15, ha='right')\n",
    "plt.xlabel('월별', size=15)\n",
    "plt.ylabel('cnt', size=15)\n",
    "plt.show()"
   ]
  },
  {
   "cell_type": "markdown",
   "metadata": {},
   "source": [
    "## 요약\n",
    "\n",
    "확진자 수가 급증한 시점은 9주차로 볼 수 있다.\n",
    "구체적인 일자는 일별 확진자수를 비교하여 결정하였으며,\n",
    "그 결과 20년도 3월 10일까지는 코로나 이전의 시대, 3월 11일부터는 포스트 코로나 시대로 분류하였다."
   ]
  },
  {
   "cell_type": "code",
   "execution_count": 92,
   "metadata": {},
   "outputs": [
    {
     "data": {
      "image/png": "[encoded data removed]",
      "text/plain": [
       "<Figure size 1296x432 with 1 Axes>"
      ]
     },
     "metadata": {
      "needs_background": "light"
     },
     "output_type": "display_data"
    }
   ],
   "source": [
    "plt.figure(figsize=(18, 6))\n",
    "sns.barplot(x='주차', y='cnt',data=patient_s,dodge=False,ci=None)\n",
    "\n",
    "plt.title(f'서울 주별 신규 확진자 수', size=20)\n",
    "plt.xticks(rotation=45, size=15)\n",
    "plt.xlabel('주별(2020년 기준)', size=15)\n",
    "plt.ylabel('확진자수(daily)', size=15)\n",
    "plt.axvline(x=1, color='r', linestyle=':', linewidth=2)\n",
    "plt.axvline(x=5.2, color='r', linestyle=':', linewidth=2)\n",
    "plt.axvline(x=9.5, color='r', linestyle=':', linewidth=2)\n",
    "plt.axvline(x=14, color='r', linestyle=':', linewidth=2)\n",
    "plt.axvline(x=18.5, color='r', linestyle=':', linewidth=2)\n",
    "plt.text(0.04, 19, r'1월',size=15)\n",
    "plt.text(2.9, 19, r'2월',size=15)\n",
    "plt.text(7.2, 19, r'3월',size=15)\n",
    "plt.text(11.5, 19, r'4월',size=15)\n",
    "plt.text(16, 19, r'5월',size=15)\n",
    "plt.text(21, 19, r'6월',size=15)\n",
    "\n",
    "plt.show()"
   ]
  },
  {
   "cell_type": "markdown",
   "metadata": {},
   "source": [
    "## 군집분석"
   ]
  },
  {
   "cell_type": "markdown",
   "metadata": {},
   "source": [
    "### reset_index \n",
    "\n",
    "인덱스를 보통의 자료열로 바꿀 수도 있다. 이 때 인덱스 열은 자료열의 가장 선두로 삽입된다. 데이터프레임의 인덱스는 정수로 된 디폴트 인덱스로 바뀐다.\n",
    "\n",
    "\n",
    "reset_index 명령 사용시에 drop=True 로 설정하면 인덱스 열을 보통의 자료열로 올리는 것이 아니라 그냥 버리게 된다."
   ]
  },
  {
   "cell_type": "code",
   "execution_count": 68,
   "metadata": {},
   "outputs": [],
   "source": [
    "card_01 = card[card['month'] == 1].reset_index(drop = True)\n",
    "card_02 = card[card['month'] == 2].reset_index(drop = True)\n",
    "card_03 = card[card['month'] == 3].reset_index(drop = True)\n",
    "card_04 = card[card['month'] == 4].reset_index(drop = True)\n",
    "card_05 = card[card['month'] == 5].reset_index(drop = True)\n",
    "card_06 = card[card['month'] == 6].reset_index(drop = True)"
   ]
  },
  {
   "cell_type": "code",
   "execution_count": 94,
   "metadata": {},
   "outputs": [
    {
     "data": {
      "text/html": [
       "<div>\n",
       "<style scoped>\n",
       "    .dataframe tbody tr th:only-of-type {\n",
       "        vertical-align: middle;\n",
       "    }\n",
       "\n",
       "    .dataframe tbody tr th {\n",
       "        vertical-align: top;\n",
       "    }\n",
       "\n",
       "    .dataframe thead th {\n",
       "        text-align: right;\n",
       "    }\n",
       "</style>\n",
       "<table border=\"1\" class=\"dataframe\">\n",
       "  <thead>\n",
       "    <tr style=\"text-align: right;\">\n",
       "      <th></th>\n",
       "      <th>cl_nm</th>\n",
       "      <th>6월 매출</th>\n",
       "    </tr>\n",
       "  </thead>\n",
       "  <tbody>\n",
       "    <tr>\n",
       "      <th>0</th>\n",
       "      <td>1급 호텔</td>\n",
       "      <td>3615208480</td>\n",
       "    </tr>\n",
       "    <tr>\n",
       "      <th>1</th>\n",
       "      <td>2급 호텔</td>\n",
       "      <td>5274087736</td>\n",
       "    </tr>\n",
       "    <tr>\n",
       "      <th>2</th>\n",
       "      <td>CATV</td>\n",
       "      <td>279388170</td>\n",
       "    </tr>\n",
       "    <tr>\n",
       "      <th>3</th>\n",
       "      <td>CATV홈쇼핑</td>\n",
       "      <td>164023975912</td>\n",
       "    </tr>\n",
       "    <tr>\n",
       "      <th>4</th>\n",
       "      <td>L P G</td>\n",
       "      <td>11468253872</td>\n",
       "    </tr>\n",
       "    <tr>\n",
       "      <th>...</th>\n",
       "      <td>...</td>\n",
       "      <td>...</td>\n",
       "    </tr>\n",
       "    <tr>\n",
       "      <th>250</th>\n",
       "      <td>화   랑</td>\n",
       "      <td>1913023680</td>\n",
       "    </tr>\n",
       "    <tr>\n",
       "      <th>251</th>\n",
       "      <td>화   원</td>\n",
       "      <td>15094357392</td>\n",
       "    </tr>\n",
       "    <tr>\n",
       "      <th>252</th>\n",
       "      <td>화 장 품</td>\n",
       "      <td>95324343216</td>\n",
       "    </tr>\n",
       "    <tr>\n",
       "      <th>253</th>\n",
       "      <td>화물 운송</td>\n",
       "      <td>17466134085</td>\n",
       "    </tr>\n",
       "    <tr>\n",
       "      <th>254</th>\n",
       "      <td>화방표구점</td>\n",
       "      <td>1649860208</td>\n",
       "    </tr>\n",
       "  </tbody>\n",
       "</table>\n",
       "<p>255 rows × 2 columns</p>\n",
       "</div>"
      ],
      "text/plain": [
       "       cl_nm         6월 매출\n",
       "0      1급 호텔    3615208480\n",
       "1      2급 호텔    5274087736\n",
       "2       CATV     279388170\n",
       "3    CATV홈쇼핑  164023975912\n",
       "4      L P G   11468253872\n",
       "..       ...           ...\n",
       "250    화   랑    1913023680\n",
       "251    화   원   15094357392\n",
       "252    화 장 품   95324343216\n",
       "253    화물 운송   17466134085\n",
       "254    화방표구점    1649860208\n",
       "\n",
       "[255 rows x 2 columns]"
      ]
     },
     "execution_count": 94,
     "metadata": {},
     "output_type": "execute_result"
    }
   ],
   "source": [
    "# 월별, 가맹점 업종별 매출발생금액을 확인하기 위해 데이터를 처리한다. \n",
    "\n",
    "amt_01 = pd.DataFrame(card_01.groupby(by = ['mrhst_induty_cl_nm'])['salamt'].sum()).reset_index()\n",
    "amt_01.columns = ['cl_nm', '1월 매출']\n",
    "amt_02 = pd.DataFrame(card_02.groupby(by = ['mrhst_induty_cl_nm'])['salamt'].sum()).reset_index()\n",
    "amt_02.columns = ['cl_nm', '2월 매출']\n",
    "amt_03 = pd.DataFrame(card_03.groupby(by = ['mrhst_induty_cl_nm'])['salamt'].sum()).reset_index()\n",
    "amt_03.columns = ['cl_nm', '3월 매출']\n",
    "amt_04 = pd.DataFrame(card_04.groupby(by = ['mrhst_induty_cl_nm'])['salamt'].sum()).reset_index()\n",
    "amt_04.columns = ['cl_nm', '4월 매출']\n",
    "amt_05 = pd.DataFrame(card_05.groupby(by = ['mrhst_induty_cl_nm'])['salamt'].sum()).reset_index()\n",
    "amt_05.columns = ['cl_nm', '5월 매출']\n",
    "amt_06 = pd.DataFrame(card_06.groupby(by = ['mrhst_induty_cl_nm'])['salamt'].sum()).reset_index()\n",
    "amt_06.columns = ['cl_nm', '6월 매출']\n",
    "amt_06"
   ]
  },
  {
   "cell_type": "code",
   "execution_count": 93,
   "metadata": {},
   "outputs": [
    {
     "data": {
      "text/html": [
       "<div>\n",
       "<style scoped>\n",
       "    .dataframe tbody tr th:only-of-type {\n",
       "        vertical-align: middle;\n",
       "    }\n",
       "\n",
       "    .dataframe tbody tr th {\n",
       "        vertical-align: top;\n",
       "    }\n",
       "\n",
       "    .dataframe thead th {\n",
       "        text-align: right;\n",
       "    }\n",
       "</style>\n",
       "<table border=\"1\" class=\"dataframe\">\n",
       "  <thead>\n",
       "    <tr style=\"text-align: right;\">\n",
       "      <th></th>\n",
       "      <th>1월 매출</th>\n",
       "      <th>2월 매출</th>\n",
       "      <th>3월 매출</th>\n",
       "      <th>4월 매출</th>\n",
       "      <th>5월 매출</th>\n",
       "      <th>6월 매출</th>\n",
       "    </tr>\n",
       "    <tr>\n",
       "      <th>cl_nm</th>\n",
       "      <th></th>\n",
       "      <th></th>\n",
       "      <th></th>\n",
       "      <th></th>\n",
       "      <th></th>\n",
       "      <th></th>\n",
       "    </tr>\n",
       "  </thead>\n",
       "  <tbody>\n",
       "    <tr>\n",
       "      <th>1급 호텔</th>\n",
       "      <td>7680662744</td>\n",
       "      <td>11359201280</td>\n",
       "      <td>6140216784</td>\n",
       "      <td>6591498688</td>\n",
       "      <td>9138489896</td>\n",
       "      <td>3615208480</td>\n",
       "    </tr>\n",
       "    <tr>\n",
       "      <th>2급 호텔</th>\n",
       "      <td>7909795680</td>\n",
       "      <td>10373864184</td>\n",
       "      <td>7150514520</td>\n",
       "      <td>7169358584</td>\n",
       "      <td>10433746856</td>\n",
       "      <td>5274087736</td>\n",
       "    </tr>\n",
       "    <tr>\n",
       "      <th>CATV</th>\n",
       "      <td>106233660</td>\n",
       "      <td>1219132656</td>\n",
       "      <td>1312781904</td>\n",
       "      <td>1811780937</td>\n",
       "      <td>1429852122</td>\n",
       "      <td>279388170</td>\n",
       "    </tr>\n",
       "    <tr>\n",
       "      <th>CATV홈쇼핑</th>\n",
       "      <td>173369872368</td>\n",
       "      <td>223672362296</td>\n",
       "      <td>399575175288</td>\n",
       "      <td>346695345312</td>\n",
       "      <td>345928748696</td>\n",
       "      <td>164023975912</td>\n",
       "    </tr>\n",
       "    <tr>\n",
       "      <th>L P G</th>\n",
       "      <td>9082251792</td>\n",
       "      <td>20057305016</td>\n",
       "      <td>26596327896</td>\n",
       "      <td>25438062464</td>\n",
       "      <td>23755378992</td>\n",
       "      <td>11468253872</td>\n",
       "    </tr>\n",
       "    <tr>\n",
       "      <th>...</th>\n",
       "      <td>...</td>\n",
       "      <td>...</td>\n",
       "      <td>...</td>\n",
       "      <td>...</td>\n",
       "      <td>...</td>\n",
       "      <td>...</td>\n",
       "    </tr>\n",
       "    <tr>\n",
       "      <th>화   랑</th>\n",
       "      <td>1022772160</td>\n",
       "      <td>1576380480</td>\n",
       "      <td>1973491456</td>\n",
       "      <td>2330688440</td>\n",
       "      <td>3207949552</td>\n",
       "      <td>1913023680</td>\n",
       "    </tr>\n",
       "    <tr>\n",
       "      <th>화   원</th>\n",
       "      <td>19689770960</td>\n",
       "      <td>24367018536</td>\n",
       "      <td>35664017960</td>\n",
       "      <td>42405138312</td>\n",
       "      <td>58643467072</td>\n",
       "      <td>15094357392</td>\n",
       "    </tr>\n",
       "    <tr>\n",
       "      <th>화 장 품</th>\n",
       "      <td>211479544984</td>\n",
       "      <td>167376607624</td>\n",
       "      <td>199483728280</td>\n",
       "      <td>209869979800</td>\n",
       "      <td>216609198760</td>\n",
       "      <td>95324343216</td>\n",
       "    </tr>\n",
       "    <tr>\n",
       "      <th>화물 운송</th>\n",
       "      <td>11865860766</td>\n",
       "      <td>26919113922</td>\n",
       "      <td>39529746144</td>\n",
       "      <td>38758605912</td>\n",
       "      <td>37850649111</td>\n",
       "      <td>17466134085</td>\n",
       "    </tr>\n",
       "    <tr>\n",
       "      <th>화방표구점</th>\n",
       "      <td>1167859176</td>\n",
       "      <td>2050403808</td>\n",
       "      <td>2308364384</td>\n",
       "      <td>3375761488</td>\n",
       "      <td>3289390792</td>\n",
       "      <td>1649860208</td>\n",
       "    </tr>\n",
       "  </tbody>\n",
       "</table>\n",
       "<p>252 rows × 6 columns</p>\n",
       "</div>"
      ],
      "text/plain": [
       "                1월 매출         2월 매출         3월 매출         4월 매출         5월 매출  \\\n",
       "cl_nm                                                                           \n",
       "1급 호텔      7680662744   11359201280    6140216784    6591498688    9138489896   \n",
       "2급 호텔      7909795680   10373864184    7150514520    7169358584   10433746856   \n",
       "CATV        106233660    1219132656    1312781904    1811780937    1429852122   \n",
       "CATV홈쇼핑  173369872368  223672362296  399575175288  346695345312  345928748696   \n",
       "L P G      9082251792   20057305016   26596327896   25438062464   23755378992   \n",
       "...               ...           ...           ...           ...           ...   \n",
       "화   랑      1022772160    1576380480    1973491456    2330688440    3207949552   \n",
       "화   원     19689770960   24367018536   35664017960   42405138312   58643467072   \n",
       "화 장 품    211479544984  167376607624  199483728280  209869979800  216609198760   \n",
       "화물 운송     11865860766   26919113922   39529746144   38758605912   37850649111   \n",
       "화방표구점      1167859176    2050403808    2308364384    3375761488    3289390792   \n",
       "\n",
       "                6월 매출  \n",
       "cl_nm                  \n",
       "1급 호텔      3615208480  \n",
       "2급 호텔      5274087736  \n",
       "CATV        279388170  \n",
       "CATV홈쇼핑  164023975912  \n",
       "L P G     11468253872  \n",
       "...               ...  \n",
       "화   랑      1913023680  \n",
       "화   원     15094357392  \n",
       "화 장 품     95324343216  \n",
       "화물 운송     17466134085  \n",
       "화방표구점      1649860208  \n",
       "\n",
       "[252 rows x 6 columns]"
      ]
     },
     "execution_count": 93,
     "metadata": {},
     "output_type": "execute_result"
    }
   ],
   "source": [
    "card_amt = pd.merge(amt_01, amt_02, how = 'inner', on = ['cl_nm'])\n",
    "card_amt = pd.merge(card_amt, amt_03, how = 'inner', on = ['cl_nm'])\n",
    "card_amt = pd.merge(card_amt, amt_04, how = 'inner', on = ['cl_nm'])\n",
    "card_amt = pd.merge(card_amt, amt_05, how = 'inner', on = ['cl_nm'])\n",
    "card_amt = pd.merge(card_amt, amt_06, how = 'inner', on = ['cl_nm'])\n",
    "card_amt.index = card_amt['cl_nm']\n",
    "card_amt.drop('cl_nm', axis = 1, inplace= True)\n",
    "card_amt"
   ]
  },
  {
   "cell_type": "code",
   "execution_count": 71,
   "metadata": {},
   "outputs": [],
   "source": [
    "# 군집화를 하기 전에 1월부터 5월까지 매출의 scaling 한다. \n",
    "\n",
    "card_amt_05 = card_amt.iloc[:,:5]\n",
    "card_amt_05['sum']  = card_amt_05.sum(axis = 1)\n",
    "card_amt_05 = card_amt_05.sort_values(by = ('sum'),ascending = False)\n",
    "card_amt_perc = card_amt_05.iloc[:, :5].div(card_amt_05['sum'], axis = 0)*100"
   ]
  },
  {
   "cell_type": "code",
   "execution_count": 96,
   "metadata": {},
   "outputs": [
    {
     "data": {
      "text/html": [
       "<div>\n",
       "<style scoped>\n",
       "    .dataframe tbody tr th:only-of-type {\n",
       "        vertical-align: middle;\n",
       "    }\n",
       "\n",
       "    .dataframe tbody tr th {\n",
       "        vertical-align: top;\n",
       "    }\n",
       "\n",
       "    .dataframe thead th {\n",
       "        text-align: right;\n",
       "    }\n",
       "</style>\n",
       "<table border=\"1\" class=\"dataframe\">\n",
       "  <thead>\n",
       "    <tr style=\"text-align: right;\">\n",
       "      <th></th>\n",
       "      <th>1월 매출</th>\n",
       "      <th>2월 매출</th>\n",
       "      <th>3월 매출</th>\n",
       "      <th>4월 매출</th>\n",
       "      <th>5월 매출</th>\n",
       "      <th>sum</th>\n",
       "    </tr>\n",
       "    <tr>\n",
       "      <th>cl_nm</th>\n",
       "      <th></th>\n",
       "      <th></th>\n",
       "      <th></th>\n",
       "      <th></th>\n",
       "      <th></th>\n",
       "      <th></th>\n",
       "    </tr>\n",
       "  </thead>\n",
       "  <tbody>\n",
       "    <tr>\n",
       "      <th>인터넷P/G</th>\n",
       "      <td>11873027824368</td>\n",
       "      <td>9924606619752</td>\n",
       "      <td>12112603651992</td>\n",
       "      <td>11988139918648</td>\n",
       "      <td>12104979863792</td>\n",
       "      <td>58003357878552</td>\n",
       "    </tr>\n",
       "    <tr>\n",
       "      <th>인터넷Mall</th>\n",
       "      <td>4111319350912</td>\n",
       "      <td>880453484296</td>\n",
       "      <td>2768058679616</td>\n",
       "      <td>4875415491872</td>\n",
       "      <td>7051307356744</td>\n",
       "      <td>19686554363440</td>\n",
       "    </tr>\n",
       "    <tr>\n",
       "      <th>조세서비스(특약)</th>\n",
       "      <td>3072049664553</td>\n",
       "      <td>1902837312945</td>\n",
       "      <td>2876657991381</td>\n",
       "      <td>5508990976374</td>\n",
       "      <td>4850645609124</td>\n",
       "      <td>18211181554377</td>\n",
       "    </tr>\n",
       "    <tr>\n",
       "      <th>일반한식</th>\n",
       "      <td>2609940470912</td>\n",
       "      <td>1819884529456</td>\n",
       "      <td>2190426488928</td>\n",
       "      <td>2401356986848</td>\n",
       "      <td>2674916998816</td>\n",
       "      <td>11696525474960</td>\n",
       "    </tr>\n",
       "    <tr>\n",
       "      <th>손해 보험</th>\n",
       "      <td>1385776559824</td>\n",
       "      <td>1662774502760</td>\n",
       "      <td>2413114903616</td>\n",
       "      <td>2417412914992</td>\n",
       "      <td>2413539840296</td>\n",
       "      <td>10292618721488</td>\n",
       "    </tr>\n",
       "    <tr>\n",
       "      <th>...</th>\n",
       "      <td>...</td>\n",
       "      <td>...</td>\n",
       "      <td>...</td>\n",
       "      <td>...</td>\n",
       "      <td>...</td>\n",
       "      <td>...</td>\n",
       "    </tr>\n",
       "    <tr>\n",
       "      <th>교육테이프</th>\n",
       "      <td>1246400</td>\n",
       "      <td>5078400</td>\n",
       "      <td>117536000</td>\n",
       "      <td>116159680</td>\n",
       "      <td>61648800</td>\n",
       "      <td>301669280</td>\n",
       "    </tr>\n",
       "    <tr>\n",
       "      <th>기타회원제형태업소2</th>\n",
       "      <td>13095000</td>\n",
       "      <td>37444500</td>\n",
       "      <td>38331000</td>\n",
       "      <td>106695000</td>\n",
       "      <td>100224000</td>\n",
       "      <td>295789500</td>\n",
       "    </tr>\n",
       "    <tr>\n",
       "      <th>전기차충전소</th>\n",
       "      <td>12362760</td>\n",
       "      <td>15237712</td>\n",
       "      <td>20052784</td>\n",
       "      <td>22928816</td>\n",
       "      <td>22140088</td>\n",
       "      <td>92722160</td>\n",
       "    </tr>\n",
       "    <tr>\n",
       "      <th>통신판매(생활서비스)</th>\n",
       "      <td>5940000</td>\n",
       "      <td>4401000</td>\n",
       "      <td>14769000</td>\n",
       "      <td>32724000</td>\n",
       "      <td>12636000</td>\n",
       "      <td>70470000</td>\n",
       "    </tr>\n",
       "    <tr>\n",
       "      <th>사업자미등록개인</th>\n",
       "      <td>3979800</td>\n",
       "      <td>5890500</td>\n",
       "      <td>5599800</td>\n",
       "      <td>11232000</td>\n",
       "      <td>7617600</td>\n",
       "      <td>34319700</td>\n",
       "    </tr>\n",
       "  </tbody>\n",
       "</table>\n",
       "<p>252 rows × 6 columns</p>\n",
       "</div>"
      ],
      "text/plain": [
       "                      1월 매출          2월 매출           3월 매출           4월 매출  \\\n",
       "cl_nm                                                                        \n",
       "인터넷P/G       11873027824368  9924606619752  12112603651992  11988139918648   \n",
       "인터넷Mall       4111319350912   880453484296   2768058679616   4875415491872   \n",
       "조세서비스(특약)     3072049664553  1902837312945   2876657991381   5508990976374   \n",
       "일반한식          2609940470912  1819884529456   2190426488928   2401356986848   \n",
       "손해 보험         1385776559824  1662774502760   2413114903616   2417412914992   \n",
       "...                     ...            ...             ...             ...   \n",
       "교육테이프               1246400        5078400       117536000       116159680   \n",
       "기타회원제형태업소2         13095000       37444500        38331000       106695000   \n",
       "전기차충전소             12362760       15237712        20052784        22928816   \n",
       "통신판매(생활서비스)         5940000        4401000        14769000        32724000   \n",
       "사업자미등록개인            3979800        5890500         5599800        11232000   \n",
       "\n",
       "                      5월 매출             sum  \n",
       "cl_nm                                        \n",
       "인터넷P/G       12104979863792  58003357878552  \n",
       "인터넷Mall       7051307356744  19686554363440  \n",
       "조세서비스(특약)     4850645609124  18211181554377  \n",
       "일반한식          2674916998816  11696525474960  \n",
       "손해 보험         2413539840296  10292618721488  \n",
       "...                     ...             ...  \n",
       "교육테이프              61648800       301669280  \n",
       "기타회원제형태업소2        100224000       295789500  \n",
       "전기차충전소             22140088        92722160  \n",
       "통신판매(생활서비스)        12636000        70470000  \n",
       "사업자미등록개인            7617600        34319700  \n",
       "\n",
       "[252 rows x 6 columns]"
      ]
     },
     "execution_count": 96,
     "metadata": {},
     "output_type": "execute_result"
    }
   ],
   "source": [
    "card_amt_05"
   ]
  },
  {
   "cell_type": "code",
   "execution_count": 97,
   "metadata": {},
   "outputs": [
    {
     "data": {
      "text/html": [
       "<div>\n",
       "<style scoped>\n",
       "    .dataframe tbody tr th:only-of-type {\n",
       "        vertical-align: middle;\n",
       "    }\n",
       "\n",
       "    .dataframe tbody tr th {\n",
       "        vertical-align: top;\n",
       "    }\n",
       "\n",
       "    .dataframe thead th {\n",
       "        text-align: right;\n",
       "    }\n",
       "</style>\n",
       "<table border=\"1\" class=\"dataframe\">\n",
       "  <thead>\n",
       "    <tr style=\"text-align: right;\">\n",
       "      <th></th>\n",
       "      <th>1월 매출</th>\n",
       "      <th>2월 매출</th>\n",
       "      <th>3월 매출</th>\n",
       "      <th>4월 매출</th>\n",
       "      <th>5월 매출</th>\n",
       "    </tr>\n",
       "    <tr>\n",
       "      <th>cl_nm</th>\n",
       "      <th></th>\n",
       "      <th></th>\n",
       "      <th></th>\n",
       "      <th></th>\n",
       "      <th></th>\n",
       "    </tr>\n",
       "  </thead>\n",
       "  <tbody>\n",
       "    <tr>\n",
       "      <th>인터넷P/G</th>\n",
       "      <td>20.469553</td>\n",
       "      <td>17.110400</td>\n",
       "      <td>20.882590</td>\n",
       "      <td>20.668010</td>\n",
       "      <td>20.869447</td>\n",
       "    </tr>\n",
       "    <tr>\n",
       "      <th>인터넷Mall</th>\n",
       "      <td>20.883895</td>\n",
       "      <td>4.472360</td>\n",
       "      <td>14.060656</td>\n",
       "      <td>24.765205</td>\n",
       "      <td>35.817885</td>\n",
       "    </tr>\n",
       "    <tr>\n",
       "      <th>조세서비스(특약)</th>\n",
       "      <td>16.869030</td>\n",
       "      <td>10.448731</td>\n",
       "      <td>15.796108</td>\n",
       "      <td>30.250596</td>\n",
       "      <td>26.635535</td>\n",
       "    </tr>\n",
       "    <tr>\n",
       "      <th>일반한식</th>\n",
       "      <td>22.313810</td>\n",
       "      <td>15.559189</td>\n",
       "      <td>18.727155</td>\n",
       "      <td>20.530516</td>\n",
       "      <td>22.869330</td>\n",
       "    </tr>\n",
       "    <tr>\n",
       "      <th>손해 보험</th>\n",
       "      <td>13.463790</td>\n",
       "      <td>16.155019</td>\n",
       "      <td>23.445101</td>\n",
       "      <td>23.486860</td>\n",
       "      <td>23.449230</td>\n",
       "    </tr>\n",
       "    <tr>\n",
       "      <th>...</th>\n",
       "      <td>...</td>\n",
       "      <td>...</td>\n",
       "      <td>...</td>\n",
       "      <td>...</td>\n",
       "      <td>...</td>\n",
       "    </tr>\n",
       "    <tr>\n",
       "      <th>교육테이프</th>\n",
       "      <td>0.413168</td>\n",
       "      <td>1.683433</td>\n",
       "      <td>38.961872</td>\n",
       "      <td>38.505638</td>\n",
       "      <td>20.435889</td>\n",
       "    </tr>\n",
       "    <tr>\n",
       "      <th>기타회원제형태업소2</th>\n",
       "      <td>4.427135</td>\n",
       "      <td>12.659171</td>\n",
       "      <td>12.958878</td>\n",
       "      <td>36.071260</td>\n",
       "      <td>33.883556</td>\n",
       "    </tr>\n",
       "    <tr>\n",
       "      <th>전기차충전소</th>\n",
       "      <td>13.333123</td>\n",
       "      <td>16.433733</td>\n",
       "      <td>21.626744</td>\n",
       "      <td>24.728518</td>\n",
       "      <td>23.877882</td>\n",
       "    </tr>\n",
       "    <tr>\n",
       "      <th>통신판매(생활서비스)</th>\n",
       "      <td>8.429119</td>\n",
       "      <td>6.245211</td>\n",
       "      <td>20.957854</td>\n",
       "      <td>46.436782</td>\n",
       "      <td>17.931034</td>\n",
       "    </tr>\n",
       "    <tr>\n",
       "      <th>사업자미등록개인</th>\n",
       "      <td>11.596255</td>\n",
       "      <td>17.163612</td>\n",
       "      <td>16.316576</td>\n",
       "      <td>32.727559</td>\n",
       "      <td>22.195998</td>\n",
       "    </tr>\n",
       "  </tbody>\n",
       "</table>\n",
       "<p>252 rows × 5 columns</p>\n",
       "</div>"
      ],
      "text/plain": [
       "                 1월 매출      2월 매출      3월 매출      4월 매출      5월 매출\n",
       "cl_nm                                                             \n",
       "인터넷P/G       20.469553  17.110400  20.882590  20.668010  20.869447\n",
       "인터넷Mall      20.883895   4.472360  14.060656  24.765205  35.817885\n",
       "조세서비스(특약)    16.869030  10.448731  15.796108  30.250596  26.635535\n",
       "일반한식         22.313810  15.559189  18.727155  20.530516  22.869330\n",
       "손해 보험        13.463790  16.155019  23.445101  23.486860  23.449230\n",
       "...                ...        ...        ...        ...        ...\n",
       "교육테이프         0.413168   1.683433  38.961872  38.505638  20.435889\n",
       "기타회원제형태업소2    4.427135  12.659171  12.958878  36.071260  33.883556\n",
       "전기차충전소       13.333123  16.433733  21.626744  24.728518  23.877882\n",
       "통신판매(생활서비스)   8.429119   6.245211  20.957854  46.436782  17.931034\n",
       "사업자미등록개인     11.596255  17.163612  16.316576  32.727559  22.195998\n",
       "\n",
       "[252 rows x 5 columns]"
      ]
     },
     "execution_count": 97,
     "metadata": {},
     "output_type": "execute_result"
    }
   ],
   "source": [
    "card_amt_perc"
   ]
  },
  {
   "cell_type": "code",
   "execution_count": 95,
   "metadata": {},
   "outputs": [
    {
     "data": {
      "image/png": "[encoded data removed]",
      "text/plain": [
       "<Figure size 432x288 with 1 Axes>"
      ]
     },
     "metadata": {
      "needs_background": "light"
     },
     "output_type": "display_data"
    }
   ],
   "source": [
    "# KMeans clustering을 하기 전에 적절한 K를 찾아봅니다.\n",
    "\n",
    "from sklearn.cluster import KMeans\n",
    "distortions = []\n",
    "for i in range(1, 20):\n",
    "    km = KMeans(\n",
    "        n_clusters=i, init='random',\n",
    "        n_init=10, max_iter=300,\n",
    "        tol=1e-04, random_state=0\n",
    "    )\n",
    "    km.fit(card_amt_perc)\n",
    "    distortions.append(km.inertia_)\n",
    "\n",
    "# plot\n",
    "plt.plot(range(1, 20), distortions, marker='o')\n",
    "plt.xlabel('Number of clusters')\n",
    "plt.ylabel('Distortion')\n",
    "plt.show()"
   ]
  },
  {
   "cell_type": "code",
   "execution_count": 98,
   "metadata": {},
   "outputs": [
    {
     "data": {
      "text/html": [
       "<div>\n",
       "<style scoped>\n",
       "    .dataframe tbody tr th:only-of-type {\n",
       "        vertical-align: middle;\n",
       "    }\n",
       "\n",
       "    .dataframe tbody tr th {\n",
       "        vertical-align: top;\n",
       "    }\n",
       "\n",
       "    .dataframe thead th {\n",
       "        text-align: right;\n",
       "    }\n",
       "</style>\n",
       "<table border=\"1\" class=\"dataframe\">\n",
       "  <thead>\n",
       "    <tr style=\"text-align: right;\">\n",
       "      <th></th>\n",
       "      <th>adstrd_code</th>\n",
       "      <th>mrhst_induty_cl_code</th>\n",
       "      <th>selng_cascnt</th>\n",
       "      <th>salamt</th>\n",
       "      <th>year</th>\n",
       "      <th>month</th>\n",
       "      <th>day</th>\n",
       "    </tr>\n",
       "  </thead>\n",
       "  <tbody>\n",
       "    <tr>\n",
       "      <th>adstrd_code</th>\n",
       "      <td>1.000000</td>\n",
       "      <td>0.004113</td>\n",
       "      <td>0.000480</td>\n",
       "      <td>0.002959</td>\n",
       "      <td>NaN</td>\n",
       "      <td>-0.002323</td>\n",
       "      <td>-0.001021</td>\n",
       "    </tr>\n",
       "    <tr>\n",
       "      <th>mrhst_induty_cl_code</th>\n",
       "      <td>0.004113</td>\n",
       "      <td>1.000000</td>\n",
       "      <td>-0.003337</td>\n",
       "      <td>-0.002142</td>\n",
       "      <td>NaN</td>\n",
       "      <td>-0.014536</td>\n",
       "      <td>-0.001811</td>\n",
       "    </tr>\n",
       "    <tr>\n",
       "      <th>selng_cascnt</th>\n",
       "      <td>0.000480</td>\n",
       "      <td>-0.003337</td>\n",
       "      <td>1.000000</td>\n",
       "      <td>0.205127</td>\n",
       "      <td>NaN</td>\n",
       "      <td>-0.002442</td>\n",
       "      <td>0.000025</td>\n",
       "    </tr>\n",
       "    <tr>\n",
       "      <th>salamt</th>\n",
       "      <td>0.002959</td>\n",
       "      <td>-0.002142</td>\n",
       "      <td>0.205127</td>\n",
       "      <td>1.000000</td>\n",
       "      <td>NaN</td>\n",
       "      <td>-0.001912</td>\n",
       "      <td>0.001175</td>\n",
       "    </tr>\n",
       "    <tr>\n",
       "      <th>year</th>\n",
       "      <td>NaN</td>\n",
       "      <td>NaN</td>\n",
       "      <td>NaN</td>\n",
       "      <td>NaN</td>\n",
       "      <td>NaN</td>\n",
       "      <td>NaN</td>\n",
       "      <td>NaN</td>\n",
       "    </tr>\n",
       "    <tr>\n",
       "      <th>month</th>\n",
       "      <td>-0.002323</td>\n",
       "      <td>-0.014536</td>\n",
       "      <td>-0.002442</td>\n",
       "      <td>-0.001912</td>\n",
       "      <td>NaN</td>\n",
       "      <td>1.000000</td>\n",
       "      <td>-0.276353</td>\n",
       "    </tr>\n",
       "    <tr>\n",
       "      <th>day</th>\n",
       "      <td>-0.001021</td>\n",
       "      <td>-0.001811</td>\n",
       "      <td>0.000025</td>\n",
       "      <td>0.001175</td>\n",
       "      <td>NaN</td>\n",
       "      <td>-0.276353</td>\n",
       "      <td>1.000000</td>\n",
       "    </tr>\n",
       "  </tbody>\n",
       "</table>\n",
       "</div>"
      ],
      "text/plain": [
       "                      adstrd_code  mrhst_induty_cl_code  selng_cascnt  \\\n",
       "adstrd_code              1.000000              0.004113      0.000480   \n",
       "mrhst_induty_cl_code     0.004113              1.000000     -0.003337   \n",
       "selng_cascnt             0.000480             -0.003337      1.000000   \n",
       "salamt                   0.002959             -0.002142      0.205127   \n",
       "year                          NaN                   NaN           NaN   \n",
       "month                   -0.002323             -0.014536     -0.002442   \n",
       "day                     -0.001021             -0.001811      0.000025   \n",
       "\n",
       "                        salamt  year     month       day  \n",
       "adstrd_code           0.002959   NaN -0.002323 -0.001021  \n",
       "mrhst_induty_cl_code -0.002142   NaN -0.014536 -0.001811  \n",
       "selng_cascnt          0.205127   NaN -0.002442  0.000025  \n",
       "salamt                1.000000   NaN -0.001912  0.001175  \n",
       "year                       NaN   NaN       NaN       NaN  \n",
       "month                -0.001912   NaN  1.000000 -0.276353  \n",
       "day                   0.001175   NaN -0.276353  1.000000  "
      ]
     },
     "execution_count": 98,
     "metadata": {},
     "output_type": "execute_result"
    }
   ],
   "source": [
    "corr=card.corr()\n",
    "corr"
   ]
  },
  {
   "cell_type": "markdown",
   "metadata": {},
   "source": [
    "### 유동인구 데이터 변수\n",
    "\n",
    "tmzon_se_code: 24시간대 구분코드\n",
    "\n",
    "sexdstn_se_code: 성별 구분코드 (M: 남성, F: 여성)\n",
    "\n",
    "agrde_se_code: 5세단위 연령대구분코드 (단, age_00: 0세 ~ 9세, age_70: 70세 이상)\n",
    "\n",
    "popltn_cascnt: 인구수"
   ]
  },
  {
   "cell_type": "code",
   "execution_count": 99,
   "metadata": {},
   "outputs": [],
   "source": [
    "move=pd.read_csv('C:/jupyter_project/CORONA/fpopl.csv',dtype={'CODE':np.str})"
   ]
  },
  {
   "cell_type": "code",
   "execution_count": 100,
   "metadata": {
    "scrolled": false
   },
   "outputs": [
    {
     "data": {
      "text/html": [
       "<div>\n",
       "<style scoped>\n",
       "    .dataframe tbody tr th:only-of-type {\n",
       "        vertical-align: middle;\n",
       "    }\n",
       "\n",
       "    .dataframe tbody tr th {\n",
       "        vertical-align: top;\n",
       "    }\n",
       "\n",
       "    .dataframe thead th {\n",
       "        text-align: right;\n",
       "    }\n",
       "</style>\n",
       "<table border=\"1\" class=\"dataframe\">\n",
       "  <thead>\n",
       "    <tr style=\"text-align: right;\">\n",
       "      <th></th>\n",
       "      <th>base_ymd</th>\n",
       "      <th>tmzon_se_code</th>\n",
       "      <th>sexdstn_se_code</th>\n",
       "      <th>agrde_se_code</th>\n",
       "      <th>adstrd_code</th>\n",
       "      <th>popltn_cascnt</th>\n",
       "    </tr>\n",
       "  </thead>\n",
       "  <tbody>\n",
       "    <tr>\n",
       "      <th>0</th>\n",
       "      <td>20200101</td>\n",
       "      <td>0</td>\n",
       "      <td>M</td>\n",
       "      <td>age_00</td>\n",
       "      <td>11650560</td>\n",
       "      <td>15</td>\n",
       "    </tr>\n",
       "    <tr>\n",
       "      <th>1</th>\n",
       "      <td>20200101</td>\n",
       "      <td>0</td>\n",
       "      <td>M</td>\n",
       "      <td>age_00</td>\n",
       "      <td>11590620</td>\n",
       "      <td>6</td>\n",
       "    </tr>\n",
       "    <tr>\n",
       "      <th>2</th>\n",
       "      <td>20200101</td>\n",
       "      <td>0</td>\n",
       "      <td>M</td>\n",
       "      <td>age_00</td>\n",
       "      <td>11560710</td>\n",
       "      <td>4</td>\n",
       "    </tr>\n",
       "    <tr>\n",
       "      <th>3</th>\n",
       "      <td>20200101</td>\n",
       "      <td>0</td>\n",
       "      <td>M</td>\n",
       "      <td>age_00</td>\n",
       "      <td>11470680</td>\n",
       "      <td>12</td>\n",
       "    </tr>\n",
       "    <tr>\n",
       "      <th>4</th>\n",
       "      <td>20200101</td>\n",
       "      <td>0</td>\n",
       "      <td>M</td>\n",
       "      <td>age_00</td>\n",
       "      <td>11350665</td>\n",
       "      <td>6</td>\n",
       "    </tr>\n",
       "  </tbody>\n",
       "</table>\n",
       "</div>"
      ],
      "text/plain": [
       "   base_ymd  tmzon_se_code sexdstn_se_code agrde_se_code  adstrd_code  \\\n",
       "0  20200101              0               M        age_00     11650560   \n",
       "1  20200101              0               M        age_00     11590620   \n",
       "2  20200101              0               M        age_00     11560710   \n",
       "3  20200101              0               M        age_00     11470680   \n",
       "4  20200101              0               M        age_00     11350665   \n",
       "\n",
       "   popltn_cascnt  \n",
       "0             15  \n",
       "1              6  \n",
       "2              4  \n",
       "3             12  \n",
       "4              6  "
      ]
     },
     "execution_count": 100,
     "metadata": {},
     "output_type": "execute_result"
    }
   ],
   "source": [
    "move.head()"
   ]
  },
  {
   "cell_type": "code",
   "execution_count": 101,
   "metadata": {},
   "outputs": [
    {
     "name": "stdout",
     "output_type": "stream",
     "text": [
      "<class 'pandas.core.frame.DataFrame'>\n",
      "RangeIndex: 47546443 entries, 0 to 47546442\n",
      "Data columns (total 6 columns):\n",
      " #   Column           Dtype \n",
      "---  ------           ----- \n",
      " 0   base_ymd         int64 \n",
      " 1   tmzon_se_code    int64 \n",
      " 2   sexdstn_se_code  object\n",
      " 3   agrde_se_code    object\n",
      " 4   adstrd_code      int64 \n",
      " 5   popltn_cascnt    int64 \n",
      "dtypes: int64(4), object(2)\n",
      "memory usage: 2.1+ GB\n"
     ]
    }
   ],
   "source": [
    "move.info()"
   ]
  },
  {
   "cell_type": "code",
   "execution_count": 102,
   "metadata": {},
   "outputs": [
    {
     "name": "stdout",
     "output_type": "stream",
     "text": [
      "0          2020-01-01 00:00:00+00:00\n",
      "1          2020-01-01 00:00:00+00:00\n",
      "2          2020-01-01 00:00:00+00:00\n",
      "3          2020-01-01 00:00:00+00:00\n",
      "4          2020-01-01 00:00:00+00:00\n",
      "                      ...           \n",
      "47546438   2020-06-16 00:00:00+00:00\n",
      "47546439   2020-06-16 00:00:00+00:00\n",
      "47546440   2020-06-16 00:00:00+00:00\n",
      "47546441   2020-06-16 00:00:00+00:00\n",
      "47546442   2020-06-16 00:00:00+00:00\n",
      "Name: receipt_dttm, Length: 47546443, dtype: datetime64[ns, UTC]\n"
     ]
    }
   ],
   "source": [
    "move['receipt_dttm'] = move['base_ymd'].astype(str)\n",
    "move['receipt_dttm'] = pd.to_datetime(move['receipt_dttm'])\n",
    "move['receipt_dttm'] = move['receipt_dttm'].dt.tz_localize('UTC')\n",
    "print(move['receipt_dttm'])"
   ]
  },
  {
   "cell_type": "code",
   "execution_count": 103,
   "metadata": {},
   "outputs": [],
   "source": [
    "move[\"month\"] = move['receipt_dttm'].dt.month\n",
    "move[\"day\"] = move['receipt_dttm'].dt.day\n",
    "move['weekday'] = move['receipt_dttm'].dt.weekday"
   ]
  },
  {
   "cell_type": "code",
   "execution_count": 104,
   "metadata": {},
   "outputs": [
    {
     "data": {
      "text/html": [
       "<div>\n",
       "<style scoped>\n",
       "    .dataframe tbody tr th:only-of-type {\n",
       "        vertical-align: middle;\n",
       "    }\n",
       "\n",
       "    .dataframe tbody tr th {\n",
       "        vertical-align: top;\n",
       "    }\n",
       "\n",
       "    .dataframe thead th {\n",
       "        text-align: right;\n",
       "    }\n",
       "</style>\n",
       "<table border=\"1\" class=\"dataframe\">\n",
       "  <thead>\n",
       "    <tr style=\"text-align: right;\">\n",
       "      <th></th>\n",
       "      <th>base_ymd</th>\n",
       "      <th>tmzon_se_code</th>\n",
       "      <th>sexdstn_se_code</th>\n",
       "      <th>agrde_se_code</th>\n",
       "      <th>adstrd_code</th>\n",
       "      <th>popltn_cascnt</th>\n",
       "      <th>receipt_dttm</th>\n",
       "      <th>month</th>\n",
       "      <th>day</th>\n",
       "      <th>weekday</th>\n",
       "    </tr>\n",
       "  </thead>\n",
       "  <tbody>\n",
       "    <tr>\n",
       "      <th>0</th>\n",
       "      <td>20200101</td>\n",
       "      <td>0</td>\n",
       "      <td>M</td>\n",
       "      <td>age_00</td>\n",
       "      <td>11650560</td>\n",
       "      <td>15</td>\n",
       "      <td>2020-01-01 00:00:00+00:00</td>\n",
       "      <td>1</td>\n",
       "      <td>1</td>\n",
       "      <td>2</td>\n",
       "    </tr>\n",
       "    <tr>\n",
       "      <th>1</th>\n",
       "      <td>20200101</td>\n",
       "      <td>0</td>\n",
       "      <td>M</td>\n",
       "      <td>age_00</td>\n",
       "      <td>11590620</td>\n",
       "      <td>6</td>\n",
       "      <td>2020-01-01 00:00:00+00:00</td>\n",
       "      <td>1</td>\n",
       "      <td>1</td>\n",
       "      <td>2</td>\n",
       "    </tr>\n",
       "    <tr>\n",
       "      <th>2</th>\n",
       "      <td>20200101</td>\n",
       "      <td>0</td>\n",
       "      <td>M</td>\n",
       "      <td>age_00</td>\n",
       "      <td>11560710</td>\n",
       "      <td>4</td>\n",
       "      <td>2020-01-01 00:00:00+00:00</td>\n",
       "      <td>1</td>\n",
       "      <td>1</td>\n",
       "      <td>2</td>\n",
       "    </tr>\n",
       "    <tr>\n",
       "      <th>3</th>\n",
       "      <td>20200101</td>\n",
       "      <td>0</td>\n",
       "      <td>M</td>\n",
       "      <td>age_00</td>\n",
       "      <td>11470680</td>\n",
       "      <td>12</td>\n",
       "      <td>2020-01-01 00:00:00+00:00</td>\n",
       "      <td>1</td>\n",
       "      <td>1</td>\n",
       "      <td>2</td>\n",
       "    </tr>\n",
       "    <tr>\n",
       "      <th>4</th>\n",
       "      <td>20200101</td>\n",
       "      <td>0</td>\n",
       "      <td>M</td>\n",
       "      <td>age_00</td>\n",
       "      <td>11350665</td>\n",
       "      <td>6</td>\n",
       "      <td>2020-01-01 00:00:00+00:00</td>\n",
       "      <td>1</td>\n",
       "      <td>1</td>\n",
       "      <td>2</td>\n",
       "    </tr>\n",
       "  </tbody>\n",
       "</table>\n",
       "</div>"
      ],
      "text/plain": [
       "   base_ymd  tmzon_se_code sexdstn_se_code agrde_se_code  adstrd_code  \\\n",
       "0  20200101              0               M        age_00     11650560   \n",
       "1  20200101              0               M        age_00     11590620   \n",
       "2  20200101              0               M        age_00     11560710   \n",
       "3  20200101              0               M        age_00     11470680   \n",
       "4  20200101              0               M        age_00     11350665   \n",
       "\n",
       "   popltn_cascnt              receipt_dttm  month  day  weekday  \n",
       "0             15 2020-01-01 00:00:00+00:00      1    1        2  \n",
       "1              6 2020-01-01 00:00:00+00:00      1    1        2  \n",
       "2              4 2020-01-01 00:00:00+00:00      1    1        2  \n",
       "3             12 2020-01-01 00:00:00+00:00      1    1        2  \n",
       "4              6 2020-01-01 00:00:00+00:00      1    1        2  "
      ]
     },
     "execution_count": 104,
     "metadata": {},
     "output_type": "execute_result"
    }
   ],
   "source": [
    "move.head()"
   ]
  },
  {
   "cell_type": "code",
   "execution_count": 105,
   "metadata": {},
   "outputs": [],
   "source": [
    "move= move.sort_values(by=['receipt_dttm'])"
   ]
  },
  {
   "cell_type": "code",
   "execution_count": 106,
   "metadata": {},
   "outputs": [],
   "source": [
    "move=pd.merge(move, local, on='adstrd_code')"
   ]
  },
  {
   "cell_type": "code",
   "execution_count": 107,
   "metadata": {},
   "outputs": [
    {
     "data": {
      "text/html": [
       "<div>\n",
       "<style scoped>\n",
       "    .dataframe tbody tr th:only-of-type {\n",
       "        vertical-align: middle;\n",
       "    }\n",
       "\n",
       "    .dataframe tbody tr th {\n",
       "        vertical-align: top;\n",
       "    }\n",
       "\n",
       "    .dataframe thead th {\n",
       "        text-align: right;\n",
       "    }\n",
       "</style>\n",
       "<table border=\"1\" class=\"dataframe\">\n",
       "  <thead>\n",
       "    <tr style=\"text-align: right;\">\n",
       "      <th></th>\n",
       "      <th>base_ymd</th>\n",
       "      <th>tmzon_se_code</th>\n",
       "      <th>sexdstn_se_code</th>\n",
       "      <th>agrde_se_code</th>\n",
       "      <th>adstrd_code</th>\n",
       "      <th>popltn_cascnt</th>\n",
       "      <th>receipt_dttm</th>\n",
       "      <th>month</th>\n",
       "      <th>day</th>\n",
       "      <th>weekday</th>\n",
       "      <th>adstrd_nm</th>\n",
       "      <th>brtc_nm</th>\n",
       "      <th>signgu_nm</th>\n",
       "    </tr>\n",
       "  </thead>\n",
       "  <tbody>\n",
       "    <tr>\n",
       "      <th>0</th>\n",
       "      <td>20200101</td>\n",
       "      <td>0</td>\n",
       "      <td>M</td>\n",
       "      <td>age_00</td>\n",
       "      <td>11650560</td>\n",
       "      <td>15</td>\n",
       "      <td>2020-01-01 00:00:00+00:00</td>\n",
       "      <td>1</td>\n",
       "      <td>1</td>\n",
       "      <td>2</td>\n",
       "      <td>반포1동</td>\n",
       "      <td>서울특별시</td>\n",
       "      <td>서초구</td>\n",
       "    </tr>\n",
       "    <tr>\n",
       "      <th>1</th>\n",
       "      <td>20200101</td>\n",
       "      <td>16</td>\n",
       "      <td>F</td>\n",
       "      <td>age_00</td>\n",
       "      <td>11650560</td>\n",
       "      <td>54</td>\n",
       "      <td>2020-01-01 00:00:00+00:00</td>\n",
       "      <td>1</td>\n",
       "      <td>1</td>\n",
       "      <td>2</td>\n",
       "      <td>반포1동</td>\n",
       "      <td>서울특별시</td>\n",
       "      <td>서초구</td>\n",
       "    </tr>\n",
       "    <tr>\n",
       "      <th>2</th>\n",
       "      <td>20200101</td>\n",
       "      <td>16</td>\n",
       "      <td>M</td>\n",
       "      <td>age_00</td>\n",
       "      <td>11650560</td>\n",
       "      <td>24</td>\n",
       "      <td>2020-01-01 00:00:00+00:00</td>\n",
       "      <td>1</td>\n",
       "      <td>1</td>\n",
       "      <td>2</td>\n",
       "      <td>반포1동</td>\n",
       "      <td>서울특별시</td>\n",
       "      <td>서초구</td>\n",
       "    </tr>\n",
       "    <tr>\n",
       "      <th>3</th>\n",
       "      <td>20200101</td>\n",
       "      <td>16</td>\n",
       "      <td>M</td>\n",
       "      <td>age_10</td>\n",
       "      <td>11650560</td>\n",
       "      <td>150</td>\n",
       "      <td>2020-01-01 00:00:00+00:00</td>\n",
       "      <td>1</td>\n",
       "      <td>1</td>\n",
       "      <td>2</td>\n",
       "      <td>반포1동</td>\n",
       "      <td>서울특별시</td>\n",
       "      <td>서초구</td>\n",
       "    </tr>\n",
       "    <tr>\n",
       "      <th>4</th>\n",
       "      <td>20200101</td>\n",
       "      <td>16</td>\n",
       "      <td>F</td>\n",
       "      <td>age_10</td>\n",
       "      <td>11650560</td>\n",
       "      <td>171</td>\n",
       "      <td>2020-01-01 00:00:00+00:00</td>\n",
       "      <td>1</td>\n",
       "      <td>1</td>\n",
       "      <td>2</td>\n",
       "      <td>반포1동</td>\n",
       "      <td>서울특별시</td>\n",
       "      <td>서초구</td>\n",
       "    </tr>\n",
       "  </tbody>\n",
       "</table>\n",
       "</div>"
      ],
      "text/plain": [
       "   base_ymd  tmzon_se_code sexdstn_se_code agrde_se_code  adstrd_code  \\\n",
       "0  20200101              0               M        age_00     11650560   \n",
       "1  20200101             16               F        age_00     11650560   \n",
       "2  20200101             16               M        age_00     11650560   \n",
       "3  20200101             16               M        age_10     11650560   \n",
       "4  20200101             16               F        age_10     11650560   \n",
       "\n",
       "   popltn_cascnt              receipt_dttm  month  day  weekday adstrd_nm  \\\n",
       "0             15 2020-01-01 00:00:00+00:00      1    1        2      반포1동   \n",
       "1             54 2020-01-01 00:00:00+00:00      1    1        2      반포1동   \n",
       "2             24 2020-01-01 00:00:00+00:00      1    1        2      반포1동   \n",
       "3            150 2020-01-01 00:00:00+00:00      1    1        2      반포1동   \n",
       "4            171 2020-01-01 00:00:00+00:00      1    1        2      반포1동   \n",
       "\n",
       "  brtc_nm signgu_nm  \n",
       "0   서울특별시       서초구  \n",
       "1   서울특별시       서초구  \n",
       "2   서울특별시       서초구  \n",
       "3   서울특별시       서초구  \n",
       "4   서울특별시       서초구  "
      ]
     },
     "execution_count": 107,
     "metadata": {},
     "output_type": "execute_result"
    }
   ],
   "source": [
    "move.head()"
   ]
  },
  {
   "cell_type": "code",
   "execution_count": 108,
   "metadata": {},
   "outputs": [],
   "source": [
    "move = move.drop('base_ymd',axis=1)"
   ]
  },
  {
   "cell_type": "code",
   "execution_count": 109,
   "metadata": {},
   "outputs": [],
   "source": [
    "move = move.drop('brtc_nm',axis=1)"
   ]
  },
  {
   "cell_type": "code",
   "execution_count": 110,
   "metadata": {},
   "outputs": [
    {
     "data": {
      "text/html": [
       "<div>\n",
       "<style scoped>\n",
       "    .dataframe tbody tr th:only-of-type {\n",
       "        vertical-align: middle;\n",
       "    }\n",
       "\n",
       "    .dataframe tbody tr th {\n",
       "        vertical-align: top;\n",
       "    }\n",
       "\n",
       "    .dataframe thead th {\n",
       "        text-align: right;\n",
       "    }\n",
       "</style>\n",
       "<table border=\"1\" class=\"dataframe\">\n",
       "  <thead>\n",
       "    <tr style=\"text-align: right;\">\n",
       "      <th></th>\n",
       "      <th>tmzon_se_code</th>\n",
       "      <th>sexdstn_se_code</th>\n",
       "      <th>agrde_se_code</th>\n",
       "      <th>adstrd_code</th>\n",
       "      <th>popltn_cascnt</th>\n",
       "      <th>month</th>\n",
       "      <th>day</th>\n",
       "      <th>weekday</th>\n",
       "      <th>adstrd_nm</th>\n",
       "      <th>signgu_nm</th>\n",
       "    </tr>\n",
       "    <tr>\n",
       "      <th>receipt_dttm</th>\n",
       "      <th></th>\n",
       "      <th></th>\n",
       "      <th></th>\n",
       "      <th></th>\n",
       "      <th></th>\n",
       "      <th></th>\n",
       "      <th></th>\n",
       "      <th></th>\n",
       "      <th></th>\n",
       "      <th></th>\n",
       "    </tr>\n",
       "  </thead>\n",
       "  <tbody>\n",
       "    <tr>\n",
       "      <th>2020-01-01 00:00:00+00:00</th>\n",
       "      <td>0</td>\n",
       "      <td>M</td>\n",
       "      <td>age_00</td>\n",
       "      <td>11650560</td>\n",
       "      <td>15</td>\n",
       "      <td>1</td>\n",
       "      <td>1</td>\n",
       "      <td>2</td>\n",
       "      <td>반포1동</td>\n",
       "      <td>서초구</td>\n",
       "    </tr>\n",
       "    <tr>\n",
       "      <th>2020-01-01 00:00:00+00:00</th>\n",
       "      <td>16</td>\n",
       "      <td>F</td>\n",
       "      <td>age_00</td>\n",
       "      <td>11650560</td>\n",
       "      <td>54</td>\n",
       "      <td>1</td>\n",
       "      <td>1</td>\n",
       "      <td>2</td>\n",
       "      <td>반포1동</td>\n",
       "      <td>서초구</td>\n",
       "    </tr>\n",
       "    <tr>\n",
       "      <th>2020-01-01 00:00:00+00:00</th>\n",
       "      <td>16</td>\n",
       "      <td>M</td>\n",
       "      <td>age_00</td>\n",
       "      <td>11650560</td>\n",
       "      <td>24</td>\n",
       "      <td>1</td>\n",
       "      <td>1</td>\n",
       "      <td>2</td>\n",
       "      <td>반포1동</td>\n",
       "      <td>서초구</td>\n",
       "    </tr>\n",
       "    <tr>\n",
       "      <th>2020-01-01 00:00:00+00:00</th>\n",
       "      <td>16</td>\n",
       "      <td>M</td>\n",
       "      <td>age_10</td>\n",
       "      <td>11650560</td>\n",
       "      <td>150</td>\n",
       "      <td>1</td>\n",
       "      <td>1</td>\n",
       "      <td>2</td>\n",
       "      <td>반포1동</td>\n",
       "      <td>서초구</td>\n",
       "    </tr>\n",
       "    <tr>\n",
       "      <th>2020-01-01 00:00:00+00:00</th>\n",
       "      <td>16</td>\n",
       "      <td>F</td>\n",
       "      <td>age_10</td>\n",
       "      <td>11650560</td>\n",
       "      <td>171</td>\n",
       "      <td>1</td>\n",
       "      <td>1</td>\n",
       "      <td>2</td>\n",
       "      <td>반포1동</td>\n",
       "      <td>서초구</td>\n",
       "    </tr>\n",
       "    <tr>\n",
       "      <th>...</th>\n",
       "      <td>...</td>\n",
       "      <td>...</td>\n",
       "      <td>...</td>\n",
       "      <td>...</td>\n",
       "      <td>...</td>\n",
       "      <td>...</td>\n",
       "      <td>...</td>\n",
       "      <td>...</td>\n",
       "      <td>...</td>\n",
       "      <td>...</td>\n",
       "    </tr>\n",
       "    <tr>\n",
       "      <th>2020-06-16 00:00:00+00:00</th>\n",
       "      <td>8</td>\n",
       "      <td>M</td>\n",
       "      <td>age_00</td>\n",
       "      <td>11530800</td>\n",
       "      <td>7</td>\n",
       "      <td>6</td>\n",
       "      <td>16</td>\n",
       "      <td>1</td>\n",
       "      <td>항동</td>\n",
       "      <td>구로구</td>\n",
       "    </tr>\n",
       "    <tr>\n",
       "      <th>2020-06-16 00:00:00+00:00</th>\n",
       "      <td>8</td>\n",
       "      <td>F</td>\n",
       "      <td>age_00</td>\n",
       "      <td>11530800</td>\n",
       "      <td>12</td>\n",
       "      <td>6</td>\n",
       "      <td>16</td>\n",
       "      <td>1</td>\n",
       "      <td>항동</td>\n",
       "      <td>구로구</td>\n",
       "    </tr>\n",
       "    <tr>\n",
       "      <th>2020-06-16 00:00:00+00:00</th>\n",
       "      <td>8</td>\n",
       "      <td>F</td>\n",
       "      <td>age_10</td>\n",
       "      <td>11530800</td>\n",
       "      <td>18</td>\n",
       "      <td>6</td>\n",
       "      <td>16</td>\n",
       "      <td>1</td>\n",
       "      <td>항동</td>\n",
       "      <td>구로구</td>\n",
       "    </tr>\n",
       "    <tr>\n",
       "      <th>2020-06-16 00:00:00+00:00</th>\n",
       "      <td>8</td>\n",
       "      <td>F</td>\n",
       "      <td>age_15</td>\n",
       "      <td>11530800</td>\n",
       "      <td>11</td>\n",
       "      <td>6</td>\n",
       "      <td>16</td>\n",
       "      <td>1</td>\n",
       "      <td>항동</td>\n",
       "      <td>구로구</td>\n",
       "    </tr>\n",
       "    <tr>\n",
       "      <th>2020-06-16 00:00:00+00:00</th>\n",
       "      <td>8</td>\n",
       "      <td>M</td>\n",
       "      <td>age_10</td>\n",
       "      <td>11530800</td>\n",
       "      <td>11</td>\n",
       "      <td>6</td>\n",
       "      <td>16</td>\n",
       "      <td>1</td>\n",
       "      <td>항동</td>\n",
       "      <td>구로구</td>\n",
       "    </tr>\n",
       "  </tbody>\n",
       "</table>\n",
       "<p>47546443 rows × 10 columns</p>\n",
       "</div>"
      ],
      "text/plain": [
       "                           tmzon_se_code sexdstn_se_code agrde_se_code  \\\n",
       "receipt_dttm                                                             \n",
       "2020-01-01 00:00:00+00:00              0               M        age_00   \n",
       "2020-01-01 00:00:00+00:00             16               F        age_00   \n",
       "2020-01-01 00:00:00+00:00             16               M        age_00   \n",
       "2020-01-01 00:00:00+00:00             16               M        age_10   \n",
       "2020-01-01 00:00:00+00:00             16               F        age_10   \n",
       "...                                  ...             ...           ...   \n",
       "2020-06-16 00:00:00+00:00              8               M        age_00   \n",
       "2020-06-16 00:00:00+00:00              8               F        age_00   \n",
       "2020-06-16 00:00:00+00:00              8               F        age_10   \n",
       "2020-06-16 00:00:00+00:00              8               F        age_15   \n",
       "2020-06-16 00:00:00+00:00              8               M        age_10   \n",
       "\n",
       "                           adstrd_code  popltn_cascnt  month  day  weekday  \\\n",
       "receipt_dttm                                                                 \n",
       "2020-01-01 00:00:00+00:00     11650560             15      1    1        2   \n",
       "2020-01-01 00:00:00+00:00     11650560             54      1    1        2   \n",
       "2020-01-01 00:00:00+00:00     11650560             24      1    1        2   \n",
       "2020-01-01 00:00:00+00:00     11650560            150      1    1        2   \n",
       "2020-01-01 00:00:00+00:00     11650560            171      1    1        2   \n",
       "...                                ...            ...    ...  ...      ...   \n",
       "2020-06-16 00:00:00+00:00     11530800              7      6   16        1   \n",
       "2020-06-16 00:00:00+00:00     11530800             12      6   16        1   \n",
       "2020-06-16 00:00:00+00:00     11530800             18      6   16        1   \n",
       "2020-06-16 00:00:00+00:00     11530800             11      6   16        1   \n",
       "2020-06-16 00:00:00+00:00     11530800             11      6   16        1   \n",
       "\n",
       "                          adstrd_nm signgu_nm  \n",
       "receipt_dttm                                   \n",
       "2020-01-01 00:00:00+00:00      반포1동       서초구  \n",
       "2020-01-01 00:00:00+00:00      반포1동       서초구  \n",
       "2020-01-01 00:00:00+00:00      반포1동       서초구  \n",
       "2020-01-01 00:00:00+00:00      반포1동       서초구  \n",
       "2020-01-01 00:00:00+00:00      반포1동       서초구  \n",
       "...                             ...       ...  \n",
       "2020-06-16 00:00:00+00:00        항동       구로구  \n",
       "2020-06-16 00:00:00+00:00        항동       구로구  \n",
       "2020-06-16 00:00:00+00:00        항동       구로구  \n",
       "2020-06-16 00:00:00+00:00        항동       구로구  \n",
       "2020-06-16 00:00:00+00:00        항동       구로구  \n",
       "\n",
       "[47546443 rows x 10 columns]"
      ]
     },
     "execution_count": 110,
     "metadata": {},
     "output_type": "execute_result"
    }
   ],
   "source": [
    "move = move.set_index(\"receipt_dttm\")\n",
    "move"
   ]
  },
  {
   "cell_type": "code",
   "execution_count": 111,
   "metadata": {},
   "outputs": [
    {
     "data": {
      "text/html": [
       "<div>\n",
       "<style scoped>\n",
       "    .dataframe tbody tr th:only-of-type {\n",
       "        vertical-align: middle;\n",
       "    }\n",
       "\n",
       "    .dataframe tbody tr th {\n",
       "        vertical-align: top;\n",
       "    }\n",
       "\n",
       "    .dataframe thead th {\n",
       "        text-align: right;\n",
       "    }\n",
       "</style>\n",
       "<table border=\"1\" class=\"dataframe\">\n",
       "  <thead>\n",
       "    <tr style=\"text-align: right;\">\n",
       "      <th></th>\n",
       "      <th>tmzon_se_code</th>\n",
       "      <th>sexdstn_se_code</th>\n",
       "      <th>agrde_se_code</th>\n",
       "      <th>adstrd_code</th>\n",
       "      <th>popltn_cascnt</th>\n",
       "      <th>month</th>\n",
       "      <th>day</th>\n",
       "      <th>weekday</th>\n",
       "      <th>adstrd_nm</th>\n",
       "      <th>signgu_nm</th>\n",
       "    </tr>\n",
       "    <tr>\n",
       "      <th>receipt_dttm</th>\n",
       "      <th></th>\n",
       "      <th></th>\n",
       "      <th></th>\n",
       "      <th></th>\n",
       "      <th></th>\n",
       "      <th></th>\n",
       "      <th></th>\n",
       "      <th></th>\n",
       "      <th></th>\n",
       "      <th></th>\n",
       "    </tr>\n",
       "  </thead>\n",
       "  <tbody>\n",
       "    <tr>\n",
       "      <th>2020-01-01 00:00:00+00:00</th>\n",
       "      <td>0</td>\n",
       "      <td>M</td>\n",
       "      <td>age_00</td>\n",
       "      <td>11650560</td>\n",
       "      <td>15</td>\n",
       "      <td>1</td>\n",
       "      <td>1</td>\n",
       "      <td>2</td>\n",
       "      <td>반포1동</td>\n",
       "      <td>서초구</td>\n",
       "    </tr>\n",
       "    <tr>\n",
       "      <th>2020-01-01 00:00:00+00:00</th>\n",
       "      <td>16</td>\n",
       "      <td>F</td>\n",
       "      <td>age_00</td>\n",
       "      <td>11650560</td>\n",
       "      <td>54</td>\n",
       "      <td>1</td>\n",
       "      <td>1</td>\n",
       "      <td>2</td>\n",
       "      <td>반포1동</td>\n",
       "      <td>서초구</td>\n",
       "    </tr>\n",
       "    <tr>\n",
       "      <th>2020-01-01 00:00:00+00:00</th>\n",
       "      <td>16</td>\n",
       "      <td>M</td>\n",
       "      <td>age_00</td>\n",
       "      <td>11650560</td>\n",
       "      <td>24</td>\n",
       "      <td>1</td>\n",
       "      <td>1</td>\n",
       "      <td>2</td>\n",
       "      <td>반포1동</td>\n",
       "      <td>서초구</td>\n",
       "    </tr>\n",
       "    <tr>\n",
       "      <th>2020-01-01 00:00:00+00:00</th>\n",
       "      <td>16</td>\n",
       "      <td>M</td>\n",
       "      <td>age_10</td>\n",
       "      <td>11650560</td>\n",
       "      <td>150</td>\n",
       "      <td>1</td>\n",
       "      <td>1</td>\n",
       "      <td>2</td>\n",
       "      <td>반포1동</td>\n",
       "      <td>서초구</td>\n",
       "    </tr>\n",
       "    <tr>\n",
       "      <th>2020-01-01 00:00:00+00:00</th>\n",
       "      <td>16</td>\n",
       "      <td>F</td>\n",
       "      <td>age_10</td>\n",
       "      <td>11650560</td>\n",
       "      <td>171</td>\n",
       "      <td>1</td>\n",
       "      <td>1</td>\n",
       "      <td>2</td>\n",
       "      <td>반포1동</td>\n",
       "      <td>서초구</td>\n",
       "    </tr>\n",
       "  </tbody>\n",
       "</table>\n",
       "</div>"
      ],
      "text/plain": [
       "                           tmzon_se_code sexdstn_se_code agrde_se_code  \\\n",
       "receipt_dttm                                                             \n",
       "2020-01-01 00:00:00+00:00              0               M        age_00   \n",
       "2020-01-01 00:00:00+00:00             16               F        age_00   \n",
       "2020-01-01 00:00:00+00:00             16               M        age_00   \n",
       "2020-01-01 00:00:00+00:00             16               M        age_10   \n",
       "2020-01-01 00:00:00+00:00             16               F        age_10   \n",
       "\n",
       "                           adstrd_code  popltn_cascnt  month  day  weekday  \\\n",
       "receipt_dttm                                                                 \n",
       "2020-01-01 00:00:00+00:00     11650560             15      1    1        2   \n",
       "2020-01-01 00:00:00+00:00     11650560             54      1    1        2   \n",
       "2020-01-01 00:00:00+00:00     11650560             24      1    1        2   \n",
       "2020-01-01 00:00:00+00:00     11650560            150      1    1        2   \n",
       "2020-01-01 00:00:00+00:00     11650560            171      1    1        2   \n",
       "\n",
       "                          adstrd_nm signgu_nm  \n",
       "receipt_dttm                                   \n",
       "2020-01-01 00:00:00+00:00      반포1동       서초구  \n",
       "2020-01-01 00:00:00+00:00      반포1동       서초구  \n",
       "2020-01-01 00:00:00+00:00      반포1동       서초구  \n",
       "2020-01-01 00:00:00+00:00      반포1동       서초구  \n",
       "2020-01-01 00:00:00+00:00      반포1동       서초구  "
      ]
     },
     "execution_count": 111,
     "metadata": {},
     "output_type": "execute_result"
    }
   ],
   "source": [
    "move.head()"
   ]
  },
  {
   "cell_type": "code",
   "execution_count": 112,
   "metadata": {},
   "outputs": [],
   "source": [
    "total = move.isnull().sum()\n",
    "percent = (move.isnull().sum() / move.isnull().count()*100)"
   ]
  },
  {
   "cell_type": "code",
   "execution_count": 113,
   "metadata": {},
   "outputs": [
    {
     "data": {
      "text/html": [
       "<div>\n",
       "<style scoped>\n",
       "    .dataframe tbody tr th:only-of-type {\n",
       "        vertical-align: middle;\n",
       "    }\n",
       "\n",
       "    .dataframe tbody tr th {\n",
       "        vertical-align: top;\n",
       "    }\n",
       "\n",
       "    .dataframe thead th {\n",
       "        text-align: right;\n",
       "    }\n",
       "</style>\n",
       "<table border=\"1\" class=\"dataframe\">\n",
       "  <thead>\n",
       "    <tr style=\"text-align: right;\">\n",
       "      <th></th>\n",
       "      <th>Total</th>\n",
       "      <th>Percent</th>\n",
       "    </tr>\n",
       "  </thead>\n",
       "  <tbody>\n",
       "    <tr>\n",
       "      <th>tmzon_se_code</th>\n",
       "      <td>0</td>\n",
       "      <td>0.0</td>\n",
       "    </tr>\n",
       "    <tr>\n",
       "      <th>sexdstn_se_code</th>\n",
       "      <td>0</td>\n",
       "      <td>0.0</td>\n",
       "    </tr>\n",
       "    <tr>\n",
       "      <th>agrde_se_code</th>\n",
       "      <td>0</td>\n",
       "      <td>0.0</td>\n",
       "    </tr>\n",
       "    <tr>\n",
       "      <th>adstrd_code</th>\n",
       "      <td>0</td>\n",
       "      <td>0.0</td>\n",
       "    </tr>\n",
       "    <tr>\n",
       "      <th>popltn_cascnt</th>\n",
       "      <td>0</td>\n",
       "      <td>0.0</td>\n",
       "    </tr>\n",
       "    <tr>\n",
       "      <th>month</th>\n",
       "      <td>0</td>\n",
       "      <td>0.0</td>\n",
       "    </tr>\n",
       "    <tr>\n",
       "      <th>day</th>\n",
       "      <td>0</td>\n",
       "      <td>0.0</td>\n",
       "    </tr>\n",
       "    <tr>\n",
       "      <th>weekday</th>\n",
       "      <td>0</td>\n",
       "      <td>0.0</td>\n",
       "    </tr>\n",
       "    <tr>\n",
       "      <th>adstrd_nm</th>\n",
       "      <td>0</td>\n",
       "      <td>0.0</td>\n",
       "    </tr>\n",
       "    <tr>\n",
       "      <th>signgu_nm</th>\n",
       "      <td>0</td>\n",
       "      <td>0.0</td>\n",
       "    </tr>\n",
       "  </tbody>\n",
       "</table>\n",
       "</div>"
      ],
      "text/plain": [
       "                 Total  Percent\n",
       "tmzon_se_code        0      0.0\n",
       "sexdstn_se_code      0      0.0\n",
       "agrde_se_code        0      0.0\n",
       "adstrd_code          0      0.0\n",
       "popltn_cascnt        0      0.0\n",
       "month                0      0.0\n",
       "day                  0      0.0\n",
       "weekday              0      0.0\n",
       "adstrd_nm            0      0.0\n",
       "signgu_nm            0      0.0"
      ]
     },
     "execution_count": 113,
     "metadata": {},
     "output_type": "execute_result"
    }
   ],
   "source": [
    "pd.concat([total, percent], axis=1, keys=['Total', 'Percent']).sort_values(by='Percent', ascending=False).head(30)"
   ]
  },
  {
   "cell_type": "code",
   "execution_count": 114,
   "metadata": {},
   "outputs": [
    {
     "data": {
      "image/png": "[encoded data removed]",
      "text/plain": [
       "<Figure size 864x720 with 3 Axes>"
      ]
     },
     "metadata": {
      "needs_background": "light"
     },
     "output_type": "display_data"
    }
   ],
   "source": [
    "#month와 유동인구\n",
    "fig = plt.figure(figsize=[12,10])\n",
    "ax1 = fig.add_subplot(2,2,1)\n",
    "ax1 = sns.barplot(x='month',y='popltn_cascnt',data=move.groupby('month')['popltn_cascnt'].mean().reset_index())\n",
    "\n",
    "#일별와 유동인구\n",
    "ax2 = fig.add_subplot(2,2,2)\n",
    "ax2 = sns.barplot(x='day',y='popltn_cascnt',data=move.groupby('day')['popltn_cascnt'].mean().reset_index())\n",
    "\n",
    "#휴일별와 유동인구\n",
    "ax3 = fig.add_subplot(2,2,3)\n",
    "ax3 = sns.barplot(x='weekday',y='popltn_cascnt',data=move.groupby('weekday')['popltn_cascnt'].mean().reset_index())\n"
   ]
  },
  {
   "cell_type": "code",
   "execution_count": 115,
   "metadata": {},
   "outputs": [
    {
     "name": "stdout",
     "output_type": "stream",
     "text": [
      "tmzon_se_code [ 0 16 15 17 18 13 12 14 21 22 23 19 20  4  3  5  6  1  2 10  9 11  7  8]\n",
      "sexdstn_se_code ['M' 'F']\n",
      "agrde_se_code ['age_00' 'age_10' 'age_60' 'age_65' 'age_70' 'age_30' 'age_35' 'age_40'\n",
      " 'age_20' 'age_15' 'age_25' 'age_50' 'age_45' 'age_55']\n",
      "weekday [2 3 4 5 6 0 1]\n"
     ]
    }
   ],
   "source": [
    "print('tmzon_se_code', move['tmzon_se_code'].unique())\n",
    "print('sexdstn_se_code', move['sexdstn_se_code'].unique())\n",
    "print('agrde_se_code', move['agrde_se_code'].unique())\n",
    "print('weekday', move['weekday'].unique())"
   ]
  },
  {
   "cell_type": "code",
   "execution_count": 116,
   "metadata": {},
   "outputs": [],
   "source": [
    "move['weekday']= move.weekday.astype('category')"
   ]
  },
  {
   "cell_type": "code",
   "execution_count": 117,
   "metadata": {},
   "outputs": [
    {
     "name": "stdout",
     "output_type": "stream",
     "text": [
      "Int64Index([0, 1, 2, 3, 4, 5, 6], dtype='int64')\n"
     ]
    }
   ],
   "source": [
    "print(move['weekday'].cat.categories)"
   ]
  },
  {
   "cell_type": "code",
   "execution_count": 118,
   "metadata": {},
   "outputs": [],
   "source": [
    "move.weekday.cat.categories = ['1','2','3','4','5','6','7']"
   ]
  },
  {
   "cell_type": "code",
   "execution_count": 119,
   "metadata": {},
   "outputs": [],
   "source": [
    "move['sexdstn_se_code'].replace(['M','F'],[0,1],inplace=True)"
   ]
  },
  {
   "cell_type": "code",
   "execution_count": 120,
   "metadata": {},
   "outputs": [],
   "source": [
    "move['agrde_se_code']= move.agrde_se_code.astype('category')"
   ]
  },
  {
   "cell_type": "code",
   "execution_count": 121,
   "metadata": {},
   "outputs": [
    {
     "name": "stdout",
     "output_type": "stream",
     "text": [
      "Index(['age_00', 'age_10', 'age_15', 'age_20', 'age_25', 'age_30', 'age_35',\n",
      "       'age_40', 'age_45', 'age_50', 'age_55', 'age_60', 'age_65', 'age_70'],\n",
      "      dtype='object')\n"
     ]
    }
   ],
   "source": [
    "print(move['agrde_se_code'].cat.categories)"
   ]
  },
  {
   "cell_type": "code",
   "execution_count": 122,
   "metadata": {},
   "outputs": [],
   "source": [
    "move.agrde_se_code.cat.categories = ['00','10','15','20','25','30','35','40','45','50','55','60','65','70']"
   ]
  },
  {
   "cell_type": "code",
   "execution_count": 123,
   "metadata": {},
   "outputs": [
    {
     "data": {
      "text/html": [
       "<div>\n",
       "<style scoped>\n",
       "    .dataframe tbody tr th:only-of-type {\n",
       "        vertical-align: middle;\n",
       "    }\n",
       "\n",
       "    .dataframe tbody tr th {\n",
       "        vertical-align: top;\n",
       "    }\n",
       "\n",
       "    .dataframe thead th {\n",
       "        text-align: right;\n",
       "    }\n",
       "</style>\n",
       "<table border=\"1\" class=\"dataframe\">\n",
       "  <thead>\n",
       "    <tr style=\"text-align: right;\">\n",
       "      <th></th>\n",
       "      <th>tmzon_se_code</th>\n",
       "      <th>sexdstn_se_code</th>\n",
       "      <th>agrde_se_code</th>\n",
       "      <th>adstrd_code</th>\n",
       "      <th>popltn_cascnt</th>\n",
       "      <th>month</th>\n",
       "      <th>day</th>\n",
       "      <th>weekday</th>\n",
       "      <th>adstrd_nm</th>\n",
       "      <th>signgu_nm</th>\n",
       "    </tr>\n",
       "    <tr>\n",
       "      <th>receipt_dttm</th>\n",
       "      <th></th>\n",
       "      <th></th>\n",
       "      <th></th>\n",
       "      <th></th>\n",
       "      <th></th>\n",
       "      <th></th>\n",
       "      <th></th>\n",
       "      <th></th>\n",
       "      <th></th>\n",
       "      <th></th>\n",
       "    </tr>\n",
       "  </thead>\n",
       "  <tbody>\n",
       "    <tr>\n",
       "      <th>2020-01-01 00:00:00+00:00</th>\n",
       "      <td>0</td>\n",
       "      <td>0</td>\n",
       "      <td>00</td>\n",
       "      <td>11650560</td>\n",
       "      <td>15</td>\n",
       "      <td>1</td>\n",
       "      <td>1</td>\n",
       "      <td>3</td>\n",
       "      <td>반포1동</td>\n",
       "      <td>서초구</td>\n",
       "    </tr>\n",
       "    <tr>\n",
       "      <th>2020-01-01 00:00:00+00:00</th>\n",
       "      <td>16</td>\n",
       "      <td>1</td>\n",
       "      <td>00</td>\n",
       "      <td>11650560</td>\n",
       "      <td>54</td>\n",
       "      <td>1</td>\n",
       "      <td>1</td>\n",
       "      <td>3</td>\n",
       "      <td>반포1동</td>\n",
       "      <td>서초구</td>\n",
       "    </tr>\n",
       "    <tr>\n",
       "      <th>2020-01-01 00:00:00+00:00</th>\n",
       "      <td>16</td>\n",
       "      <td>0</td>\n",
       "      <td>00</td>\n",
       "      <td>11650560</td>\n",
       "      <td>24</td>\n",
       "      <td>1</td>\n",
       "      <td>1</td>\n",
       "      <td>3</td>\n",
       "      <td>반포1동</td>\n",
       "      <td>서초구</td>\n",
       "    </tr>\n",
       "    <tr>\n",
       "      <th>2020-01-01 00:00:00+00:00</th>\n",
       "      <td>16</td>\n",
       "      <td>0</td>\n",
       "      <td>10</td>\n",
       "      <td>11650560</td>\n",
       "      <td>150</td>\n",
       "      <td>1</td>\n",
       "      <td>1</td>\n",
       "      <td>3</td>\n",
       "      <td>반포1동</td>\n",
       "      <td>서초구</td>\n",
       "    </tr>\n",
       "    <tr>\n",
       "      <th>2020-01-01 00:00:00+00:00</th>\n",
       "      <td>16</td>\n",
       "      <td>1</td>\n",
       "      <td>10</td>\n",
       "      <td>11650560</td>\n",
       "      <td>171</td>\n",
       "      <td>1</td>\n",
       "      <td>1</td>\n",
       "      <td>3</td>\n",
       "      <td>반포1동</td>\n",
       "      <td>서초구</td>\n",
       "    </tr>\n",
       "  </tbody>\n",
       "</table>\n",
       "</div>"
      ],
      "text/plain": [
       "                           tmzon_se_code  sexdstn_se_code agrde_se_code  \\\n",
       "receipt_dttm                                                              \n",
       "2020-01-01 00:00:00+00:00              0                0            00   \n",
       "2020-01-01 00:00:00+00:00             16                1            00   \n",
       "2020-01-01 00:00:00+00:00             16                0            00   \n",
       "2020-01-01 00:00:00+00:00             16                0            10   \n",
       "2020-01-01 00:00:00+00:00             16                1            10   \n",
       "\n",
       "                           adstrd_code  popltn_cascnt  month  day weekday  \\\n",
       "receipt_dttm                                                                \n",
       "2020-01-01 00:00:00+00:00     11650560             15      1    1       3   \n",
       "2020-01-01 00:00:00+00:00     11650560             54      1    1       3   \n",
       "2020-01-01 00:00:00+00:00     11650560             24      1    1       3   \n",
       "2020-01-01 00:00:00+00:00     11650560            150      1    1       3   \n",
       "2020-01-01 00:00:00+00:00     11650560            171      1    1       3   \n",
       "\n",
       "                          adstrd_nm signgu_nm  \n",
       "receipt_dttm                                   \n",
       "2020-01-01 00:00:00+00:00      반포1동       서초구  \n",
       "2020-01-01 00:00:00+00:00      반포1동       서초구  \n",
       "2020-01-01 00:00:00+00:00      반포1동       서초구  \n",
       "2020-01-01 00:00:00+00:00      반포1동       서초구  \n",
       "2020-01-01 00:00:00+00:00      반포1동       서초구  "
      ]
     },
     "execution_count": 123,
     "metadata": {},
     "output_type": "execute_result"
    }
   ],
   "source": [
    "move.head()"
   ]
  },
  {
   "cell_type": "code",
   "execution_count": 124,
   "metadata": {},
   "outputs": [],
   "source": [
    "movpop = pd.DataFrame(move.groupby(by = ('receipt_dttm'))['popltn_cascnt'].sum())\n",
    "movpop.reset_index(inplace = True)"
   ]
  },
  {
   "cell_type": "code",
   "execution_count": 125,
   "metadata": {},
   "outputs": [
    {
     "data": {
      "text/html": [
       "<div>\n",
       "<style scoped>\n",
       "    .dataframe tbody tr th:only-of-type {\n",
       "        vertical-align: middle;\n",
       "    }\n",
       "\n",
       "    .dataframe tbody tr th {\n",
       "        vertical-align: top;\n",
       "    }\n",
       "\n",
       "    .dataframe thead th {\n",
       "        text-align: right;\n",
       "    }\n",
       "</style>\n",
       "<table border=\"1\" class=\"dataframe\">\n",
       "  <thead>\n",
       "    <tr style=\"text-align: right;\">\n",
       "      <th></th>\n",
       "      <th>receipt_dttm</th>\n",
       "      <th>popltn_cascnt</th>\n",
       "    </tr>\n",
       "  </thead>\n",
       "  <tbody>\n",
       "    <tr>\n",
       "      <th>0</th>\n",
       "      <td>2020-01-01 00:00:00+00:00</td>\n",
       "      <td>45208028</td>\n",
       "    </tr>\n",
       "    <tr>\n",
       "      <th>1</th>\n",
       "      <td>2020-01-02 00:00:00+00:00</td>\n",
       "      <td>55749874</td>\n",
       "    </tr>\n",
       "    <tr>\n",
       "      <th>2</th>\n",
       "      <td>2020-01-03 00:00:00+00:00</td>\n",
       "      <td>59151121</td>\n",
       "    </tr>\n",
       "    <tr>\n",
       "      <th>3</th>\n",
       "      <td>2020-01-04 00:00:00+00:00</td>\n",
       "      <td>54474173</td>\n",
       "    </tr>\n",
       "    <tr>\n",
       "      <th>4</th>\n",
       "      <td>2020-01-05 00:00:00+00:00</td>\n",
       "      <td>46903976</td>\n",
       "    </tr>\n",
       "  </tbody>\n",
       "</table>\n",
       "</div>"
      ],
      "text/plain": [
       "               receipt_dttm  popltn_cascnt\n",
       "0 2020-01-01 00:00:00+00:00       45208028\n",
       "1 2020-01-02 00:00:00+00:00       55749874\n",
       "2 2020-01-03 00:00:00+00:00       59151121\n",
       "3 2020-01-04 00:00:00+00:00       54474173\n",
       "4 2020-01-05 00:00:00+00:00       46903976"
      ]
     },
     "execution_count": 125,
     "metadata": {},
     "output_type": "execute_result"
    }
   ],
   "source": [
    "movpop.head()"
   ]
  },
  {
   "cell_type": "code",
   "execution_count": 126,
   "metadata": {},
   "outputs": [
    {
     "name": "stderr",
     "output_type": "stream",
     "text": [
      "No handles with labels found to put in legend.\n"
     ]
    },
    {
     "data": {
      "text/plain": [
       "<matplotlib.legend.Legend at 0x27e164b7198>"
      ]
     },
     "execution_count": 126,
     "metadata": {},
     "output_type": "execute_result"
    },
    {
     "data": {
      "image/png": "[encoded data removed]",
      "text/plain": [
       "<Figure size 720x360 with 1 Axes>"
      ]
     },
     "metadata": {
      "needs_background": "light"
     },
     "output_type": "display_data"
    }
   ],
   "source": [
    "# 코로나 19 발병 이후 유동인구가 감소하다가 3월을 기점으로 점차 유동인구가 증가하고 있는 것을 볼 수 있다. \n",
    "\n",
    "plt.figure(figsize=(10,5))\n",
    "sns.lineplot(data=movpop,x=\"receipt_dttm\",y=\"popltn_cascnt\")\n",
    "plt.legend(bbox_to_anchor=(1.02,1),loc=2,borderaxespad=0.)"
   ]
  },
  {
   "cell_type": "markdown",
   "metadata": {},
   "source": [
    "## 배달 데이터"
   ]
  },
  {
   "cell_type": "markdown",
   "metadata": {},
   "source": [
    "### 변수\n",
    "\n",
    "1. SERIAL_NUMBER: 순번\n",
    "    \n",
    "2. PROCESS_DT: 처리 일시\n",
    "\n",
    "3. DLVR_RQESTER_ID: 배달요청업체 ID\n",
    "\n",
    "4. DLVR_REQUST_STTUS_VALUE: 배달요청상태값 (1:완료, 2:취소, 3:사고, 4:문의)\n",
    "\n",
    "5. DLVR_STORE_INDUTY_NM: 배달상점 업종이름\n",
    "    \n",
    "6. DLVR_RCEPT_CMPNY_ID: 배달접수회사 ID\n",
    "    \n",
    "7. DLVR_STORE_ID: 배달상점ID\n",
    "    \n",
    "8. DLVR_STORE_INDUTY_NM: 배달상점 업종이름\n",
    "    \n",
    "9. DLVR_STORE_LEGALDONG_CODE: 배달상점 주소 법정동코드\n",
    "\n",
    "10. GOODS_AMOUNT: 배달상품금액\n",
    "    \n",
    "11. SETLE_KND_VALUE: 결제종류번호 (1:카드, 2:선불, 3:현금)"
   ]
  },
  {
   "cell_type": "code",
   "execution_count": null,
   "metadata": {},
   "outputs": [],
   "source": [
    "delivery=pd.read_csv('C:/jupyter_project/CORONA/delivery.csv',dtype={'CODE':np.str})\n",
    "delivery = delivery[delivery['DLVR_REQUST_STTUS_VALUE'] == 1] #배달이 완료된 행만 추출\n",
    "delivery.reset_index(drop = True, inplace = True)\n",
    "delivery_columns = ['PROCESS_DT', 'DLVR_STORE_INDUTY_NM', 'DLVR_STORE_SIDO', 'GOODS_AMOUNT', 'SETLE_KND_VALUE']\n",
    "delivery_need = delivery[delivery_columns]"
   ]
  },
  {
   "cell_type": "code",
   "execution_count": null,
   "metadata": {},
   "outputs": [],
   "source": [
    "delivery.head()"
   ]
  },
  {
   "cell_type": "code",
   "execution_count": null,
   "metadata": {},
   "outputs": [],
   "source": [
    "# 주문 비용이나 주문수량이 많은 경우 이상치로 제거\n",
    "\n",
    "def outlier_iqr(data):\n",
    "    q1, q3 = np.percentile(data, [25, 75])\n",
    "    iqr = q3 - q1\n",
    "    lower_bound = q1 - (iqr * 1.5)\n",
    "    upper_bound = q3 + (iqr * 1.5)\n",
    "    \n",
    "    return np.where((data > upper_bound) | (data < lower_bound))"
   ]
  },
  {
   "cell_type": "code",
   "execution_count": null,
   "metadata": {},
   "outputs": [],
   "source": [
    "delivery_outlier_index = outlier_iqr(delivery_need['GOODS_AMOUNT'])[0]\n",
    "delivery_not_outlier_index = []\n",
    "for i in delivery_need.index:\n",
    "    if i not in delivery_outlier_index:\n",
    "        delivery_not_outlier_index.append(i)\n",
    "delivery_clean = delivery_need.loc[delivery_not_outlier_index]\n",
    "delivery_clean.reset_index(drop = True, inplace= True)"
   ]
  }
 ],
 "metadata": {
  "kernelspec": {
   "display_name": "Python 3",
   "language": "python",
   "name": "python3"
  },
  "language_info": {
   "codemirror_mode": {
    "name": "ipython",
    "version": 3
   },
   "file_extension": ".py",
   "mimetype": "text/x-python",
   "name": "python",
   "nbconvert_exporter": "python",
   "pygments_lexer": "ipython3",
   "version": "3.6.10"
  }
 },
 "nbformat": 4,
 "nbformat_minor": 4
}
